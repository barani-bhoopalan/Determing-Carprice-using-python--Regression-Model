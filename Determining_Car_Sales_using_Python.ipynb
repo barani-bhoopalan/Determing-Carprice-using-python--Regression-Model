{
  "nbformat": 4,
  "nbformat_minor": 0,
  "metadata": {
    "colab": {
      "name": "Determining Car Sales using Python.ipynb",
      "provenance": [],
      "collapsed_sections": [
        "dgzqFgl5j1Wo",
        "hll9F37L2i3j",
        "hIs8I7mNp1nP"
      ],
      "toc_visible": true,
      "authorship_tag": "ABX9TyPJ8RYcNH0yhz5OTj5kBo/o",
      "include_colab_link": true
    },
    "kernelspec": {
      "name": "python3",
      "display_name": "Python 3"
    },
    "widgets": {
      "application/vnd.jupyter.widget-state+json": {
        "8a0c9955fcb74e42ae3c24b351ccadf2": {
          "model_module": "@jupyter-widgets/controls",
          "model_name": "VBoxModel",
          "state": {
            "_view_name": "VBoxView",
            "_dom_classes": [
              "widget-interact"
            ],
            "_model_name": "VBoxModel",
            "_view_module": "@jupyter-widgets/controls",
            "_model_module_version": "1.5.0",
            "_view_count": null,
            "_view_module_version": "1.5.0",
            "box_style": "",
            "layout": "IPY_MODEL_7126f6770a6e483ab89ed928a9ade659",
            "_model_module": "@jupyter-widgets/controls",
            "children": [
              "IPY_MODEL_c0f195b7a800424e873e3ec915cc4a22",
              "IPY_MODEL_cca74cc9e7fa4061a145f487ec8f5174",
              "IPY_MODEL_6117f4a2038e43b883bb588ece9325fe"
            ]
          }
        },
        "7126f6770a6e483ab89ed928a9ade659": {
          "model_module": "@jupyter-widgets/base",
          "model_name": "LayoutModel",
          "state": {
            "_view_name": "LayoutView",
            "grid_template_rows": null,
            "right": null,
            "justify_content": null,
            "_view_module": "@jupyter-widgets/base",
            "overflow": null,
            "_model_module_version": "1.2.0",
            "_view_count": null,
            "flex_flow": null,
            "width": null,
            "min_width": null,
            "border": null,
            "align_items": null,
            "bottom": null,
            "_model_module": "@jupyter-widgets/base",
            "top": null,
            "grid_column": null,
            "overflow_y": null,
            "overflow_x": null,
            "grid_auto_flow": null,
            "grid_area": null,
            "grid_template_columns": null,
            "flex": null,
            "_model_name": "LayoutModel",
            "justify_items": null,
            "grid_row": null,
            "max_height": null,
            "align_content": null,
            "visibility": null,
            "align_self": null,
            "height": null,
            "min_height": null,
            "padding": null,
            "grid_auto_rows": null,
            "grid_gap": null,
            "max_width": null,
            "order": null,
            "_view_module_version": "1.2.0",
            "grid_template_areas": null,
            "object_position": null,
            "object_fit": null,
            "grid_auto_columns": null,
            "margin": null,
            "display": null,
            "left": null
          }
        },
        "c0f195b7a800424e873e3ec915cc4a22": {
          "model_module": "@jupyter-widgets/controls",
          "model_name": "IntSliderModel",
          "state": {
            "_view_name": "IntSliderView",
            "style": "IPY_MODEL_aa16512d25f44096a84b6c1eabe06b46",
            "_dom_classes": [],
            "description": "order",
            "step": 1,
            "_model_name": "IntSliderModel",
            "orientation": "horizontal",
            "max": 6,
            "_view_module": "@jupyter-widgets/controls",
            "_model_module_version": "1.5.0",
            "value": 3,
            "_view_count": null,
            "disabled": false,
            "_view_module_version": "1.5.0",
            "min": 0,
            "continuous_update": true,
            "readout_format": "d",
            "description_tooltip": null,
            "readout": true,
            "_model_module": "@jupyter-widgets/controls",
            "layout": "IPY_MODEL_e214c556f9154f5b859d5da8b6583317"
          }
        },
        "cca74cc9e7fa4061a145f487ec8f5174": {
          "model_module": "@jupyter-widgets/controls",
          "model_name": "FloatSliderModel",
          "state": {
            "_view_name": "FloatSliderView",
            "style": "IPY_MODEL_6fd8cfd6633040818fed37883d70de2c",
            "_dom_classes": [],
            "description": "test_data",
            "step": 0.05,
            "_model_name": "FloatSliderModel",
            "orientation": "horizontal",
            "max": 0.95,
            "_view_module": "@jupyter-widgets/controls",
            "_model_module_version": "1.5.0",
            "value": 0.45,
            "_view_count": null,
            "disabled": false,
            "_view_module_version": "1.5.0",
            "min": 0.05,
            "continuous_update": true,
            "readout_format": ".2f",
            "description_tooltip": null,
            "readout": true,
            "_model_module": "@jupyter-widgets/controls",
            "layout": "IPY_MODEL_e4bc37a08f7d46b990fd37fd588f1ae2"
          }
        },
        "6117f4a2038e43b883bb588ece9325fe": {
          "model_module": "@jupyter-widgets/output",
          "model_name": "OutputModel",
          "state": {
            "_view_name": "OutputView",
            "msg_id": "",
            "_dom_classes": [],
            "_model_name": "OutputModel",
            "outputs": [
              {
                "output_type": "display_data",
                "metadata": {
                  "tags": [],
                  "needs_background": "light"
                },
                "image/png": "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\n",
                "text/plain": "<Figure size 864x720 with 1 Axes>"
              }
            ],
            "_view_module": "@jupyter-widgets/output",
            "_model_module_version": "1.0.0",
            "_view_count": null,
            "_view_module_version": "1.0.0",
            "layout": "IPY_MODEL_44db2e39e45e4d5f84666fc8488b2afa",
            "_model_module": "@jupyter-widgets/output"
          }
        },
        "aa16512d25f44096a84b6c1eabe06b46": {
          "model_module": "@jupyter-widgets/controls",
          "model_name": "SliderStyleModel",
          "state": {
            "_view_name": "StyleView",
            "handle_color": null,
            "_model_name": "SliderStyleModel",
            "description_width": "",
            "_view_module": "@jupyter-widgets/base",
            "_model_module_version": "1.5.0",
            "_view_count": null,
            "_view_module_version": "1.2.0",
            "_model_module": "@jupyter-widgets/controls"
          }
        },
        "e214c556f9154f5b859d5da8b6583317": {
          "model_module": "@jupyter-widgets/base",
          "model_name": "LayoutModel",
          "state": {
            "_view_name": "LayoutView",
            "grid_template_rows": null,
            "right": null,
            "justify_content": null,
            "_view_module": "@jupyter-widgets/base",
            "overflow": null,
            "_model_module_version": "1.2.0",
            "_view_count": null,
            "flex_flow": null,
            "width": null,
            "min_width": null,
            "border": null,
            "align_items": null,
            "bottom": null,
            "_model_module": "@jupyter-widgets/base",
            "top": null,
            "grid_column": null,
            "overflow_y": null,
            "overflow_x": null,
            "grid_auto_flow": null,
            "grid_area": null,
            "grid_template_columns": null,
            "flex": null,
            "_model_name": "LayoutModel",
            "justify_items": null,
            "grid_row": null,
            "max_height": null,
            "align_content": null,
            "visibility": null,
            "align_self": null,
            "height": null,
            "min_height": null,
            "padding": null,
            "grid_auto_rows": null,
            "grid_gap": null,
            "max_width": null,
            "order": null,
            "_view_module_version": "1.2.0",
            "grid_template_areas": null,
            "object_position": null,
            "object_fit": null,
            "grid_auto_columns": null,
            "margin": null,
            "display": null,
            "left": null
          }
        },
        "6fd8cfd6633040818fed37883d70de2c": {
          "model_module": "@jupyter-widgets/controls",
          "model_name": "SliderStyleModel",
          "state": {
            "_view_name": "StyleView",
            "handle_color": null,
            "_model_name": "SliderStyleModel",
            "description_width": "",
            "_view_module": "@jupyter-widgets/base",
            "_model_module_version": "1.5.0",
            "_view_count": null,
            "_view_module_version": "1.2.0",
            "_model_module": "@jupyter-widgets/controls"
          }
        },
        "e4bc37a08f7d46b990fd37fd588f1ae2": {
          "model_module": "@jupyter-widgets/base",
          "model_name": "LayoutModel",
          "state": {
            "_view_name": "LayoutView",
            "grid_template_rows": null,
            "right": null,
            "justify_content": null,
            "_view_module": "@jupyter-widgets/base",
            "overflow": null,
            "_model_module_version": "1.2.0",
            "_view_count": null,
            "flex_flow": null,
            "width": null,
            "min_width": null,
            "border": null,
            "align_items": null,
            "bottom": null,
            "_model_module": "@jupyter-widgets/base",
            "top": null,
            "grid_column": null,
            "overflow_y": null,
            "overflow_x": null,
            "grid_auto_flow": null,
            "grid_area": null,
            "grid_template_columns": null,
            "flex": null,
            "_model_name": "LayoutModel",
            "justify_items": null,
            "grid_row": null,
            "max_height": null,
            "align_content": null,
            "visibility": null,
            "align_self": null,
            "height": null,
            "min_height": null,
            "padding": null,
            "grid_auto_rows": null,
            "grid_gap": null,
            "max_width": null,
            "order": null,
            "_view_module_version": "1.2.0",
            "grid_template_areas": null,
            "object_position": null,
            "object_fit": null,
            "grid_auto_columns": null,
            "margin": null,
            "display": null,
            "left": null
          }
        },
        "44db2e39e45e4d5f84666fc8488b2afa": {
          "model_module": "@jupyter-widgets/base",
          "model_name": "LayoutModel",
          "state": {
            "_view_name": "LayoutView",
            "grid_template_rows": null,
            "right": null,
            "justify_content": null,
            "_view_module": "@jupyter-widgets/base",
            "overflow": null,
            "_model_module_version": "1.2.0",
            "_view_count": null,
            "flex_flow": null,
            "width": null,
            "min_width": null,
            "border": null,
            "align_items": null,
            "bottom": null,
            "_model_module": "@jupyter-widgets/base",
            "top": null,
            "grid_column": null,
            "overflow_y": null,
            "overflow_x": null,
            "grid_auto_flow": null,
            "grid_area": null,
            "grid_template_columns": null,
            "flex": null,
            "_model_name": "LayoutModel",
            "justify_items": null,
            "grid_row": null,
            "max_height": null,
            "align_content": null,
            "visibility": null,
            "align_self": null,
            "height": null,
            "min_height": null,
            "padding": null,
            "grid_auto_rows": null,
            "grid_gap": null,
            "max_width": null,
            "order": null,
            "_view_module_version": "1.2.0",
            "grid_template_areas": null,
            "object_position": null,
            "object_fit": null,
            "grid_auto_columns": null,
            "margin": null,
            "display": null,
            "left": null
          }
        }
      }
    }
  },
  "cells": [
    {
      "cell_type": "markdown",
      "metadata": {
        "id": "view-in-github",
        "colab_type": "text"
      },
      "source": [
        "<a href=\"https://colab.research.google.com/github/barani-bhoopalan/Determing-Carprice-using-python--Regression-Model/blob/master/Determining_Car_Sales_using_Python.ipynb\" target=\"_parent\"><img src=\"https://colab.research.google.com/assets/colab-badge.svg\" alt=\"Open In Colab\"/></a>"
      ]
    },
    {
      "cell_type": "markdown",
      "metadata": {
        "id": "J6rTvgg4pZnA",
        "colab_type": "text"
      },
      "source": [
        "## Determining car sales value using Python \n",
        "\n",
        "Suppose we want to sell a car. We want to sell it at a good price. Not too low that we are at a loss. Also, not too high that no one buys it. To put a reasonable price on car think as a data analyst. Is there any data on car sales available? Does this data relate prices with the characteristics of the car? Which car feature mainly decides the price of the car? These are some of the questions on the lines of which a data analyst will start working towards a solution.\n",
        "\n",
        "1. Title: 1985 Auto Imports Database\n",
        "\n",
        "2. Source Information:\n",
        "   -- Creator/Donor: Jeffrey C. Schlimmer (Jeffrey.Schlimmer@a.gp.cs.cmu.edu)\n",
        "   -- Date: 19 May 1987\n",
        "   -- Sources:\n",
        "     1) 1985 Model Import Car and Truck Specifications, 1985 Ward's\n",
        "        Automotive Yearbook.\n",
        "     2) Personal Auto Manuals, Insurance Services Office, 160 Water\n",
        "        Street, New York, NY 10038 \n",
        "     3) Insurance Collision Report, Insurance Institute for Highway\n",
        "        Safety, Watergate 600, Washington, DC 20037\n",
        "\n",
        "        5. Number of Instances: 205\n",
        "\n",
        "6. Number of Attributes: 26 total\n",
        "   -- 15 continuous\n",
        "   -- 1 integer\n",
        "   -- 10 nominal\n",
        "\n",
        "7. Attribute Information:     \n",
        "     Attribute:                Attribute Range:\n",
        "     ------------------        -----------------------------------------------\n",
        "  1. symboling:                -3, -2, -1, 0, 1, 2, 3. \n",
        "  (Cars are initially     assigned a risk factor symbol associated with its    price. Then, if it is more risky (or less), this symbol is adjusted by moving it up (or down) the scale. Actuarians call this process \"symboling\". A value of +3 indicates that the auto is risky, -3 that it is probably pretty safe.)\n",
        "  2. normalized-losses:        continuous from 65 to 256.\n",
        "  3. make:                     alfa-romero, audi, bmw, chevrolet, dodge, honda,\n",
        "                               isuzu, jaguar, mazda, mercedes-benz, mercury,\n",
        "                               mitsubishi, nissan, peugot, plymouth, porsche,\n",
        "                               renault, saab, subaru, toyota, volkswagen, volvo\n",
        "  4. fuel-type:                diesel, gas.\n",
        "  5. aspiration:               std, turbo.\n",
        "  6. num-of-doors:             four, two.\n",
        "  7. body-style:               hardtop, wagon, sedan, hatchback, convertible.\n",
        "  8. drive-wheels:             4wd, fwd, rwd.\n",
        "  9. engine-location:          front, rear.\n",
        " 10. wheel-base:               continuous from 86.6 120.9.\n",
        " 11. length:                   continuous from 141.1 to 208.1.\n",
        " 12. width:                    continuous from 60.3 to 72.3.\n",
        " 13. height:                   continuous from 47.8 to 59.8.\n",
        " 14. curb-weight:              continuous from 1488 to 4066.\n",
        " 15. engine-type:              dohc, dohcv, l, ohc, ohcf, ohcv, rotor.\n",
        " 16. num-of-cylinders:         eight, five, four, six, three, twelve, two.\n",
        " 17. engine-size:              continuous from 61 to 326.\n",
        " 18. fuel-system:              1bbl, 2bbl, 4bbl, idi, mfi, mpfi, spdi, spfi.\n",
        " 19. bore:                     continuous from 2.54 to 3.94.\n",
        " 20. stroke:                   continuous from 2.07 to 4.17.\n",
        " 21. compression-ratio:        continuous from 7 to 23.\n",
        " 22. horsepower:               continuous from 48 to 288.\n",
        " 23. peak-rpm:                 continuous from 4150 to 6600.\n",
        " 24. city-mpg:                 continuous from 13 to 49.\n",
        " 25. highway-mpg:              continuous from 16 to 54.\n",
        " 26. price:                    continuous from 5118 to 45400.\n"
      ]
    },
    {
      "cell_type": "markdown",
      "metadata": {
        "id": "dgzqFgl5j1Wo",
        "colab_type": "text"
      },
      "source": [
        "## 1. Data Acquisition\n",
        "There are various formats for a dataset, .csv, .json, .xlsx etc. The dataset can be stored in different places, on your local machine or sometimes online.\n",
        "\n",
        "Import data\n",
        "You can find the \"Automobile Data Set\" from the following link: https://archive.ics.uci.edu/ml/machine-learning-databases/autos/imports-85.data. We will be using this data set throughout this course."
      ]
    },
    {
      "cell_type": "code",
      "metadata": {
        "id": "AzU7RUdfpZAE",
        "colab_type": "code",
        "colab": {}
      },
      "source": [
        "import pandas as pd\n",
        "import matplotlib.pylab as plt"
      ],
      "execution_count": 153,
      "outputs": []
    },
    {
      "cell_type": "code",
      "metadata": {
        "id": "F-OvIYHFmucY",
        "colab_type": "code",
        "colab": {}
      },
      "source": [
        "#Reading the data set from the URL and adding the related headers.\n",
        "#URL of the dataset\n",
        "\n",
        "filename = \"https://s3-api.us-geo.objectstorage.softlayer.net/cf-courses-data/CognitiveClass/DA0101EN/auto.csv\"\n",
        "\n",
        "\n",
        "headers = [\"symboling\",\"normalized-losses\",\"make\",\"fuel-type\",\"aspiration\", \"num-of-doors\",\"body-style\",\n",
        "         \"drive-wheels\",\"engine-location\",\"wheel-base\", \"length\",\"width\",\"height\",\"curb-weight\",\"engine-type\",\n",
        "         \"num-of-cylinders\", \"engine-size\",\"fuel-system\",\"bore\",\"stroke\",\"compression-ratio\",\"horsepower\",\n",
        "         \"peak-rpm\",\"city-mpg\",\"highway-mpg\",\"price\"]"
      ],
      "execution_count": 154,
      "outputs": []
    },
    {
      "cell_type": "code",
      "metadata": {
        "id": "65U_LXLeo6sw",
        "colab_type": "code",
        "colab": {
          "base_uri": "https://localhost:8080/",
          "height": 309
        },
        "outputId": "cd302f9b-dc7d-40bb-d114-2341314eb376"
      },
      "source": [
        "#Use the Pandas method read_csv() to load the data from the web address. Set the parameter \"names\" equal to the Python list \"headers\".\n",
        "\n",
        "df = pd.read_csv(filename, names = headers)\n",
        "df.head()"
      ],
      "execution_count": 155,
      "outputs": [
        {
          "output_type": "execute_result",
          "data": {
            "text/html": [
              "<div>\n",
              "<style scoped>\n",
              "    .dataframe tbody tr th:only-of-type {\n",
              "        vertical-align: middle;\n",
              "    }\n",
              "\n",
              "    .dataframe tbody tr th {\n",
              "        vertical-align: top;\n",
              "    }\n",
              "\n",
              "    .dataframe thead th {\n",
              "        text-align: right;\n",
              "    }\n",
              "</style>\n",
              "<table border=\"1\" class=\"dataframe\">\n",
              "  <thead>\n",
              "    <tr style=\"text-align: right;\">\n",
              "      <th></th>\n",
              "      <th>symboling</th>\n",
              "      <th>normalized-losses</th>\n",
              "      <th>make</th>\n",
              "      <th>fuel-type</th>\n",
              "      <th>aspiration</th>\n",
              "      <th>num-of-doors</th>\n",
              "      <th>body-style</th>\n",
              "      <th>drive-wheels</th>\n",
              "      <th>engine-location</th>\n",
              "      <th>wheel-base</th>\n",
              "      <th>length</th>\n",
              "      <th>width</th>\n",
              "      <th>height</th>\n",
              "      <th>curb-weight</th>\n",
              "      <th>engine-type</th>\n",
              "      <th>num-of-cylinders</th>\n",
              "      <th>engine-size</th>\n",
              "      <th>fuel-system</th>\n",
              "      <th>bore</th>\n",
              "      <th>stroke</th>\n",
              "      <th>compression-ratio</th>\n",
              "      <th>horsepower</th>\n",
              "      <th>peak-rpm</th>\n",
              "      <th>city-mpg</th>\n",
              "      <th>highway-mpg</th>\n",
              "      <th>price</th>\n",
              "    </tr>\n",
              "  </thead>\n",
              "  <tbody>\n",
              "    <tr>\n",
              "      <th>0</th>\n",
              "      <td>3</td>\n",
              "      <td>?</td>\n",
              "      <td>alfa-romero</td>\n",
              "      <td>gas</td>\n",
              "      <td>std</td>\n",
              "      <td>two</td>\n",
              "      <td>convertible</td>\n",
              "      <td>rwd</td>\n",
              "      <td>front</td>\n",
              "      <td>88.6</td>\n",
              "      <td>168.8</td>\n",
              "      <td>64.1</td>\n",
              "      <td>48.8</td>\n",
              "      <td>2548</td>\n",
              "      <td>dohc</td>\n",
              "      <td>four</td>\n",
              "      <td>130</td>\n",
              "      <td>mpfi</td>\n",
              "      <td>3.47</td>\n",
              "      <td>2.68</td>\n",
              "      <td>9.0</td>\n",
              "      <td>111</td>\n",
              "      <td>5000</td>\n",
              "      <td>21</td>\n",
              "      <td>27</td>\n",
              "      <td>13495</td>\n",
              "    </tr>\n",
              "    <tr>\n",
              "      <th>1</th>\n",
              "      <td>3</td>\n",
              "      <td>?</td>\n",
              "      <td>alfa-romero</td>\n",
              "      <td>gas</td>\n",
              "      <td>std</td>\n",
              "      <td>two</td>\n",
              "      <td>convertible</td>\n",
              "      <td>rwd</td>\n",
              "      <td>front</td>\n",
              "      <td>88.6</td>\n",
              "      <td>168.8</td>\n",
              "      <td>64.1</td>\n",
              "      <td>48.8</td>\n",
              "      <td>2548</td>\n",
              "      <td>dohc</td>\n",
              "      <td>four</td>\n",
              "      <td>130</td>\n",
              "      <td>mpfi</td>\n",
              "      <td>3.47</td>\n",
              "      <td>2.68</td>\n",
              "      <td>9.0</td>\n",
              "      <td>111</td>\n",
              "      <td>5000</td>\n",
              "      <td>21</td>\n",
              "      <td>27</td>\n",
              "      <td>16500</td>\n",
              "    </tr>\n",
              "    <tr>\n",
              "      <th>2</th>\n",
              "      <td>1</td>\n",
              "      <td>?</td>\n",
              "      <td>alfa-romero</td>\n",
              "      <td>gas</td>\n",
              "      <td>std</td>\n",
              "      <td>two</td>\n",
              "      <td>hatchback</td>\n",
              "      <td>rwd</td>\n",
              "      <td>front</td>\n",
              "      <td>94.5</td>\n",
              "      <td>171.2</td>\n",
              "      <td>65.5</td>\n",
              "      <td>52.4</td>\n",
              "      <td>2823</td>\n",
              "      <td>ohcv</td>\n",
              "      <td>six</td>\n",
              "      <td>152</td>\n",
              "      <td>mpfi</td>\n",
              "      <td>2.68</td>\n",
              "      <td>3.47</td>\n",
              "      <td>9.0</td>\n",
              "      <td>154</td>\n",
              "      <td>5000</td>\n",
              "      <td>19</td>\n",
              "      <td>26</td>\n",
              "      <td>16500</td>\n",
              "    </tr>\n",
              "    <tr>\n",
              "      <th>3</th>\n",
              "      <td>2</td>\n",
              "      <td>164</td>\n",
              "      <td>audi</td>\n",
              "      <td>gas</td>\n",
              "      <td>std</td>\n",
              "      <td>four</td>\n",
              "      <td>sedan</td>\n",
              "      <td>fwd</td>\n",
              "      <td>front</td>\n",
              "      <td>99.8</td>\n",
              "      <td>176.6</td>\n",
              "      <td>66.2</td>\n",
              "      <td>54.3</td>\n",
              "      <td>2337</td>\n",
              "      <td>ohc</td>\n",
              "      <td>four</td>\n",
              "      <td>109</td>\n",
              "      <td>mpfi</td>\n",
              "      <td>3.19</td>\n",
              "      <td>3.40</td>\n",
              "      <td>10.0</td>\n",
              "      <td>102</td>\n",
              "      <td>5500</td>\n",
              "      <td>24</td>\n",
              "      <td>30</td>\n",
              "      <td>13950</td>\n",
              "    </tr>\n",
              "    <tr>\n",
              "      <th>4</th>\n",
              "      <td>2</td>\n",
              "      <td>164</td>\n",
              "      <td>audi</td>\n",
              "      <td>gas</td>\n",
              "      <td>std</td>\n",
              "      <td>four</td>\n",
              "      <td>sedan</td>\n",
              "      <td>4wd</td>\n",
              "      <td>front</td>\n",
              "      <td>99.4</td>\n",
              "      <td>176.6</td>\n",
              "      <td>66.4</td>\n",
              "      <td>54.3</td>\n",
              "      <td>2824</td>\n",
              "      <td>ohc</td>\n",
              "      <td>five</td>\n",
              "      <td>136</td>\n",
              "      <td>mpfi</td>\n",
              "      <td>3.19</td>\n",
              "      <td>3.40</td>\n",
              "      <td>8.0</td>\n",
              "      <td>115</td>\n",
              "      <td>5500</td>\n",
              "      <td>18</td>\n",
              "      <td>22</td>\n",
              "      <td>17450</td>\n",
              "    </tr>\n",
              "  </tbody>\n",
              "</table>\n",
              "</div>"
            ],
            "text/plain": [
              "   symboling normalized-losses         make  ... city-mpg highway-mpg  price\n",
              "0          3                 ?  alfa-romero  ...       21          27  13495\n",
              "1          3                 ?  alfa-romero  ...       21          27  16500\n",
              "2          1                 ?  alfa-romero  ...       19          26  16500\n",
              "3          2               164         audi  ...       24          30  13950\n",
              "4          2               164         audi  ...       18          22  17450\n",
              "\n",
              "[5 rows x 26 columns]"
            ]
          },
          "metadata": {
            "tags": []
          },
          "execution_count": 155
        }
      ]
    },
    {
      "cell_type": "markdown",
      "metadata": {
        "id": "hll9F37L2i3j",
        "colab_type": "text"
      },
      "source": [
        "## 2. Basic Insight of Dataset\n",
        "\n",
        "#### * Data Types\n",
        "Data has a variety of types.\n",
        "The main types stored in Pandas dataframes are object, float, int, bool and datetime64. \n"
      ]
    },
    {
      "cell_type": "code",
      "metadata": {
        "id": "WoZFsUg72nT-",
        "colab_type": "code",
        "colab": {
          "base_uri": "https://localhost:8080/",
          "height": 485
        },
        "outputId": "583cb132-0629-44f4-942b-21becd663e99"
      },
      "source": [
        "# check the data type of data frame \"df\" by .dtypes\n",
        "print(df.dtypes)"
      ],
      "execution_count": 156,
      "outputs": [
        {
          "output_type": "stream",
          "text": [
            "symboling              int64\n",
            "normalized-losses     object\n",
            "make                  object\n",
            "fuel-type             object\n",
            "aspiration            object\n",
            "num-of-doors          object\n",
            "body-style            object\n",
            "drive-wheels          object\n",
            "engine-location       object\n",
            "wheel-base           float64\n",
            "length               float64\n",
            "width                float64\n",
            "height               float64\n",
            "curb-weight            int64\n",
            "engine-type           object\n",
            "num-of-cylinders      object\n",
            "engine-size            int64\n",
            "fuel-system           object\n",
            "bore                  object\n",
            "stroke                object\n",
            "compression-ratio    float64\n",
            "horsepower            object\n",
            "peak-rpm              object\n",
            "city-mpg               int64\n",
            "highway-mpg            int64\n",
            "price                 object\n",
            "dtype: object\n"
          ],
          "name": "stdout"
        }
      ]
    },
    {
      "cell_type": "markdown",
      "metadata": {
        "id": "yUiW3uZO28Ve",
        "colab_type": "text"
      },
      "source": [
        "#### * Describe\n",
        "This shows the statistical summary of all numeric-typed (int, float) columns.\n",
        "For example, the attribute \"symboling\" has 205 counts, the mean value of this column is 0.83, the standard deviation is 1.25, the minimum value is -2, 25th percentile is 0, 50th percentile is 1, 75th percentile is 2, and the maximum value is 3.\n",
        "However, what if we would also like to check all the columns including those that are of type object.\n",
        "\n",
        "You can add an argument include = \"all\" inside the bracket. Let's try it again."
      ]
    },
    {
      "cell_type": "code",
      "metadata": {
        "id": "F08hcNpc2tK2",
        "colab_type": "code",
        "colab": {
          "base_uri": "https://localhost:8080/",
          "height": 441
        },
        "outputId": "2a7dcf40-d63f-44a8-ba24-dbeea8333c9c"
      },
      "source": [
        "#Describe - If we would like to get a statistical summary of each column, such as count, column mean value, column standard deviation, etc. We use the describe method:\n",
        "#only numeric\n",
        "df.describe()\n",
        "\n",
        "# describe all the columns in \"df\" \n",
        "#include both numerical and string values\n",
        "df.describe(include = \"all\")"
      ],
      "execution_count": 157,
      "outputs": [
        {
          "output_type": "execute_result",
          "data": {
            "text/html": [
              "<div>\n",
              "<style scoped>\n",
              "    .dataframe tbody tr th:only-of-type {\n",
              "        vertical-align: middle;\n",
              "    }\n",
              "\n",
              "    .dataframe tbody tr th {\n",
              "        vertical-align: top;\n",
              "    }\n",
              "\n",
              "    .dataframe thead th {\n",
              "        text-align: right;\n",
              "    }\n",
              "</style>\n",
              "<table border=\"1\" class=\"dataframe\">\n",
              "  <thead>\n",
              "    <tr style=\"text-align: right;\">\n",
              "      <th></th>\n",
              "      <th>symboling</th>\n",
              "      <th>normalized-losses</th>\n",
              "      <th>make</th>\n",
              "      <th>fuel-type</th>\n",
              "      <th>aspiration</th>\n",
              "      <th>num-of-doors</th>\n",
              "      <th>body-style</th>\n",
              "      <th>drive-wheels</th>\n",
              "      <th>engine-location</th>\n",
              "      <th>wheel-base</th>\n",
              "      <th>length</th>\n",
              "      <th>width</th>\n",
              "      <th>height</th>\n",
              "      <th>curb-weight</th>\n",
              "      <th>engine-type</th>\n",
              "      <th>num-of-cylinders</th>\n",
              "      <th>engine-size</th>\n",
              "      <th>fuel-system</th>\n",
              "      <th>bore</th>\n",
              "      <th>stroke</th>\n",
              "      <th>compression-ratio</th>\n",
              "      <th>horsepower</th>\n",
              "      <th>peak-rpm</th>\n",
              "      <th>city-mpg</th>\n",
              "      <th>highway-mpg</th>\n",
              "      <th>price</th>\n",
              "    </tr>\n",
              "  </thead>\n",
              "  <tbody>\n",
              "    <tr>\n",
              "      <th>count</th>\n",
              "      <td>205.000000</td>\n",
              "      <td>205</td>\n",
              "      <td>205</td>\n",
              "      <td>205</td>\n",
              "      <td>205</td>\n",
              "      <td>205</td>\n",
              "      <td>205</td>\n",
              "      <td>205</td>\n",
              "      <td>205</td>\n",
              "      <td>205.000000</td>\n",
              "      <td>205.000000</td>\n",
              "      <td>205.000000</td>\n",
              "      <td>205.000000</td>\n",
              "      <td>205.000000</td>\n",
              "      <td>205</td>\n",
              "      <td>205</td>\n",
              "      <td>205.000000</td>\n",
              "      <td>205</td>\n",
              "      <td>205</td>\n",
              "      <td>205</td>\n",
              "      <td>205.000000</td>\n",
              "      <td>205</td>\n",
              "      <td>205</td>\n",
              "      <td>205.000000</td>\n",
              "      <td>205.000000</td>\n",
              "      <td>205</td>\n",
              "    </tr>\n",
              "    <tr>\n",
              "      <th>unique</th>\n",
              "      <td>NaN</td>\n",
              "      <td>52</td>\n",
              "      <td>22</td>\n",
              "      <td>2</td>\n",
              "      <td>2</td>\n",
              "      <td>3</td>\n",
              "      <td>5</td>\n",
              "      <td>3</td>\n",
              "      <td>2</td>\n",
              "      <td>NaN</td>\n",
              "      <td>NaN</td>\n",
              "      <td>NaN</td>\n",
              "      <td>NaN</td>\n",
              "      <td>NaN</td>\n",
              "      <td>7</td>\n",
              "      <td>7</td>\n",
              "      <td>NaN</td>\n",
              "      <td>8</td>\n",
              "      <td>39</td>\n",
              "      <td>37</td>\n",
              "      <td>NaN</td>\n",
              "      <td>60</td>\n",
              "      <td>24</td>\n",
              "      <td>NaN</td>\n",
              "      <td>NaN</td>\n",
              "      <td>187</td>\n",
              "    </tr>\n",
              "    <tr>\n",
              "      <th>top</th>\n",
              "      <td>NaN</td>\n",
              "      <td>?</td>\n",
              "      <td>toyota</td>\n",
              "      <td>gas</td>\n",
              "      <td>std</td>\n",
              "      <td>four</td>\n",
              "      <td>sedan</td>\n",
              "      <td>fwd</td>\n",
              "      <td>front</td>\n",
              "      <td>NaN</td>\n",
              "      <td>NaN</td>\n",
              "      <td>NaN</td>\n",
              "      <td>NaN</td>\n",
              "      <td>NaN</td>\n",
              "      <td>ohc</td>\n",
              "      <td>four</td>\n",
              "      <td>NaN</td>\n",
              "      <td>mpfi</td>\n",
              "      <td>3.62</td>\n",
              "      <td>3.40</td>\n",
              "      <td>NaN</td>\n",
              "      <td>68</td>\n",
              "      <td>5500</td>\n",
              "      <td>NaN</td>\n",
              "      <td>NaN</td>\n",
              "      <td>?</td>\n",
              "    </tr>\n",
              "    <tr>\n",
              "      <th>freq</th>\n",
              "      <td>NaN</td>\n",
              "      <td>41</td>\n",
              "      <td>32</td>\n",
              "      <td>185</td>\n",
              "      <td>168</td>\n",
              "      <td>114</td>\n",
              "      <td>96</td>\n",
              "      <td>120</td>\n",
              "      <td>202</td>\n",
              "      <td>NaN</td>\n",
              "      <td>NaN</td>\n",
              "      <td>NaN</td>\n",
              "      <td>NaN</td>\n",
              "      <td>NaN</td>\n",
              "      <td>148</td>\n",
              "      <td>159</td>\n",
              "      <td>NaN</td>\n",
              "      <td>94</td>\n",
              "      <td>23</td>\n",
              "      <td>20</td>\n",
              "      <td>NaN</td>\n",
              "      <td>19</td>\n",
              "      <td>37</td>\n",
              "      <td>NaN</td>\n",
              "      <td>NaN</td>\n",
              "      <td>4</td>\n",
              "    </tr>\n",
              "    <tr>\n",
              "      <th>mean</th>\n",
              "      <td>0.834146</td>\n",
              "      <td>NaN</td>\n",
              "      <td>NaN</td>\n",
              "      <td>NaN</td>\n",
              "      <td>NaN</td>\n",
              "      <td>NaN</td>\n",
              "      <td>NaN</td>\n",
              "      <td>NaN</td>\n",
              "      <td>NaN</td>\n",
              "      <td>98.756585</td>\n",
              "      <td>174.049268</td>\n",
              "      <td>65.907805</td>\n",
              "      <td>53.724878</td>\n",
              "      <td>2555.565854</td>\n",
              "      <td>NaN</td>\n",
              "      <td>NaN</td>\n",
              "      <td>126.907317</td>\n",
              "      <td>NaN</td>\n",
              "      <td>NaN</td>\n",
              "      <td>NaN</td>\n",
              "      <td>10.142537</td>\n",
              "      <td>NaN</td>\n",
              "      <td>NaN</td>\n",
              "      <td>25.219512</td>\n",
              "      <td>30.751220</td>\n",
              "      <td>NaN</td>\n",
              "    </tr>\n",
              "    <tr>\n",
              "      <th>std</th>\n",
              "      <td>1.245307</td>\n",
              "      <td>NaN</td>\n",
              "      <td>NaN</td>\n",
              "      <td>NaN</td>\n",
              "      <td>NaN</td>\n",
              "      <td>NaN</td>\n",
              "      <td>NaN</td>\n",
              "      <td>NaN</td>\n",
              "      <td>NaN</td>\n",
              "      <td>6.021776</td>\n",
              "      <td>12.337289</td>\n",
              "      <td>2.145204</td>\n",
              "      <td>2.443522</td>\n",
              "      <td>520.680204</td>\n",
              "      <td>NaN</td>\n",
              "      <td>NaN</td>\n",
              "      <td>41.642693</td>\n",
              "      <td>NaN</td>\n",
              "      <td>NaN</td>\n",
              "      <td>NaN</td>\n",
              "      <td>3.972040</td>\n",
              "      <td>NaN</td>\n",
              "      <td>NaN</td>\n",
              "      <td>6.542142</td>\n",
              "      <td>6.886443</td>\n",
              "      <td>NaN</td>\n",
              "    </tr>\n",
              "    <tr>\n",
              "      <th>min</th>\n",
              "      <td>-2.000000</td>\n",
              "      <td>NaN</td>\n",
              "      <td>NaN</td>\n",
              "      <td>NaN</td>\n",
              "      <td>NaN</td>\n",
              "      <td>NaN</td>\n",
              "      <td>NaN</td>\n",
              "      <td>NaN</td>\n",
              "      <td>NaN</td>\n",
              "      <td>86.600000</td>\n",
              "      <td>141.100000</td>\n",
              "      <td>60.300000</td>\n",
              "      <td>47.800000</td>\n",
              "      <td>1488.000000</td>\n",
              "      <td>NaN</td>\n",
              "      <td>NaN</td>\n",
              "      <td>61.000000</td>\n",
              "      <td>NaN</td>\n",
              "      <td>NaN</td>\n",
              "      <td>NaN</td>\n",
              "      <td>7.000000</td>\n",
              "      <td>NaN</td>\n",
              "      <td>NaN</td>\n",
              "      <td>13.000000</td>\n",
              "      <td>16.000000</td>\n",
              "      <td>NaN</td>\n",
              "    </tr>\n",
              "    <tr>\n",
              "      <th>25%</th>\n",
              "      <td>0.000000</td>\n",
              "      <td>NaN</td>\n",
              "      <td>NaN</td>\n",
              "      <td>NaN</td>\n",
              "      <td>NaN</td>\n",
              "      <td>NaN</td>\n",
              "      <td>NaN</td>\n",
              "      <td>NaN</td>\n",
              "      <td>NaN</td>\n",
              "      <td>94.500000</td>\n",
              "      <td>166.300000</td>\n",
              "      <td>64.100000</td>\n",
              "      <td>52.000000</td>\n",
              "      <td>2145.000000</td>\n",
              "      <td>NaN</td>\n",
              "      <td>NaN</td>\n",
              "      <td>97.000000</td>\n",
              "      <td>NaN</td>\n",
              "      <td>NaN</td>\n",
              "      <td>NaN</td>\n",
              "      <td>8.600000</td>\n",
              "      <td>NaN</td>\n",
              "      <td>NaN</td>\n",
              "      <td>19.000000</td>\n",
              "      <td>25.000000</td>\n",
              "      <td>NaN</td>\n",
              "    </tr>\n",
              "    <tr>\n",
              "      <th>50%</th>\n",
              "      <td>1.000000</td>\n",
              "      <td>NaN</td>\n",
              "      <td>NaN</td>\n",
              "      <td>NaN</td>\n",
              "      <td>NaN</td>\n",
              "      <td>NaN</td>\n",
              "      <td>NaN</td>\n",
              "      <td>NaN</td>\n",
              "      <td>NaN</td>\n",
              "      <td>97.000000</td>\n",
              "      <td>173.200000</td>\n",
              "      <td>65.500000</td>\n",
              "      <td>54.100000</td>\n",
              "      <td>2414.000000</td>\n",
              "      <td>NaN</td>\n",
              "      <td>NaN</td>\n",
              "      <td>120.000000</td>\n",
              "      <td>NaN</td>\n",
              "      <td>NaN</td>\n",
              "      <td>NaN</td>\n",
              "      <td>9.000000</td>\n",
              "      <td>NaN</td>\n",
              "      <td>NaN</td>\n",
              "      <td>24.000000</td>\n",
              "      <td>30.000000</td>\n",
              "      <td>NaN</td>\n",
              "    </tr>\n",
              "    <tr>\n",
              "      <th>75%</th>\n",
              "      <td>2.000000</td>\n",
              "      <td>NaN</td>\n",
              "      <td>NaN</td>\n",
              "      <td>NaN</td>\n",
              "      <td>NaN</td>\n",
              "      <td>NaN</td>\n",
              "      <td>NaN</td>\n",
              "      <td>NaN</td>\n",
              "      <td>NaN</td>\n",
              "      <td>102.400000</td>\n",
              "      <td>183.100000</td>\n",
              "      <td>66.900000</td>\n",
              "      <td>55.500000</td>\n",
              "      <td>2935.000000</td>\n",
              "      <td>NaN</td>\n",
              "      <td>NaN</td>\n",
              "      <td>141.000000</td>\n",
              "      <td>NaN</td>\n",
              "      <td>NaN</td>\n",
              "      <td>NaN</td>\n",
              "      <td>9.400000</td>\n",
              "      <td>NaN</td>\n",
              "      <td>NaN</td>\n",
              "      <td>30.000000</td>\n",
              "      <td>34.000000</td>\n",
              "      <td>NaN</td>\n",
              "    </tr>\n",
              "    <tr>\n",
              "      <th>max</th>\n",
              "      <td>3.000000</td>\n",
              "      <td>NaN</td>\n",
              "      <td>NaN</td>\n",
              "      <td>NaN</td>\n",
              "      <td>NaN</td>\n",
              "      <td>NaN</td>\n",
              "      <td>NaN</td>\n",
              "      <td>NaN</td>\n",
              "      <td>NaN</td>\n",
              "      <td>120.900000</td>\n",
              "      <td>208.100000</td>\n",
              "      <td>72.300000</td>\n",
              "      <td>59.800000</td>\n",
              "      <td>4066.000000</td>\n",
              "      <td>NaN</td>\n",
              "      <td>NaN</td>\n",
              "      <td>326.000000</td>\n",
              "      <td>NaN</td>\n",
              "      <td>NaN</td>\n",
              "      <td>NaN</td>\n",
              "      <td>23.000000</td>\n",
              "      <td>NaN</td>\n",
              "      <td>NaN</td>\n",
              "      <td>49.000000</td>\n",
              "      <td>54.000000</td>\n",
              "      <td>NaN</td>\n",
              "    </tr>\n",
              "  </tbody>\n",
              "</table>\n",
              "</div>"
            ],
            "text/plain": [
              "         symboling normalized-losses    make  ...    city-mpg highway-mpg price\n",
              "count   205.000000               205     205  ...  205.000000  205.000000   205\n",
              "unique         NaN                52      22  ...         NaN         NaN   187\n",
              "top            NaN                 ?  toyota  ...         NaN         NaN     ?\n",
              "freq           NaN                41      32  ...         NaN         NaN     4\n",
              "mean      0.834146               NaN     NaN  ...   25.219512   30.751220   NaN\n",
              "std       1.245307               NaN     NaN  ...    6.542142    6.886443   NaN\n",
              "min      -2.000000               NaN     NaN  ...   13.000000   16.000000   NaN\n",
              "25%       0.000000               NaN     NaN  ...   19.000000   25.000000   NaN\n",
              "50%       1.000000               NaN     NaN  ...   24.000000   30.000000   NaN\n",
              "75%       2.000000               NaN     NaN  ...   30.000000   34.000000   NaN\n",
              "max       3.000000               NaN     NaN  ...   49.000000   54.000000   NaN\n",
              "\n",
              "[11 rows x 26 columns]"
            ]
          },
          "metadata": {
            "tags": []
          },
          "execution_count": 157
        }
      ]
    },
    {
      "cell_type": "code",
      "metadata": {
        "id": "aNlyfVAh3Kld",
        "colab_type": "code",
        "colab": {
          "base_uri": "https://localhost:8080/",
          "height": 294
        },
        "outputId": "314c471e-6cf1-41d5-9fc2-1c2a68a11bb5"
      },
      "source": [
        "# Describe for three specific columns\n",
        "df[['symboling', 'wheel-base', 'length']].describe()"
      ],
      "execution_count": 158,
      "outputs": [
        {
          "output_type": "execute_result",
          "data": {
            "text/html": [
              "<div>\n",
              "<style scoped>\n",
              "    .dataframe tbody tr th:only-of-type {\n",
              "        vertical-align: middle;\n",
              "    }\n",
              "\n",
              "    .dataframe tbody tr th {\n",
              "        vertical-align: top;\n",
              "    }\n",
              "\n",
              "    .dataframe thead th {\n",
              "        text-align: right;\n",
              "    }\n",
              "</style>\n",
              "<table border=\"1\" class=\"dataframe\">\n",
              "  <thead>\n",
              "    <tr style=\"text-align: right;\">\n",
              "      <th></th>\n",
              "      <th>symboling</th>\n",
              "      <th>wheel-base</th>\n",
              "      <th>length</th>\n",
              "    </tr>\n",
              "  </thead>\n",
              "  <tbody>\n",
              "    <tr>\n",
              "      <th>count</th>\n",
              "      <td>205.000000</td>\n",
              "      <td>205.000000</td>\n",
              "      <td>205.000000</td>\n",
              "    </tr>\n",
              "    <tr>\n",
              "      <th>mean</th>\n",
              "      <td>0.834146</td>\n",
              "      <td>98.756585</td>\n",
              "      <td>174.049268</td>\n",
              "    </tr>\n",
              "    <tr>\n",
              "      <th>std</th>\n",
              "      <td>1.245307</td>\n",
              "      <td>6.021776</td>\n",
              "      <td>12.337289</td>\n",
              "    </tr>\n",
              "    <tr>\n",
              "      <th>min</th>\n",
              "      <td>-2.000000</td>\n",
              "      <td>86.600000</td>\n",
              "      <td>141.100000</td>\n",
              "    </tr>\n",
              "    <tr>\n",
              "      <th>25%</th>\n",
              "      <td>0.000000</td>\n",
              "      <td>94.500000</td>\n",
              "      <td>166.300000</td>\n",
              "    </tr>\n",
              "    <tr>\n",
              "      <th>50%</th>\n",
              "      <td>1.000000</td>\n",
              "      <td>97.000000</td>\n",
              "      <td>173.200000</td>\n",
              "    </tr>\n",
              "    <tr>\n",
              "      <th>75%</th>\n",
              "      <td>2.000000</td>\n",
              "      <td>102.400000</td>\n",
              "      <td>183.100000</td>\n",
              "    </tr>\n",
              "    <tr>\n",
              "      <th>max</th>\n",
              "      <td>3.000000</td>\n",
              "      <td>120.900000</td>\n",
              "      <td>208.100000</td>\n",
              "    </tr>\n",
              "  </tbody>\n",
              "</table>\n",
              "</div>"
            ],
            "text/plain": [
              "        symboling  wheel-base      length\n",
              "count  205.000000  205.000000  205.000000\n",
              "mean     0.834146   98.756585  174.049268\n",
              "std      1.245307    6.021776   12.337289\n",
              "min     -2.000000   86.600000  141.100000\n",
              "25%      0.000000   94.500000  166.300000\n",
              "50%      1.000000   97.000000  173.200000\n",
              "75%      2.000000  102.400000  183.100000\n",
              "max      3.000000  120.900000  208.100000"
            ]
          },
          "metadata": {
            "tags": []
          },
          "execution_count": 158
        }
      ]
    },
    {
      "cell_type": "markdown",
      "metadata": {
        "id": "UQ7RCy1y3WAH",
        "colab_type": "text"
      },
      "source": [
        "#### * Info\n",
        "It provide a concise summary of your DataFrame."
      ]
    },
    {
      "cell_type": "code",
      "metadata": {
        "id": "kH6aWj3r3Zca",
        "colab_type": "code",
        "colab": {
          "base_uri": "https://localhost:8080/",
          "height": 260
        },
        "outputId": "b4232295-0bdf-42a4-ade8-5458f3dc4145"
      },
      "source": [
        "# look at the info of \"df\"\n",
        "df.info"
      ],
      "execution_count": 159,
      "outputs": [
        {
          "output_type": "execute_result",
          "data": {
            "text/plain": [
              "<bound method DataFrame.info of      symboling normalized-losses         make  ... city-mpg highway-mpg  price\n",
              "0            3                 ?  alfa-romero  ...       21          27  13495\n",
              "1            3                 ?  alfa-romero  ...       21          27  16500\n",
              "2            1                 ?  alfa-romero  ...       19          26  16500\n",
              "3            2               164         audi  ...       24          30  13950\n",
              "4            2               164         audi  ...       18          22  17450\n",
              "..         ...               ...          ...  ...      ...         ...    ...\n",
              "200         -1                95        volvo  ...       23          28  16845\n",
              "201         -1                95        volvo  ...       19          25  19045\n",
              "202         -1                95        volvo  ...       18          23  21485\n",
              "203         -1                95        volvo  ...       26          27  22470\n",
              "204         -1                95        volvo  ...       19          25  22625\n",
              "\n",
              "[205 rows x 26 columns]>"
            ]
          },
          "metadata": {
            "tags": []
          },
          "execution_count": 159
        }
      ]
    },
    {
      "cell_type": "markdown",
      "metadata": {
        "id": "hIs8I7mNp1nP",
        "colab_type": "text"
      },
      "source": [
        "## 3. Data Wrangling\n",
        "\n",
        "*  What is the purpose of Data Wrangling?\n",
        "\n",
        "Data Wrangling is the process of converting data from the initial format to a format that may be better for analysis.\n",
        "\n",
        "* How to work with missing data?\n",
        "\n",
        "Steps for working with missing data:\n",
        "\n",
        "- identify missing data\n",
        "- deal with missing data\n",
        "- correct data format"
      ]
    },
    {
      "cell_type": "markdown",
      "metadata": {
        "id": "J-Lel7VS4nUX",
        "colab_type": "text"
      },
      "source": [
        "### * Identify and handle missing values\n",
        "Identify missing values\n",
        "Convert \"?\" to NaN\n",
        "In the car dataset, missing data comes with the question mark \"?\". We replace \"?\" with NaN (Not a Number), which is Python's default missing value marker, for reasons of computational speed and convenience. Here we use the function:\n",
        ".replace(A, B, inplace = True) \n",
        "to replace A by B"
      ]
    },
    {
      "cell_type": "code",
      "metadata": {
        "id": "4brPyVggp-Fx",
        "colab_type": "code",
        "colab": {
          "base_uri": "https://localhost:8080/",
          "height": 309
        },
        "outputId": "ae105da2-f9ae-4cbb-a068-41df4a1fb79c"
      },
      "source": [
        "import numpy as np\n",
        "\n",
        "# replace \"?\" to NaN\n",
        "df.replace(\"?\", np.nan, inplace = True)\n",
        "df.head(5)"
      ],
      "execution_count": 160,
      "outputs": [
        {
          "output_type": "execute_result",
          "data": {
            "text/html": [
              "<div>\n",
              "<style scoped>\n",
              "    .dataframe tbody tr th:only-of-type {\n",
              "        vertical-align: middle;\n",
              "    }\n",
              "\n",
              "    .dataframe tbody tr th {\n",
              "        vertical-align: top;\n",
              "    }\n",
              "\n",
              "    .dataframe thead th {\n",
              "        text-align: right;\n",
              "    }\n",
              "</style>\n",
              "<table border=\"1\" class=\"dataframe\">\n",
              "  <thead>\n",
              "    <tr style=\"text-align: right;\">\n",
              "      <th></th>\n",
              "      <th>symboling</th>\n",
              "      <th>normalized-losses</th>\n",
              "      <th>make</th>\n",
              "      <th>fuel-type</th>\n",
              "      <th>aspiration</th>\n",
              "      <th>num-of-doors</th>\n",
              "      <th>body-style</th>\n",
              "      <th>drive-wheels</th>\n",
              "      <th>engine-location</th>\n",
              "      <th>wheel-base</th>\n",
              "      <th>length</th>\n",
              "      <th>width</th>\n",
              "      <th>height</th>\n",
              "      <th>curb-weight</th>\n",
              "      <th>engine-type</th>\n",
              "      <th>num-of-cylinders</th>\n",
              "      <th>engine-size</th>\n",
              "      <th>fuel-system</th>\n",
              "      <th>bore</th>\n",
              "      <th>stroke</th>\n",
              "      <th>compression-ratio</th>\n",
              "      <th>horsepower</th>\n",
              "      <th>peak-rpm</th>\n",
              "      <th>city-mpg</th>\n",
              "      <th>highway-mpg</th>\n",
              "      <th>price</th>\n",
              "    </tr>\n",
              "  </thead>\n",
              "  <tbody>\n",
              "    <tr>\n",
              "      <th>0</th>\n",
              "      <td>3</td>\n",
              "      <td>NaN</td>\n",
              "      <td>alfa-romero</td>\n",
              "      <td>gas</td>\n",
              "      <td>std</td>\n",
              "      <td>two</td>\n",
              "      <td>convertible</td>\n",
              "      <td>rwd</td>\n",
              "      <td>front</td>\n",
              "      <td>88.6</td>\n",
              "      <td>168.8</td>\n",
              "      <td>64.1</td>\n",
              "      <td>48.8</td>\n",
              "      <td>2548</td>\n",
              "      <td>dohc</td>\n",
              "      <td>four</td>\n",
              "      <td>130</td>\n",
              "      <td>mpfi</td>\n",
              "      <td>3.47</td>\n",
              "      <td>2.68</td>\n",
              "      <td>9.0</td>\n",
              "      <td>111</td>\n",
              "      <td>5000</td>\n",
              "      <td>21</td>\n",
              "      <td>27</td>\n",
              "      <td>13495</td>\n",
              "    </tr>\n",
              "    <tr>\n",
              "      <th>1</th>\n",
              "      <td>3</td>\n",
              "      <td>NaN</td>\n",
              "      <td>alfa-romero</td>\n",
              "      <td>gas</td>\n",
              "      <td>std</td>\n",
              "      <td>two</td>\n",
              "      <td>convertible</td>\n",
              "      <td>rwd</td>\n",
              "      <td>front</td>\n",
              "      <td>88.6</td>\n",
              "      <td>168.8</td>\n",
              "      <td>64.1</td>\n",
              "      <td>48.8</td>\n",
              "      <td>2548</td>\n",
              "      <td>dohc</td>\n",
              "      <td>four</td>\n",
              "      <td>130</td>\n",
              "      <td>mpfi</td>\n",
              "      <td>3.47</td>\n",
              "      <td>2.68</td>\n",
              "      <td>9.0</td>\n",
              "      <td>111</td>\n",
              "      <td>5000</td>\n",
              "      <td>21</td>\n",
              "      <td>27</td>\n",
              "      <td>16500</td>\n",
              "    </tr>\n",
              "    <tr>\n",
              "      <th>2</th>\n",
              "      <td>1</td>\n",
              "      <td>NaN</td>\n",
              "      <td>alfa-romero</td>\n",
              "      <td>gas</td>\n",
              "      <td>std</td>\n",
              "      <td>two</td>\n",
              "      <td>hatchback</td>\n",
              "      <td>rwd</td>\n",
              "      <td>front</td>\n",
              "      <td>94.5</td>\n",
              "      <td>171.2</td>\n",
              "      <td>65.5</td>\n",
              "      <td>52.4</td>\n",
              "      <td>2823</td>\n",
              "      <td>ohcv</td>\n",
              "      <td>six</td>\n",
              "      <td>152</td>\n",
              "      <td>mpfi</td>\n",
              "      <td>2.68</td>\n",
              "      <td>3.47</td>\n",
              "      <td>9.0</td>\n",
              "      <td>154</td>\n",
              "      <td>5000</td>\n",
              "      <td>19</td>\n",
              "      <td>26</td>\n",
              "      <td>16500</td>\n",
              "    </tr>\n",
              "    <tr>\n",
              "      <th>3</th>\n",
              "      <td>2</td>\n",
              "      <td>164</td>\n",
              "      <td>audi</td>\n",
              "      <td>gas</td>\n",
              "      <td>std</td>\n",
              "      <td>four</td>\n",
              "      <td>sedan</td>\n",
              "      <td>fwd</td>\n",
              "      <td>front</td>\n",
              "      <td>99.8</td>\n",
              "      <td>176.6</td>\n",
              "      <td>66.2</td>\n",
              "      <td>54.3</td>\n",
              "      <td>2337</td>\n",
              "      <td>ohc</td>\n",
              "      <td>four</td>\n",
              "      <td>109</td>\n",
              "      <td>mpfi</td>\n",
              "      <td>3.19</td>\n",
              "      <td>3.40</td>\n",
              "      <td>10.0</td>\n",
              "      <td>102</td>\n",
              "      <td>5500</td>\n",
              "      <td>24</td>\n",
              "      <td>30</td>\n",
              "      <td>13950</td>\n",
              "    </tr>\n",
              "    <tr>\n",
              "      <th>4</th>\n",
              "      <td>2</td>\n",
              "      <td>164</td>\n",
              "      <td>audi</td>\n",
              "      <td>gas</td>\n",
              "      <td>std</td>\n",
              "      <td>four</td>\n",
              "      <td>sedan</td>\n",
              "      <td>4wd</td>\n",
              "      <td>front</td>\n",
              "      <td>99.4</td>\n",
              "      <td>176.6</td>\n",
              "      <td>66.4</td>\n",
              "      <td>54.3</td>\n",
              "      <td>2824</td>\n",
              "      <td>ohc</td>\n",
              "      <td>five</td>\n",
              "      <td>136</td>\n",
              "      <td>mpfi</td>\n",
              "      <td>3.19</td>\n",
              "      <td>3.40</td>\n",
              "      <td>8.0</td>\n",
              "      <td>115</td>\n",
              "      <td>5500</td>\n",
              "      <td>18</td>\n",
              "      <td>22</td>\n",
              "      <td>17450</td>\n",
              "    </tr>\n",
              "  </tbody>\n",
              "</table>\n",
              "</div>"
            ],
            "text/plain": [
              "   symboling normalized-losses         make  ... city-mpg highway-mpg  price\n",
              "0          3               NaN  alfa-romero  ...       21          27  13495\n",
              "1          3               NaN  alfa-romero  ...       21          27  16500\n",
              "2          1               NaN  alfa-romero  ...       19          26  16500\n",
              "3          2               164         audi  ...       24          30  13950\n",
              "4          2               164         audi  ...       18          22  17450\n",
              "\n",
              "[5 rows x 26 columns]"
            ]
          },
          "metadata": {
            "tags": []
          },
          "execution_count": 160
        }
      ]
    },
    {
      "cell_type": "markdown",
      "metadata": {
        "id": "3WibSkv6rZOt",
        "colab_type": "text"
      },
      "source": [
        "##### - Evaluating for Missing Data\n",
        "The missing values are converted to Python's default. We use Python's built-in functions to identify these missing values. There are two methods to detect missing data:\n",
        "\n",
        ".isnull()\n",
        ".notnull()\n",
        "The output is a boolean value indicating whether the value that is passed into the argument is in fact missing data."
      ]
    },
    {
      "cell_type": "code",
      "metadata": {
        "id": "p4x773Aarhiw",
        "colab_type": "code",
        "colab": {
          "base_uri": "https://localhost:8080/",
          "height": 257
        },
        "outputId": "e5b7987f-7206-4e1d-cace-23c8dd1fac3a"
      },
      "source": [
        "missing_data = df.isnull()\n",
        "missing_data.head(5)"
      ],
      "execution_count": 161,
      "outputs": [
        {
          "output_type": "execute_result",
          "data": {
            "text/html": [
              "<div>\n",
              "<style scoped>\n",
              "    .dataframe tbody tr th:only-of-type {\n",
              "        vertical-align: middle;\n",
              "    }\n",
              "\n",
              "    .dataframe tbody tr th {\n",
              "        vertical-align: top;\n",
              "    }\n",
              "\n",
              "    .dataframe thead th {\n",
              "        text-align: right;\n",
              "    }\n",
              "</style>\n",
              "<table border=\"1\" class=\"dataframe\">\n",
              "  <thead>\n",
              "    <tr style=\"text-align: right;\">\n",
              "      <th></th>\n",
              "      <th>symboling</th>\n",
              "      <th>normalized-losses</th>\n",
              "      <th>make</th>\n",
              "      <th>fuel-type</th>\n",
              "      <th>aspiration</th>\n",
              "      <th>num-of-doors</th>\n",
              "      <th>body-style</th>\n",
              "      <th>drive-wheels</th>\n",
              "      <th>engine-location</th>\n",
              "      <th>wheel-base</th>\n",
              "      <th>length</th>\n",
              "      <th>width</th>\n",
              "      <th>height</th>\n",
              "      <th>curb-weight</th>\n",
              "      <th>engine-type</th>\n",
              "      <th>num-of-cylinders</th>\n",
              "      <th>engine-size</th>\n",
              "      <th>fuel-system</th>\n",
              "      <th>bore</th>\n",
              "      <th>stroke</th>\n",
              "      <th>compression-ratio</th>\n",
              "      <th>horsepower</th>\n",
              "      <th>peak-rpm</th>\n",
              "      <th>city-mpg</th>\n",
              "      <th>highway-mpg</th>\n",
              "      <th>price</th>\n",
              "    </tr>\n",
              "  </thead>\n",
              "  <tbody>\n",
              "    <tr>\n",
              "      <th>0</th>\n",
              "      <td>False</td>\n",
              "      <td>True</td>\n",
              "      <td>False</td>\n",
              "      <td>False</td>\n",
              "      <td>False</td>\n",
              "      <td>False</td>\n",
              "      <td>False</td>\n",
              "      <td>False</td>\n",
              "      <td>False</td>\n",
              "      <td>False</td>\n",
              "      <td>False</td>\n",
              "      <td>False</td>\n",
              "      <td>False</td>\n",
              "      <td>False</td>\n",
              "      <td>False</td>\n",
              "      <td>False</td>\n",
              "      <td>False</td>\n",
              "      <td>False</td>\n",
              "      <td>False</td>\n",
              "      <td>False</td>\n",
              "      <td>False</td>\n",
              "      <td>False</td>\n",
              "      <td>False</td>\n",
              "      <td>False</td>\n",
              "      <td>False</td>\n",
              "      <td>False</td>\n",
              "    </tr>\n",
              "    <tr>\n",
              "      <th>1</th>\n",
              "      <td>False</td>\n",
              "      <td>True</td>\n",
              "      <td>False</td>\n",
              "      <td>False</td>\n",
              "      <td>False</td>\n",
              "      <td>False</td>\n",
              "      <td>False</td>\n",
              "      <td>False</td>\n",
              "      <td>False</td>\n",
              "      <td>False</td>\n",
              "      <td>False</td>\n",
              "      <td>False</td>\n",
              "      <td>False</td>\n",
              "      <td>False</td>\n",
              "      <td>False</td>\n",
              "      <td>False</td>\n",
              "      <td>False</td>\n",
              "      <td>False</td>\n",
              "      <td>False</td>\n",
              "      <td>False</td>\n",
              "      <td>False</td>\n",
              "      <td>False</td>\n",
              "      <td>False</td>\n",
              "      <td>False</td>\n",
              "      <td>False</td>\n",
              "      <td>False</td>\n",
              "    </tr>\n",
              "    <tr>\n",
              "      <th>2</th>\n",
              "      <td>False</td>\n",
              "      <td>True</td>\n",
              "      <td>False</td>\n",
              "      <td>False</td>\n",
              "      <td>False</td>\n",
              "      <td>False</td>\n",
              "      <td>False</td>\n",
              "      <td>False</td>\n",
              "      <td>False</td>\n",
              "      <td>False</td>\n",
              "      <td>False</td>\n",
              "      <td>False</td>\n",
              "      <td>False</td>\n",
              "      <td>False</td>\n",
              "      <td>False</td>\n",
              "      <td>False</td>\n",
              "      <td>False</td>\n",
              "      <td>False</td>\n",
              "      <td>False</td>\n",
              "      <td>False</td>\n",
              "      <td>False</td>\n",
              "      <td>False</td>\n",
              "      <td>False</td>\n",
              "      <td>False</td>\n",
              "      <td>False</td>\n",
              "      <td>False</td>\n",
              "    </tr>\n",
              "    <tr>\n",
              "      <th>3</th>\n",
              "      <td>False</td>\n",
              "      <td>False</td>\n",
              "      <td>False</td>\n",
              "      <td>False</td>\n",
              "      <td>False</td>\n",
              "      <td>False</td>\n",
              "      <td>False</td>\n",
              "      <td>False</td>\n",
              "      <td>False</td>\n",
              "      <td>False</td>\n",
              "      <td>False</td>\n",
              "      <td>False</td>\n",
              "      <td>False</td>\n",
              "      <td>False</td>\n",
              "      <td>False</td>\n",
              "      <td>False</td>\n",
              "      <td>False</td>\n",
              "      <td>False</td>\n",
              "      <td>False</td>\n",
              "      <td>False</td>\n",
              "      <td>False</td>\n",
              "      <td>False</td>\n",
              "      <td>False</td>\n",
              "      <td>False</td>\n",
              "      <td>False</td>\n",
              "      <td>False</td>\n",
              "    </tr>\n",
              "    <tr>\n",
              "      <th>4</th>\n",
              "      <td>False</td>\n",
              "      <td>False</td>\n",
              "      <td>False</td>\n",
              "      <td>False</td>\n",
              "      <td>False</td>\n",
              "      <td>False</td>\n",
              "      <td>False</td>\n",
              "      <td>False</td>\n",
              "      <td>False</td>\n",
              "      <td>False</td>\n",
              "      <td>False</td>\n",
              "      <td>False</td>\n",
              "      <td>False</td>\n",
              "      <td>False</td>\n",
              "      <td>False</td>\n",
              "      <td>False</td>\n",
              "      <td>False</td>\n",
              "      <td>False</td>\n",
              "      <td>False</td>\n",
              "      <td>False</td>\n",
              "      <td>False</td>\n",
              "      <td>False</td>\n",
              "      <td>False</td>\n",
              "      <td>False</td>\n",
              "      <td>False</td>\n",
              "      <td>False</td>\n",
              "    </tr>\n",
              "  </tbody>\n",
              "</table>\n",
              "</div>"
            ],
            "text/plain": [
              "   symboling  normalized-losses   make  ...  city-mpg  highway-mpg  price\n",
              "0      False               True  False  ...     False        False  False\n",
              "1      False               True  False  ...     False        False  False\n",
              "2      False               True  False  ...     False        False  False\n",
              "3      False              False  False  ...     False        False  False\n",
              "4      False              False  False  ...     False        False  False\n",
              "\n",
              "[5 rows x 26 columns]"
            ]
          },
          "metadata": {
            "tags": []
          },
          "execution_count": 161
        }
      ]
    },
    {
      "cell_type": "markdown",
      "metadata": {
        "id": "pruONvKHrqll",
        "colab_type": "text"
      },
      "source": [
        "##### - Count missing values in each column\n",
        "Using a for loop in Python, we can quickly figure out the number of missing values in each column. As mentioned above, \"True\" represents a missing value, \"False\" means the value is present in the dataset. In the body of the for loop the method \".value_counts()\" counts the number of \"True\" values."
      ]
    },
    {
      "cell_type": "code",
      "metadata": {
        "id": "WzrJVITIr5nm",
        "colab_type": "code",
        "colab": {
          "base_uri": "https://localhost:8080/",
          "height": 1000
        },
        "outputId": "72623eb6-01b8-409d-8cf5-9b03885134c0"
      },
      "source": [
        "for column in missing_data.columns.values.tolist():\n",
        "    print(column)\n",
        "    print (missing_data[column].value_counts())\n",
        "    print(\"\") "
      ],
      "execution_count": 162,
      "outputs": [
        {
          "output_type": "stream",
          "text": [
            "symboling\n",
            "False    205\n",
            "Name: symboling, dtype: int64\n",
            "\n",
            "normalized-losses\n",
            "False    164\n",
            "True      41\n",
            "Name: normalized-losses, dtype: int64\n",
            "\n",
            "make\n",
            "False    205\n",
            "Name: make, dtype: int64\n",
            "\n",
            "fuel-type\n",
            "False    205\n",
            "Name: fuel-type, dtype: int64\n",
            "\n",
            "aspiration\n",
            "False    205\n",
            "Name: aspiration, dtype: int64\n",
            "\n",
            "num-of-doors\n",
            "False    203\n",
            "True       2\n",
            "Name: num-of-doors, dtype: int64\n",
            "\n",
            "body-style\n",
            "False    205\n",
            "Name: body-style, dtype: int64\n",
            "\n",
            "drive-wheels\n",
            "False    205\n",
            "Name: drive-wheels, dtype: int64\n",
            "\n",
            "engine-location\n",
            "False    205\n",
            "Name: engine-location, dtype: int64\n",
            "\n",
            "wheel-base\n",
            "False    205\n",
            "Name: wheel-base, dtype: int64\n",
            "\n",
            "length\n",
            "False    205\n",
            "Name: length, dtype: int64\n",
            "\n",
            "width\n",
            "False    205\n",
            "Name: width, dtype: int64\n",
            "\n",
            "height\n",
            "False    205\n",
            "Name: height, dtype: int64\n",
            "\n",
            "curb-weight\n",
            "False    205\n",
            "Name: curb-weight, dtype: int64\n",
            "\n",
            "engine-type\n",
            "False    205\n",
            "Name: engine-type, dtype: int64\n",
            "\n",
            "num-of-cylinders\n",
            "False    205\n",
            "Name: num-of-cylinders, dtype: int64\n",
            "\n",
            "engine-size\n",
            "False    205\n",
            "Name: engine-size, dtype: int64\n",
            "\n",
            "fuel-system\n",
            "False    205\n",
            "Name: fuel-system, dtype: int64\n",
            "\n",
            "bore\n",
            "False    201\n",
            "True       4\n",
            "Name: bore, dtype: int64\n",
            "\n",
            "stroke\n",
            "False    201\n",
            "True       4\n",
            "Name: stroke, dtype: int64\n",
            "\n",
            "compression-ratio\n",
            "False    205\n",
            "Name: compression-ratio, dtype: int64\n",
            "\n",
            "horsepower\n",
            "False    203\n",
            "True       2\n",
            "Name: horsepower, dtype: int64\n",
            "\n",
            "peak-rpm\n",
            "False    203\n",
            "True       2\n",
            "Name: peak-rpm, dtype: int64\n",
            "\n",
            "city-mpg\n",
            "False    205\n",
            "Name: city-mpg, dtype: int64\n",
            "\n",
            "highway-mpg\n",
            "False    205\n",
            "Name: highway-mpg, dtype: int64\n",
            "\n",
            "price\n",
            "False    201\n",
            "True       4\n",
            "Name: price, dtype: int64\n",
            "\n"
          ],
          "name": "stdout"
        }
      ]
    },
    {
      "cell_type": "markdown",
      "metadata": {
        "id": "5Axo7eOiuBsa",
        "colab_type": "text"
      },
      "source": [
        "##### - Deal with missing data\n",
        "How to deal with missing data?\n",
        "drop data\n",
        "a. drop the whole row\n",
        "b. drop the whole column\n",
        "replace data\n",
        "a. replace it by mean\n",
        "b. replace it by frequency\n",
        "c. replace it based on other functions\n",
        "Whole columns should be dropped only if most entries in the column are empty. In our dataset, none of the columns are empty enough to drop entirely. We have some freedom in choosing which method to replace data; however, some methods may seem more reasonable than others. We will apply each method to many different columns:\n",
        "\n",
        "* Replace by mean:\n",
        "\n",
        "1. \"normalized-losses\": 41 missing data, replace them with mean\n",
        "2. \"stroke\": 4 missing data, replace them with mean\n",
        "3. \"bore\": 4 missing data, replace them with mean\n",
        "4. \"horsepower\": 2 missing data, replace them with mean\n",
        "5. \"peak-rpm\": 2 missing data, replace them with mean\n",
        "\n",
        "* Replace by frequency:\n",
        "\n",
        "1. \"num-of-doors\": 2 missing data, replace them with \"four\".\n",
        "Reason: 84% sedans is four doors. Since four doors is most frequent, it is most likely to occur\n",
        "\n",
        "* Drop the whole row:\n",
        "\n",
        "1. \"price\": 4 missing data, simply delete the whole row\n",
        "Reason: price is what we want to predict. Any data entry without price data cannot be used for prediction; therefore any row now without price data is not useful to us"
      ]
    },
    {
      "cell_type": "code",
      "metadata": {
        "id": "4AYAh7HXuIyR",
        "colab_type": "code",
        "colab": {
          "base_uri": "https://localhost:8080/",
          "height": 104
        },
        "outputId": "29c50679-fc32-48d8-edbc-88350077e606"
      },
      "source": [
        "#Calculate the average of the column\n",
        "avg_norm_loss = df[\"normalized-losses\"].astype(\"float\").mean(axis=0)\n",
        "print(\"Average of normalized-losses:\", avg_norm_loss)\n",
        "\n",
        "#Replace \"NaN\" by mean value in \"normalized-losses\" column\n",
        "df[\"normalized-losses\"].replace(np.nan, avg_norm_loss, inplace=True)\n",
        "\n",
        "#Calculate the mean value for 'bore' column\n",
        "avg_bore=df['bore'].astype('float').mean(axis=0)\n",
        "print(\"Average of bore:\", avg_bore)\n",
        "\n",
        "#Replace NaN by mean value\n",
        "df[\"bore\"].replace(np.nan, avg_bore, inplace=True)\n",
        "\n",
        "# calculate the mean vaule for \"stroke\" column\n",
        "avg_stroke = df[\"stroke\"].astype(\"float\").mean(axis = 0)\n",
        "print(\"Average of stroke:\", avg_stroke)\n",
        "\n",
        "# replace NaN by mean value in \"stroke\" column\n",
        "df[\"stroke\"].replace(np.nan, avg_stroke, inplace = True)\n",
        "\n",
        "#Calculate the mean value for the 'horsepower' column:\n",
        "avg_horsepower = df['horsepower'].astype('float').mean(axis=0)\n",
        "print(\"Average horsepower:\", avg_horsepower)\n",
        "\n",
        "#Replace \"NaN\" by mean value:\n",
        "df['horsepower'].replace(np.nan, avg_horsepower, inplace=True)\n",
        "\n",
        "#Calculate the mean value for 'peak-rpm' column:\n",
        "avg_peakrpm=df['peak-rpm'].astype('float').mean(axis=0)\n",
        "print(\"Average peak rpm:\", avg_peakrpm)\n",
        "\n",
        "#Replace NaN by mean value:\n",
        "df['peak-rpm'].replace(np.nan, avg_peakrpm, inplace=True)\n",
        "\n",
        "#to see which values are present in a particular column, we can use the \".value_counts()\" method:\n",
        "#We can also use the \".idxmax()\" method to calculate for us the most common type automatically:\n",
        "df['num-of-doors'].value_counts()\n",
        "df['num-of-doors'].value_counts().idxmax()\n",
        "#replace the missing 'num-of-doors' values by the most frequent \n",
        "df[\"num-of-doors\"].replace(np.nan, \"four\", inplace=True)\n",
        "\n",
        "# simply drop whole row with NaN in \"price\" column\n",
        "df.dropna(subset=[\"price\"], axis=0, inplace=True)\n",
        "\n",
        "# reset index, because we droped two rows\n",
        "df.reset_index(drop=True, inplace=True)"
      ],
      "execution_count": 163,
      "outputs": [
        {
          "output_type": "stream",
          "text": [
            "Average of normalized-losses: 122.0\n",
            "Average of bore: 3.3297512437810957\n",
            "Average of stroke: 3.2554228855721337\n",
            "Average horsepower: 104.25615763546799\n",
            "Average peak rpm: 5125.369458128079\n"
          ],
          "name": "stdout"
        }
      ]
    },
    {
      "cell_type": "code",
      "metadata": {
        "id": "0Xr6HjNX3lzB",
        "colab_type": "code",
        "colab": {
          "base_uri": "https://localhost:8080/",
          "height": 309
        },
        "outputId": "c4735cf5-73bc-49f7-f411-624f7637f23c"
      },
      "source": [
        "##Recheck the data after Data cleaning/Data wrangling\n",
        "df.head()"
      ],
      "execution_count": 164,
      "outputs": [
        {
          "output_type": "execute_result",
          "data": {
            "text/html": [
              "<div>\n",
              "<style scoped>\n",
              "    .dataframe tbody tr th:only-of-type {\n",
              "        vertical-align: middle;\n",
              "    }\n",
              "\n",
              "    .dataframe tbody tr th {\n",
              "        vertical-align: top;\n",
              "    }\n",
              "\n",
              "    .dataframe thead th {\n",
              "        text-align: right;\n",
              "    }\n",
              "</style>\n",
              "<table border=\"1\" class=\"dataframe\">\n",
              "  <thead>\n",
              "    <tr style=\"text-align: right;\">\n",
              "      <th></th>\n",
              "      <th>symboling</th>\n",
              "      <th>normalized-losses</th>\n",
              "      <th>make</th>\n",
              "      <th>fuel-type</th>\n",
              "      <th>aspiration</th>\n",
              "      <th>num-of-doors</th>\n",
              "      <th>body-style</th>\n",
              "      <th>drive-wheels</th>\n",
              "      <th>engine-location</th>\n",
              "      <th>wheel-base</th>\n",
              "      <th>length</th>\n",
              "      <th>width</th>\n",
              "      <th>height</th>\n",
              "      <th>curb-weight</th>\n",
              "      <th>engine-type</th>\n",
              "      <th>num-of-cylinders</th>\n",
              "      <th>engine-size</th>\n",
              "      <th>fuel-system</th>\n",
              "      <th>bore</th>\n",
              "      <th>stroke</th>\n",
              "      <th>compression-ratio</th>\n",
              "      <th>horsepower</th>\n",
              "      <th>peak-rpm</th>\n",
              "      <th>city-mpg</th>\n",
              "      <th>highway-mpg</th>\n",
              "      <th>price</th>\n",
              "    </tr>\n",
              "  </thead>\n",
              "  <tbody>\n",
              "    <tr>\n",
              "      <th>0</th>\n",
              "      <td>3</td>\n",
              "      <td>122</td>\n",
              "      <td>alfa-romero</td>\n",
              "      <td>gas</td>\n",
              "      <td>std</td>\n",
              "      <td>two</td>\n",
              "      <td>convertible</td>\n",
              "      <td>rwd</td>\n",
              "      <td>front</td>\n",
              "      <td>88.6</td>\n",
              "      <td>168.8</td>\n",
              "      <td>64.1</td>\n",
              "      <td>48.8</td>\n",
              "      <td>2548</td>\n",
              "      <td>dohc</td>\n",
              "      <td>four</td>\n",
              "      <td>130</td>\n",
              "      <td>mpfi</td>\n",
              "      <td>3.47</td>\n",
              "      <td>2.68</td>\n",
              "      <td>9.0</td>\n",
              "      <td>111</td>\n",
              "      <td>5000</td>\n",
              "      <td>21</td>\n",
              "      <td>27</td>\n",
              "      <td>13495</td>\n",
              "    </tr>\n",
              "    <tr>\n",
              "      <th>1</th>\n",
              "      <td>3</td>\n",
              "      <td>122</td>\n",
              "      <td>alfa-romero</td>\n",
              "      <td>gas</td>\n",
              "      <td>std</td>\n",
              "      <td>two</td>\n",
              "      <td>convertible</td>\n",
              "      <td>rwd</td>\n",
              "      <td>front</td>\n",
              "      <td>88.6</td>\n",
              "      <td>168.8</td>\n",
              "      <td>64.1</td>\n",
              "      <td>48.8</td>\n",
              "      <td>2548</td>\n",
              "      <td>dohc</td>\n",
              "      <td>four</td>\n",
              "      <td>130</td>\n",
              "      <td>mpfi</td>\n",
              "      <td>3.47</td>\n",
              "      <td>2.68</td>\n",
              "      <td>9.0</td>\n",
              "      <td>111</td>\n",
              "      <td>5000</td>\n",
              "      <td>21</td>\n",
              "      <td>27</td>\n",
              "      <td>16500</td>\n",
              "    </tr>\n",
              "    <tr>\n",
              "      <th>2</th>\n",
              "      <td>1</td>\n",
              "      <td>122</td>\n",
              "      <td>alfa-romero</td>\n",
              "      <td>gas</td>\n",
              "      <td>std</td>\n",
              "      <td>two</td>\n",
              "      <td>hatchback</td>\n",
              "      <td>rwd</td>\n",
              "      <td>front</td>\n",
              "      <td>94.5</td>\n",
              "      <td>171.2</td>\n",
              "      <td>65.5</td>\n",
              "      <td>52.4</td>\n",
              "      <td>2823</td>\n",
              "      <td>ohcv</td>\n",
              "      <td>six</td>\n",
              "      <td>152</td>\n",
              "      <td>mpfi</td>\n",
              "      <td>2.68</td>\n",
              "      <td>3.47</td>\n",
              "      <td>9.0</td>\n",
              "      <td>154</td>\n",
              "      <td>5000</td>\n",
              "      <td>19</td>\n",
              "      <td>26</td>\n",
              "      <td>16500</td>\n",
              "    </tr>\n",
              "    <tr>\n",
              "      <th>3</th>\n",
              "      <td>2</td>\n",
              "      <td>164</td>\n",
              "      <td>audi</td>\n",
              "      <td>gas</td>\n",
              "      <td>std</td>\n",
              "      <td>four</td>\n",
              "      <td>sedan</td>\n",
              "      <td>fwd</td>\n",
              "      <td>front</td>\n",
              "      <td>99.8</td>\n",
              "      <td>176.6</td>\n",
              "      <td>66.2</td>\n",
              "      <td>54.3</td>\n",
              "      <td>2337</td>\n",
              "      <td>ohc</td>\n",
              "      <td>four</td>\n",
              "      <td>109</td>\n",
              "      <td>mpfi</td>\n",
              "      <td>3.19</td>\n",
              "      <td>3.40</td>\n",
              "      <td>10.0</td>\n",
              "      <td>102</td>\n",
              "      <td>5500</td>\n",
              "      <td>24</td>\n",
              "      <td>30</td>\n",
              "      <td>13950</td>\n",
              "    </tr>\n",
              "    <tr>\n",
              "      <th>4</th>\n",
              "      <td>2</td>\n",
              "      <td>164</td>\n",
              "      <td>audi</td>\n",
              "      <td>gas</td>\n",
              "      <td>std</td>\n",
              "      <td>four</td>\n",
              "      <td>sedan</td>\n",
              "      <td>4wd</td>\n",
              "      <td>front</td>\n",
              "      <td>99.4</td>\n",
              "      <td>176.6</td>\n",
              "      <td>66.4</td>\n",
              "      <td>54.3</td>\n",
              "      <td>2824</td>\n",
              "      <td>ohc</td>\n",
              "      <td>five</td>\n",
              "      <td>136</td>\n",
              "      <td>mpfi</td>\n",
              "      <td>3.19</td>\n",
              "      <td>3.40</td>\n",
              "      <td>8.0</td>\n",
              "      <td>115</td>\n",
              "      <td>5500</td>\n",
              "      <td>18</td>\n",
              "      <td>22</td>\n",
              "      <td>17450</td>\n",
              "    </tr>\n",
              "  </tbody>\n",
              "</table>\n",
              "</div>"
            ],
            "text/plain": [
              "   symboling normalized-losses         make  ... city-mpg highway-mpg  price\n",
              "0          3               122  alfa-romero  ...       21          27  13495\n",
              "1          3               122  alfa-romero  ...       21          27  16500\n",
              "2          1               122  alfa-romero  ...       19          26  16500\n",
              "3          2               164         audi  ...       24          30  13950\n",
              "4          2               164         audi  ...       18          22  17450\n",
              "\n",
              "[5 rows x 26 columns]"
            ]
          },
          "metadata": {
            "tags": []
          },
          "execution_count": 164
        }
      ]
    },
    {
      "cell_type": "markdown",
      "metadata": {
        "id": "ZfHgF-Kb3rd7",
        "colab_type": "text"
      },
      "source": [
        "### * Correct Data Format\n",
        "\n",
        "The last step in data cleaning is checking and making sure that all data is in the correct format (int, float, text or other).\n",
        "\n",
        "In Pandas, we use\n",
        "\n",
        ".dtype() to check the data type\n",
        "\n",
        ".astype() to change the data type\n",
        "\n",
        "As we can see above, some columns are not of the correct data type. Numerical variables should have type 'float' or 'int', and variables with strings such as categories should have type 'object'. For example, 'bore' and 'stroke' variables are numerical values that describe the engines, so we should expect them to be of the type 'float' or 'int'; however, they are shown as type 'object'. We have to convert data types into a proper format for each column using the \"astype()\" method."
      ]
    },
    {
      "cell_type": "code",
      "metadata": {
        "id": "J5--vwNC3ypX",
        "colab_type": "code",
        "colab": {}
      },
      "source": [
        "df[[\"bore\", \"stroke\"]] = df[[\"bore\", \"stroke\"]].astype(\"float\")\n",
        "df[[\"normalized-losses\"]] = df[[\"normalized-losses\"]].astype(\"int\")\n",
        "df[[\"price\"]] = df[[\"price\"]].astype(\"float\")\n",
        "df[[\"peak-rpm\"]] = df[[\"peak-rpm\"]].astype(\"float\")"
      ],
      "execution_count": 165,
      "outputs": []
    },
    {
      "cell_type": "code",
      "metadata": {
        "id": "lH9r62Mf470v",
        "colab_type": "code",
        "colab": {
          "base_uri": "https://localhost:8080/",
          "height": 485
        },
        "outputId": "ff1248ac-95fc-4064-aade-7ca206e8365b"
      },
      "source": [
        "##Recheck the data after\n",
        "df.dtypes"
      ],
      "execution_count": 166,
      "outputs": [
        {
          "output_type": "execute_result",
          "data": {
            "text/plain": [
              "symboling              int64\n",
              "normalized-losses      int64\n",
              "make                  object\n",
              "fuel-type             object\n",
              "aspiration            object\n",
              "num-of-doors          object\n",
              "body-style            object\n",
              "drive-wheels          object\n",
              "engine-location       object\n",
              "wheel-base           float64\n",
              "length               float64\n",
              "width                float64\n",
              "height               float64\n",
              "curb-weight            int64\n",
              "engine-type           object\n",
              "num-of-cylinders      object\n",
              "engine-size            int64\n",
              "fuel-system           object\n",
              "bore                 float64\n",
              "stroke               float64\n",
              "compression-ratio    float64\n",
              "horsepower            object\n",
              "peak-rpm             float64\n",
              "city-mpg               int64\n",
              "highway-mpg            int64\n",
              "price                float64\n",
              "dtype: object"
            ]
          },
          "metadata": {
            "tags": []
          },
          "execution_count": 166
        }
      ]
    },
    {
      "cell_type": "markdown",
      "metadata": {
        "id": "eHZ_7lnpBNjX",
        "colab_type": "text"
      },
      "source": [
        " ## 4. Data Standardization\n",
        "Data is usually collected from different agencies with different formats. (Data Standardization is also a term for a particular type of data normalization, where we subtract the mean and divide by the standard deviation)\n",
        "\n",
        "What is Standardization?\n",
        "\n",
        "Standardization is the process of transforming data into a common format which allows the researcher to make the meaningful comparison.\n",
        "\n",
        "Example\n",
        "\n",
        "Transform mpg to L/100km:\n",
        "\n",
        "In our dataset, the fuel consumption columns \"city-mpg\" and \"highway-mpg\" are represented by mpg (miles per gallon) unit. Assume we are developing an application in a country that accept the fuel consumption with L/100km standard\n",
        "\n",
        "We will need to apply data transformation to transform mpg into L/100km?\n",
        "\n",
        "The formula for unit conversion is\n",
        "\n",
        "L/100km = 235 / mpg\n",
        "\n",
        "We can do many mathematical operations directly in Pandas."
      ]
    },
    {
      "cell_type": "code",
      "metadata": {
        "id": "b0323DG4Blk3",
        "colab_type": "code",
        "colab": {
          "base_uri": "https://localhost:8080/",
          "height": 309
        },
        "outputId": "43593127-6a41-4cce-a3be-39c6d0b8e0c5"
      },
      "source": [
        "df.head()"
      ],
      "execution_count": 167,
      "outputs": [
        {
          "output_type": "execute_result",
          "data": {
            "text/html": [
              "<div>\n",
              "<style scoped>\n",
              "    .dataframe tbody tr th:only-of-type {\n",
              "        vertical-align: middle;\n",
              "    }\n",
              "\n",
              "    .dataframe tbody tr th {\n",
              "        vertical-align: top;\n",
              "    }\n",
              "\n",
              "    .dataframe thead th {\n",
              "        text-align: right;\n",
              "    }\n",
              "</style>\n",
              "<table border=\"1\" class=\"dataframe\">\n",
              "  <thead>\n",
              "    <tr style=\"text-align: right;\">\n",
              "      <th></th>\n",
              "      <th>symboling</th>\n",
              "      <th>normalized-losses</th>\n",
              "      <th>make</th>\n",
              "      <th>fuel-type</th>\n",
              "      <th>aspiration</th>\n",
              "      <th>num-of-doors</th>\n",
              "      <th>body-style</th>\n",
              "      <th>drive-wheels</th>\n",
              "      <th>engine-location</th>\n",
              "      <th>wheel-base</th>\n",
              "      <th>length</th>\n",
              "      <th>width</th>\n",
              "      <th>height</th>\n",
              "      <th>curb-weight</th>\n",
              "      <th>engine-type</th>\n",
              "      <th>num-of-cylinders</th>\n",
              "      <th>engine-size</th>\n",
              "      <th>fuel-system</th>\n",
              "      <th>bore</th>\n",
              "      <th>stroke</th>\n",
              "      <th>compression-ratio</th>\n",
              "      <th>horsepower</th>\n",
              "      <th>peak-rpm</th>\n",
              "      <th>city-mpg</th>\n",
              "      <th>highway-mpg</th>\n",
              "      <th>price</th>\n",
              "    </tr>\n",
              "  </thead>\n",
              "  <tbody>\n",
              "    <tr>\n",
              "      <th>0</th>\n",
              "      <td>3</td>\n",
              "      <td>122</td>\n",
              "      <td>alfa-romero</td>\n",
              "      <td>gas</td>\n",
              "      <td>std</td>\n",
              "      <td>two</td>\n",
              "      <td>convertible</td>\n",
              "      <td>rwd</td>\n",
              "      <td>front</td>\n",
              "      <td>88.6</td>\n",
              "      <td>168.8</td>\n",
              "      <td>64.1</td>\n",
              "      <td>48.8</td>\n",
              "      <td>2548</td>\n",
              "      <td>dohc</td>\n",
              "      <td>four</td>\n",
              "      <td>130</td>\n",
              "      <td>mpfi</td>\n",
              "      <td>3.47</td>\n",
              "      <td>2.68</td>\n",
              "      <td>9.0</td>\n",
              "      <td>111</td>\n",
              "      <td>5000.0</td>\n",
              "      <td>21</td>\n",
              "      <td>27</td>\n",
              "      <td>13495.0</td>\n",
              "    </tr>\n",
              "    <tr>\n",
              "      <th>1</th>\n",
              "      <td>3</td>\n",
              "      <td>122</td>\n",
              "      <td>alfa-romero</td>\n",
              "      <td>gas</td>\n",
              "      <td>std</td>\n",
              "      <td>two</td>\n",
              "      <td>convertible</td>\n",
              "      <td>rwd</td>\n",
              "      <td>front</td>\n",
              "      <td>88.6</td>\n",
              "      <td>168.8</td>\n",
              "      <td>64.1</td>\n",
              "      <td>48.8</td>\n",
              "      <td>2548</td>\n",
              "      <td>dohc</td>\n",
              "      <td>four</td>\n",
              "      <td>130</td>\n",
              "      <td>mpfi</td>\n",
              "      <td>3.47</td>\n",
              "      <td>2.68</td>\n",
              "      <td>9.0</td>\n",
              "      <td>111</td>\n",
              "      <td>5000.0</td>\n",
              "      <td>21</td>\n",
              "      <td>27</td>\n",
              "      <td>16500.0</td>\n",
              "    </tr>\n",
              "    <tr>\n",
              "      <th>2</th>\n",
              "      <td>1</td>\n",
              "      <td>122</td>\n",
              "      <td>alfa-romero</td>\n",
              "      <td>gas</td>\n",
              "      <td>std</td>\n",
              "      <td>two</td>\n",
              "      <td>hatchback</td>\n",
              "      <td>rwd</td>\n",
              "      <td>front</td>\n",
              "      <td>94.5</td>\n",
              "      <td>171.2</td>\n",
              "      <td>65.5</td>\n",
              "      <td>52.4</td>\n",
              "      <td>2823</td>\n",
              "      <td>ohcv</td>\n",
              "      <td>six</td>\n",
              "      <td>152</td>\n",
              "      <td>mpfi</td>\n",
              "      <td>2.68</td>\n",
              "      <td>3.47</td>\n",
              "      <td>9.0</td>\n",
              "      <td>154</td>\n",
              "      <td>5000.0</td>\n",
              "      <td>19</td>\n",
              "      <td>26</td>\n",
              "      <td>16500.0</td>\n",
              "    </tr>\n",
              "    <tr>\n",
              "      <th>3</th>\n",
              "      <td>2</td>\n",
              "      <td>164</td>\n",
              "      <td>audi</td>\n",
              "      <td>gas</td>\n",
              "      <td>std</td>\n",
              "      <td>four</td>\n",
              "      <td>sedan</td>\n",
              "      <td>fwd</td>\n",
              "      <td>front</td>\n",
              "      <td>99.8</td>\n",
              "      <td>176.6</td>\n",
              "      <td>66.2</td>\n",
              "      <td>54.3</td>\n",
              "      <td>2337</td>\n",
              "      <td>ohc</td>\n",
              "      <td>four</td>\n",
              "      <td>109</td>\n",
              "      <td>mpfi</td>\n",
              "      <td>3.19</td>\n",
              "      <td>3.40</td>\n",
              "      <td>10.0</td>\n",
              "      <td>102</td>\n",
              "      <td>5500.0</td>\n",
              "      <td>24</td>\n",
              "      <td>30</td>\n",
              "      <td>13950.0</td>\n",
              "    </tr>\n",
              "    <tr>\n",
              "      <th>4</th>\n",
              "      <td>2</td>\n",
              "      <td>164</td>\n",
              "      <td>audi</td>\n",
              "      <td>gas</td>\n",
              "      <td>std</td>\n",
              "      <td>four</td>\n",
              "      <td>sedan</td>\n",
              "      <td>4wd</td>\n",
              "      <td>front</td>\n",
              "      <td>99.4</td>\n",
              "      <td>176.6</td>\n",
              "      <td>66.4</td>\n",
              "      <td>54.3</td>\n",
              "      <td>2824</td>\n",
              "      <td>ohc</td>\n",
              "      <td>five</td>\n",
              "      <td>136</td>\n",
              "      <td>mpfi</td>\n",
              "      <td>3.19</td>\n",
              "      <td>3.40</td>\n",
              "      <td>8.0</td>\n",
              "      <td>115</td>\n",
              "      <td>5500.0</td>\n",
              "      <td>18</td>\n",
              "      <td>22</td>\n",
              "      <td>17450.0</td>\n",
              "    </tr>\n",
              "  </tbody>\n",
              "</table>\n",
              "</div>"
            ],
            "text/plain": [
              "   symboling  normalized-losses         make  ... city-mpg highway-mpg    price\n",
              "0          3                122  alfa-romero  ...       21          27  13495.0\n",
              "1          3                122  alfa-romero  ...       21          27  16500.0\n",
              "2          1                122  alfa-romero  ...       19          26  16500.0\n",
              "3          2                164         audi  ...       24          30  13950.0\n",
              "4          2                164         audi  ...       18          22  17450.0\n",
              "\n",
              "[5 rows x 26 columns]"
            ]
          },
          "metadata": {
            "tags": []
          },
          "execution_count": 167
        }
      ]
    },
    {
      "cell_type": "code",
      "metadata": {
        "id": "9BpHhV0MBv4o",
        "colab_type": "code",
        "colab": {
          "base_uri": "https://localhost:8080/",
          "height": 309
        },
        "outputId": "c0d15f77-a324-4b0f-ab9a-531ea496d33c"
      },
      "source": [
        "# Convert mpg to L/100km by mathematical operation (235 divided by mpg)\n",
        "df['city-L/100km'] = 235/df[\"city-mpg\"]\n",
        "\n",
        "# check your transformed data \n",
        "df.head()"
      ],
      "execution_count": 168,
      "outputs": [
        {
          "output_type": "execute_result",
          "data": {
            "text/html": [
              "<div>\n",
              "<style scoped>\n",
              "    .dataframe tbody tr th:only-of-type {\n",
              "        vertical-align: middle;\n",
              "    }\n",
              "\n",
              "    .dataframe tbody tr th {\n",
              "        vertical-align: top;\n",
              "    }\n",
              "\n",
              "    .dataframe thead th {\n",
              "        text-align: right;\n",
              "    }\n",
              "</style>\n",
              "<table border=\"1\" class=\"dataframe\">\n",
              "  <thead>\n",
              "    <tr style=\"text-align: right;\">\n",
              "      <th></th>\n",
              "      <th>symboling</th>\n",
              "      <th>normalized-losses</th>\n",
              "      <th>make</th>\n",
              "      <th>fuel-type</th>\n",
              "      <th>aspiration</th>\n",
              "      <th>num-of-doors</th>\n",
              "      <th>body-style</th>\n",
              "      <th>drive-wheels</th>\n",
              "      <th>engine-location</th>\n",
              "      <th>wheel-base</th>\n",
              "      <th>length</th>\n",
              "      <th>width</th>\n",
              "      <th>height</th>\n",
              "      <th>curb-weight</th>\n",
              "      <th>engine-type</th>\n",
              "      <th>num-of-cylinders</th>\n",
              "      <th>engine-size</th>\n",
              "      <th>fuel-system</th>\n",
              "      <th>bore</th>\n",
              "      <th>stroke</th>\n",
              "      <th>compression-ratio</th>\n",
              "      <th>horsepower</th>\n",
              "      <th>peak-rpm</th>\n",
              "      <th>city-mpg</th>\n",
              "      <th>highway-mpg</th>\n",
              "      <th>price</th>\n",
              "      <th>city-L/100km</th>\n",
              "    </tr>\n",
              "  </thead>\n",
              "  <tbody>\n",
              "    <tr>\n",
              "      <th>0</th>\n",
              "      <td>3</td>\n",
              "      <td>122</td>\n",
              "      <td>alfa-romero</td>\n",
              "      <td>gas</td>\n",
              "      <td>std</td>\n",
              "      <td>two</td>\n",
              "      <td>convertible</td>\n",
              "      <td>rwd</td>\n",
              "      <td>front</td>\n",
              "      <td>88.6</td>\n",
              "      <td>168.8</td>\n",
              "      <td>64.1</td>\n",
              "      <td>48.8</td>\n",
              "      <td>2548</td>\n",
              "      <td>dohc</td>\n",
              "      <td>four</td>\n",
              "      <td>130</td>\n",
              "      <td>mpfi</td>\n",
              "      <td>3.47</td>\n",
              "      <td>2.68</td>\n",
              "      <td>9.0</td>\n",
              "      <td>111</td>\n",
              "      <td>5000.0</td>\n",
              "      <td>21</td>\n",
              "      <td>27</td>\n",
              "      <td>13495.0</td>\n",
              "      <td>11.190476</td>\n",
              "    </tr>\n",
              "    <tr>\n",
              "      <th>1</th>\n",
              "      <td>3</td>\n",
              "      <td>122</td>\n",
              "      <td>alfa-romero</td>\n",
              "      <td>gas</td>\n",
              "      <td>std</td>\n",
              "      <td>two</td>\n",
              "      <td>convertible</td>\n",
              "      <td>rwd</td>\n",
              "      <td>front</td>\n",
              "      <td>88.6</td>\n",
              "      <td>168.8</td>\n",
              "      <td>64.1</td>\n",
              "      <td>48.8</td>\n",
              "      <td>2548</td>\n",
              "      <td>dohc</td>\n",
              "      <td>four</td>\n",
              "      <td>130</td>\n",
              "      <td>mpfi</td>\n",
              "      <td>3.47</td>\n",
              "      <td>2.68</td>\n",
              "      <td>9.0</td>\n",
              "      <td>111</td>\n",
              "      <td>5000.0</td>\n",
              "      <td>21</td>\n",
              "      <td>27</td>\n",
              "      <td>16500.0</td>\n",
              "      <td>11.190476</td>\n",
              "    </tr>\n",
              "    <tr>\n",
              "      <th>2</th>\n",
              "      <td>1</td>\n",
              "      <td>122</td>\n",
              "      <td>alfa-romero</td>\n",
              "      <td>gas</td>\n",
              "      <td>std</td>\n",
              "      <td>two</td>\n",
              "      <td>hatchback</td>\n",
              "      <td>rwd</td>\n",
              "      <td>front</td>\n",
              "      <td>94.5</td>\n",
              "      <td>171.2</td>\n",
              "      <td>65.5</td>\n",
              "      <td>52.4</td>\n",
              "      <td>2823</td>\n",
              "      <td>ohcv</td>\n",
              "      <td>six</td>\n",
              "      <td>152</td>\n",
              "      <td>mpfi</td>\n",
              "      <td>2.68</td>\n",
              "      <td>3.47</td>\n",
              "      <td>9.0</td>\n",
              "      <td>154</td>\n",
              "      <td>5000.0</td>\n",
              "      <td>19</td>\n",
              "      <td>26</td>\n",
              "      <td>16500.0</td>\n",
              "      <td>12.368421</td>\n",
              "    </tr>\n",
              "    <tr>\n",
              "      <th>3</th>\n",
              "      <td>2</td>\n",
              "      <td>164</td>\n",
              "      <td>audi</td>\n",
              "      <td>gas</td>\n",
              "      <td>std</td>\n",
              "      <td>four</td>\n",
              "      <td>sedan</td>\n",
              "      <td>fwd</td>\n",
              "      <td>front</td>\n",
              "      <td>99.8</td>\n",
              "      <td>176.6</td>\n",
              "      <td>66.2</td>\n",
              "      <td>54.3</td>\n",
              "      <td>2337</td>\n",
              "      <td>ohc</td>\n",
              "      <td>four</td>\n",
              "      <td>109</td>\n",
              "      <td>mpfi</td>\n",
              "      <td>3.19</td>\n",
              "      <td>3.40</td>\n",
              "      <td>10.0</td>\n",
              "      <td>102</td>\n",
              "      <td>5500.0</td>\n",
              "      <td>24</td>\n",
              "      <td>30</td>\n",
              "      <td>13950.0</td>\n",
              "      <td>9.791667</td>\n",
              "    </tr>\n",
              "    <tr>\n",
              "      <th>4</th>\n",
              "      <td>2</td>\n",
              "      <td>164</td>\n",
              "      <td>audi</td>\n",
              "      <td>gas</td>\n",
              "      <td>std</td>\n",
              "      <td>four</td>\n",
              "      <td>sedan</td>\n",
              "      <td>4wd</td>\n",
              "      <td>front</td>\n",
              "      <td>99.4</td>\n",
              "      <td>176.6</td>\n",
              "      <td>66.4</td>\n",
              "      <td>54.3</td>\n",
              "      <td>2824</td>\n",
              "      <td>ohc</td>\n",
              "      <td>five</td>\n",
              "      <td>136</td>\n",
              "      <td>mpfi</td>\n",
              "      <td>3.19</td>\n",
              "      <td>3.40</td>\n",
              "      <td>8.0</td>\n",
              "      <td>115</td>\n",
              "      <td>5500.0</td>\n",
              "      <td>18</td>\n",
              "      <td>22</td>\n",
              "      <td>17450.0</td>\n",
              "      <td>13.055556</td>\n",
              "    </tr>\n",
              "  </tbody>\n",
              "</table>\n",
              "</div>"
            ],
            "text/plain": [
              "   symboling  normalized-losses  ...    price city-L/100km\n",
              "0          3                122  ...  13495.0    11.190476\n",
              "1          3                122  ...  16500.0    11.190476\n",
              "2          1                122  ...  16500.0    12.368421\n",
              "3          2                164  ...  13950.0     9.791667\n",
              "4          2                164  ...  17450.0    13.055556\n",
              "\n",
              "[5 rows x 27 columns]"
            ]
          },
          "metadata": {
            "tags": []
          },
          "execution_count": 168
        }
      ]
    },
    {
      "cell_type": "markdown",
      "metadata": {
        "id": "ilWAZh5PDvT9",
        "colab_type": "text"
      },
      "source": [
        "## 5. Data Normalization\n",
        "Why normalization?\n",
        "\n",
        "Normalization is the process of transforming values of several variables into a similar range. Typical normalizations include scaling the variable so the variable average is 0, scaling the variable so the variance is 1, or scaling variable so the variable values range from 0 to 1\n",
        "\n",
        "Example\n",
        "\n",
        "To demonstrate normalization, let's say we want to scale the columns \"length\", \"width\" and \"height\"\n",
        "\n",
        "Target:would like to Normalize those variables so their value ranges from 0 to 1.\n",
        "\n",
        "Approach: replace original value by (original value)/(maximum value)"
      ]
    },
    {
      "cell_type": "code",
      "metadata": {
        "id": "otkWEyrqDy1W",
        "colab_type": "code",
        "colab": {
          "base_uri": "https://localhost:8080/",
          "height": 202
        },
        "outputId": "4ec7ad1f-8812-4ffb-e3b4-7f1d9d806b1e"
      },
      "source": [
        "# replace (original value) by (original value)/(maximum value)\n",
        "df['length'] = df['length']/df['length'].max()\n",
        "df['width'] = df['width']/df['width'].max()\n",
        "\n",
        "\n",
        "df['height'] = df['height']/df['height'].max() \n",
        "# show the scaled columns\n",
        "df[[\"length\",\"width\",\"height\"]].head()"
      ],
      "execution_count": 169,
      "outputs": [
        {
          "output_type": "execute_result",
          "data": {
            "text/html": [
              "<div>\n",
              "<style scoped>\n",
              "    .dataframe tbody tr th:only-of-type {\n",
              "        vertical-align: middle;\n",
              "    }\n",
              "\n",
              "    .dataframe tbody tr th {\n",
              "        vertical-align: top;\n",
              "    }\n",
              "\n",
              "    .dataframe thead th {\n",
              "        text-align: right;\n",
              "    }\n",
              "</style>\n",
              "<table border=\"1\" class=\"dataframe\">\n",
              "  <thead>\n",
              "    <tr style=\"text-align: right;\">\n",
              "      <th></th>\n",
              "      <th>length</th>\n",
              "      <th>width</th>\n",
              "      <th>height</th>\n",
              "    </tr>\n",
              "  </thead>\n",
              "  <tbody>\n",
              "    <tr>\n",
              "      <th>0</th>\n",
              "      <td>0.811148</td>\n",
              "      <td>0.890278</td>\n",
              "      <td>0.816054</td>\n",
              "    </tr>\n",
              "    <tr>\n",
              "      <th>1</th>\n",
              "      <td>0.811148</td>\n",
              "      <td>0.890278</td>\n",
              "      <td>0.816054</td>\n",
              "    </tr>\n",
              "    <tr>\n",
              "      <th>2</th>\n",
              "      <td>0.822681</td>\n",
              "      <td>0.909722</td>\n",
              "      <td>0.876254</td>\n",
              "    </tr>\n",
              "    <tr>\n",
              "      <th>3</th>\n",
              "      <td>0.848630</td>\n",
              "      <td>0.919444</td>\n",
              "      <td>0.908027</td>\n",
              "    </tr>\n",
              "    <tr>\n",
              "      <th>4</th>\n",
              "      <td>0.848630</td>\n",
              "      <td>0.922222</td>\n",
              "      <td>0.908027</td>\n",
              "    </tr>\n",
              "  </tbody>\n",
              "</table>\n",
              "</div>"
            ],
            "text/plain": [
              "     length     width    height\n",
              "0  0.811148  0.890278  0.816054\n",
              "1  0.811148  0.890278  0.816054\n",
              "2  0.822681  0.909722  0.876254\n",
              "3  0.848630  0.919444  0.908027\n",
              "4  0.848630  0.922222  0.908027"
            ]
          },
          "metadata": {
            "tags": []
          },
          "execution_count": 169
        }
      ]
    },
    {
      "cell_type": "markdown",
      "metadata": {
        "id": "lzAxPlJwEL-w",
        "colab_type": "text"
      },
      "source": [
        "## 6. Binning\n",
        "Why binning?\n",
        "Binning is a process of transforming continuous numerical variables into discrete categorical 'bins', for grouped analysis.\n",
        "\n",
        "Example:\n",
        "\n",
        "In our dataset, \"horsepower\" is a real valued variable ranging from 48 to 288, it has 57 unique values. What if we only care about the price difference between cars with high horsepower, medium horsepower, and little horsepower (3 types)? Can we rearrange them into three ‘bins' to simplify analysis?\n",
        "\n",
        "We will use the Pandas method 'cut' to segment the 'horsepower' column into 3 bins"
      ]
    },
    {
      "cell_type": "code",
      "metadata": {
        "id": "et9msXSiEOL4",
        "colab_type": "code",
        "colab": {
          "base_uri": "https://localhost:8080/",
          "height": 313
        },
        "outputId": "cf83ec47-0d44-40f4-f096-4ef716f5877a"
      },
      "source": [
        "##Convert data to right format\n",
        "df[\"horsepower\"]=df[\"horsepower\"].astype(int, copy=True)\n",
        "\n",
        "#histogram of horsepower\n",
        "%matplotlib inline\n",
        "import matplotlib as plt\n",
        "from matplotlib import pyplot\n",
        "plt.pyplot.hist(df[\"horsepower\"])\n",
        "\n",
        "# set x/y labels and plot title\n",
        "plt.pyplot.xlabel(\"horsepower\")\n",
        "plt.pyplot.ylabel(\"count\")\n",
        "plt.pyplot.title(\"horsepower bins\")"
      ],
      "execution_count": 170,
      "outputs": [
        {
          "output_type": "execute_result",
          "data": {
            "text/plain": [
              "Text(0.5, 1.0, 'horsepower bins')"
            ]
          },
          "metadata": {
            "tags": []
          },
          "execution_count": 170
        },
        {
          "output_type": "display_data",
          "data": {
            "image/png": "[encoded data removed]",
            "text/plain": [
              "<Figure size 432x288 with 1 Axes>"
            ]
          },
          "metadata": {
            "tags": [],
            "needs_background": "light"
          }
        }
      ]
    },
    {
      "cell_type": "markdown",
      "metadata": {
        "id": "j99AMJL_Em-x",
        "colab_type": "text"
      },
      "source": [
        "We would like 3 bins of equal size bandwidth so we use numpy's linspace(start_value, end_value, numbers_generated function.\n",
        "\n",
        "Since we want to include the minimum value of horsepower we want to set start_value=min(df[\"horsepower\"]).\n",
        "\n",
        "Since we want to include the maximum value of horsepower we want to set end_value=max(df[\"horsepower\"]).\n",
        "\n",
        "Since we are building 3 bins of equal length, there should be 4 dividers, so numbers_generated=4.\n",
        "\n",
        "We build a bin array, with a minimum value to a maximum value, with bandwidth calculated above. The bins will be values used to determine when one bin ends and another begins."
      ]
    },
    {
      "cell_type": "code",
      "metadata": {
        "id": "pSZbheloEn0R",
        "colab_type": "code",
        "colab": {
          "base_uri": "https://localhost:8080/",
          "height": 662
        },
        "outputId": "70a9cd07-ccdb-42d8-e7cc-aefd91afa023"
      },
      "source": [
        "bins = np.linspace(min(df[\"horsepower\"]), max(df[\"horsepower\"]), 4)\n",
        "\n",
        "#set groupnames\n",
        "group_names = ['Low', 'Medium', 'High']\n",
        "\n",
        "#We apply the function \"cut\" the determine what each value of \"df['horsepower']\" belongs to.\n",
        "df['horsepower-binned'] = pd.cut(df['horsepower'], bins, labels=group_names, include_lowest=True )\n",
        "df[['horsepower','horsepower-binned']].head(20)\n"
      ],
      "execution_count": 171,
      "outputs": [
        {
          "output_type": "execute_result",
          "data": {
            "text/html": [
              "<div>\n",
              "<style scoped>\n",
              "    .dataframe tbody tr th:only-of-type {\n",
              "        vertical-align: middle;\n",
              "    }\n",
              "\n",
              "    .dataframe tbody tr th {\n",
              "        vertical-align: top;\n",
              "    }\n",
              "\n",
              "    .dataframe thead th {\n",
              "        text-align: right;\n",
              "    }\n",
              "</style>\n",
              "<table border=\"1\" class=\"dataframe\">\n",
              "  <thead>\n",
              "    <tr style=\"text-align: right;\">\n",
              "      <th></th>\n",
              "      <th>horsepower</th>\n",
              "      <th>horsepower-binned</th>\n",
              "    </tr>\n",
              "  </thead>\n",
              "  <tbody>\n",
              "    <tr>\n",
              "      <th>0</th>\n",
              "      <td>111</td>\n",
              "      <td>Low</td>\n",
              "    </tr>\n",
              "    <tr>\n",
              "      <th>1</th>\n",
              "      <td>111</td>\n",
              "      <td>Low</td>\n",
              "    </tr>\n",
              "    <tr>\n",
              "      <th>2</th>\n",
              "      <td>154</td>\n",
              "      <td>Medium</td>\n",
              "    </tr>\n",
              "    <tr>\n",
              "      <th>3</th>\n",
              "      <td>102</td>\n",
              "      <td>Low</td>\n",
              "    </tr>\n",
              "    <tr>\n",
              "      <th>4</th>\n",
              "      <td>115</td>\n",
              "      <td>Low</td>\n",
              "    </tr>\n",
              "    <tr>\n",
              "      <th>5</th>\n",
              "      <td>110</td>\n",
              "      <td>Low</td>\n",
              "    </tr>\n",
              "    <tr>\n",
              "      <th>6</th>\n",
              "      <td>110</td>\n",
              "      <td>Low</td>\n",
              "    </tr>\n",
              "    <tr>\n",
              "      <th>7</th>\n",
              "      <td>110</td>\n",
              "      <td>Low</td>\n",
              "    </tr>\n",
              "    <tr>\n",
              "      <th>8</th>\n",
              "      <td>140</td>\n",
              "      <td>Medium</td>\n",
              "    </tr>\n",
              "    <tr>\n",
              "      <th>9</th>\n",
              "      <td>101</td>\n",
              "      <td>Low</td>\n",
              "    </tr>\n",
              "    <tr>\n",
              "      <th>10</th>\n",
              "      <td>101</td>\n",
              "      <td>Low</td>\n",
              "    </tr>\n",
              "    <tr>\n",
              "      <th>11</th>\n",
              "      <td>121</td>\n",
              "      <td>Medium</td>\n",
              "    </tr>\n",
              "    <tr>\n",
              "      <th>12</th>\n",
              "      <td>121</td>\n",
              "      <td>Medium</td>\n",
              "    </tr>\n",
              "    <tr>\n",
              "      <th>13</th>\n",
              "      <td>121</td>\n",
              "      <td>Medium</td>\n",
              "    </tr>\n",
              "    <tr>\n",
              "      <th>14</th>\n",
              "      <td>182</td>\n",
              "      <td>Medium</td>\n",
              "    </tr>\n",
              "    <tr>\n",
              "      <th>15</th>\n",
              "      <td>182</td>\n",
              "      <td>Medium</td>\n",
              "    </tr>\n",
              "    <tr>\n",
              "      <th>16</th>\n",
              "      <td>182</td>\n",
              "      <td>Medium</td>\n",
              "    </tr>\n",
              "    <tr>\n",
              "      <th>17</th>\n",
              "      <td>48</td>\n",
              "      <td>Low</td>\n",
              "    </tr>\n",
              "    <tr>\n",
              "      <th>18</th>\n",
              "      <td>70</td>\n",
              "      <td>Low</td>\n",
              "    </tr>\n",
              "    <tr>\n",
              "      <th>19</th>\n",
              "      <td>70</td>\n",
              "      <td>Low</td>\n",
              "    </tr>\n",
              "  </tbody>\n",
              "</table>\n",
              "</div>"
            ],
            "text/plain": [
              "    horsepower horsepower-binned\n",
              "0          111               Low\n",
              "1          111               Low\n",
              "2          154            Medium\n",
              "3          102               Low\n",
              "4          115               Low\n",
              "5          110               Low\n",
              "6          110               Low\n",
              "7          110               Low\n",
              "8          140            Medium\n",
              "9          101               Low\n",
              "10         101               Low\n",
              "11         121            Medium\n",
              "12         121            Medium\n",
              "13         121            Medium\n",
              "14         182            Medium\n",
              "15         182            Medium\n",
              "16         182            Medium\n",
              "17          48               Low\n",
              "18          70               Low\n",
              "19          70               Low"
            ]
          },
          "metadata": {
            "tags": []
          },
          "execution_count": 171
        }
      ]
    },
    {
      "cell_type": "code",
      "metadata": {
        "id": "w3cnNyHZE4DZ",
        "colab_type": "code",
        "colab": {
          "base_uri": "https://localhost:8080/",
          "height": 313
        },
        "outputId": "39eabee3-665d-4bf8-c382-f4f7f61ca312"
      },
      "source": [
        "#see vehicle number in each bin\n",
        "df[\"horsepower-binned\"].value_counts()\n",
        "\n",
        "#distribution of each bin\n",
        "%matplotlib inline\n",
        "import matplotlib as plt\n",
        "from matplotlib import pyplot\n",
        "pyplot.bar(group_names, df[\"horsepower-binned\"].value_counts())\n",
        "\n",
        "# set x/y labels and plot title\n",
        "plt.pyplot.xlabel(\"horsepower\")\n",
        "plt.pyplot.ylabel(\"count\")\n",
        "plt.pyplot.title(\"horsepower bins\")"
      ],
      "execution_count": 172,
      "outputs": [
        {
          "output_type": "execute_result",
          "data": {
            "text/plain": [
              "Text(0.5, 1.0, 'horsepower bins')"
            ]
          },
          "metadata": {
            "tags": []
          },
          "execution_count": 172
        },
        {
          "output_type": "display_data",
          "data": {
            "image/png": "[encoded data removed]",
            "text/plain": [
              "<Figure size 432x288 with 1 Axes>"
            ]
          },
          "metadata": {
            "tags": [],
            "needs_background": "light"
          }
        }
      ]
    },
    {
      "cell_type": "code",
      "metadata": {
        "id": "mbzZ0nnIHbD0",
        "colab_type": "code",
        "colab": {
          "base_uri": "https://localhost:8080/",
          "height": 313
        },
        "outputId": "dcb6af25-ff29-46fb-f690-b7e818e69127"
      },
      "source": [
        "#Bins visualization\n",
        "%matplotlib inline\n",
        "import matplotlib as plt\n",
        "from matplotlib import pyplot\n",
        "\n",
        "a = (0,1,2)\n",
        "\n",
        "# draw historgram of attribute \"horsepower\" with bins = 3\n",
        "plt.pyplot.hist(df[\"horsepower\"], bins = 3)\n",
        "\n",
        "# set x/y labels and plot title\n",
        "plt.pyplot.xlabel(\"horsepower\")\n",
        "plt.pyplot.ylabel(\"count\")\n",
        "plt.pyplot.title(\"horsepower bins\")"
      ],
      "execution_count": 173,
      "outputs": [
        {
          "output_type": "execute_result",
          "data": {
            "text/plain": [
              "Text(0.5, 1.0, 'horsepower bins')"
            ]
          },
          "metadata": {
            "tags": []
          },
          "execution_count": 173
        },
        {
          "output_type": "display_data",
          "data": {
            "image/png": "[encoded data removed]",
            "text/plain": [
              "<Figure size 432x288 with 1 Axes>"
            ]
          },
          "metadata": {
            "tags": [],
            "needs_background": "light"
          }
        }
      ]
    },
    {
      "cell_type": "markdown",
      "metadata": {
        "id": "giuRCJJtHwFr",
        "colab_type": "text"
      },
      "source": [
        "## 7. Indicator variable (or dummy variable)\n",
        "What is an indicator variable?\n",
        "An indicator variable (or dummy variable) is a numerical variable used to label categories. They are called 'dummies' because the numbers themselves don't have inherent meaning.\n",
        "\n",
        "Why we use indicator variables?\n",
        "\n",
        "So we can use categorical variables for regression analysis in the later modules.\n",
        "\n",
        "Example\n",
        "We see the column \"fuel-type\" has two unique values, \"gas\" or \"diesel\". Regression doesn't understand words, only numbers. To use this attribute in regression analysis, we convert \"fuel-type\" into indicator variables."
      ]
    },
    {
      "cell_type": "code",
      "metadata": {
        "id": "63AF-aTDHxxc",
        "colab_type": "code",
        "colab": {
          "base_uri": "https://localhost:8080/",
          "height": 139
        },
        "outputId": "3464f96f-6223-4bda-e644-49c58bb58ba1"
      },
      "source": [
        "df.columns"
      ],
      "execution_count": 174,
      "outputs": [
        {
          "output_type": "execute_result",
          "data": {
            "text/plain": [
              "Index(['symboling', 'normalized-losses', 'make', 'fuel-type', 'aspiration',\n",
              "       'num-of-doors', 'body-style', 'drive-wheels', 'engine-location',\n",
              "       'wheel-base', 'length', 'width', 'height', 'curb-weight', 'engine-type',\n",
              "       'num-of-cylinders', 'engine-size', 'fuel-system', 'bore', 'stroke',\n",
              "       'compression-ratio', 'horsepower', 'peak-rpm', 'city-mpg',\n",
              "       'highway-mpg', 'price', 'city-L/100km', 'horsepower-binned'],\n",
              "      dtype='object')"
            ]
          },
          "metadata": {
            "tags": []
          },
          "execution_count": 174
        }
      ]
    },
    {
      "cell_type": "code",
      "metadata": {
        "id": "NBmD3EkpH3NO",
        "colab_type": "code",
        "colab": {
          "base_uri": "https://localhost:8080/",
          "height": 202
        },
        "outputId": "67e5e308-7138-4dd3-bc7d-4dcf2f68a9fe"
      },
      "source": [
        "#get indicator variables and assign it to data frame \"dummy_variable_1\"\n",
        "dummy_variable_1 = pd.get_dummies(df[\"fuel-type\"])\n",
        "dummy_variable_1.head()"
      ],
      "execution_count": 175,
      "outputs": [
        {
          "output_type": "execute_result",
          "data": {
            "text/html": [
              "<div>\n",
              "<style scoped>\n",
              "    .dataframe tbody tr th:only-of-type {\n",
              "        vertical-align: middle;\n",
              "    }\n",
              "\n",
              "    .dataframe tbody tr th {\n",
              "        vertical-align: top;\n",
              "    }\n",
              "\n",
              "    .dataframe thead th {\n",
              "        text-align: right;\n",
              "    }\n",
              "</style>\n",
              "<table border=\"1\" class=\"dataframe\">\n",
              "  <thead>\n",
              "    <tr style=\"text-align: right;\">\n",
              "      <th></th>\n",
              "      <th>diesel</th>\n",
              "      <th>gas</th>\n",
              "    </tr>\n",
              "  </thead>\n",
              "  <tbody>\n",
              "    <tr>\n",
              "      <th>0</th>\n",
              "      <td>0</td>\n",
              "      <td>1</td>\n",
              "    </tr>\n",
              "    <tr>\n",
              "      <th>1</th>\n",
              "      <td>0</td>\n",
              "      <td>1</td>\n",
              "    </tr>\n",
              "    <tr>\n",
              "      <th>2</th>\n",
              "      <td>0</td>\n",
              "      <td>1</td>\n",
              "    </tr>\n",
              "    <tr>\n",
              "      <th>3</th>\n",
              "      <td>0</td>\n",
              "      <td>1</td>\n",
              "    </tr>\n",
              "    <tr>\n",
              "      <th>4</th>\n",
              "      <td>0</td>\n",
              "      <td>1</td>\n",
              "    </tr>\n",
              "  </tbody>\n",
              "</table>\n",
              "</div>"
            ],
            "text/plain": [
              "   diesel  gas\n",
              "0       0    1\n",
              "1       0    1\n",
              "2       0    1\n",
              "3       0    1\n",
              "4       0    1"
            ]
          },
          "metadata": {
            "tags": []
          },
          "execution_count": 175
        }
      ]
    },
    {
      "cell_type": "code",
      "metadata": {
        "id": "psi1_8wBH5_Y",
        "colab_type": "code",
        "colab": {
          "base_uri": "https://localhost:8080/",
          "height": 202
        },
        "outputId": "3e33cf81-8ae8-453b-8337-5d742c4a536e"
      },
      "source": [
        "#change column names for clarity\n",
        "dummy_variable_1.rename(columns={'fuel-type-diesel':'gas', 'fuel-type-diesel':'diesel'}, inplace=True)\n",
        "dummy_variable_1.head()"
      ],
      "execution_count": 176,
      "outputs": [
        {
          "output_type": "execute_result",
          "data": {
            "text/html": [
              "<div>\n",
              "<style scoped>\n",
              "    .dataframe tbody tr th:only-of-type {\n",
              "        vertical-align: middle;\n",
              "    }\n",
              "\n",
              "    .dataframe tbody tr th {\n",
              "        vertical-align: top;\n",
              "    }\n",
              "\n",
              "    .dataframe thead th {\n",
              "        text-align: right;\n",
              "    }\n",
              "</style>\n",
              "<table border=\"1\" class=\"dataframe\">\n",
              "  <thead>\n",
              "    <tr style=\"text-align: right;\">\n",
              "      <th></th>\n",
              "      <th>diesel</th>\n",
              "      <th>gas</th>\n",
              "    </tr>\n",
              "  </thead>\n",
              "  <tbody>\n",
              "    <tr>\n",
              "      <th>0</th>\n",
              "      <td>0</td>\n",
              "      <td>1</td>\n",
              "    </tr>\n",
              "    <tr>\n",
              "      <th>1</th>\n",
              "      <td>0</td>\n",
              "      <td>1</td>\n",
              "    </tr>\n",
              "    <tr>\n",
              "      <th>2</th>\n",
              "      <td>0</td>\n",
              "      <td>1</td>\n",
              "    </tr>\n",
              "    <tr>\n",
              "      <th>3</th>\n",
              "      <td>0</td>\n",
              "      <td>1</td>\n",
              "    </tr>\n",
              "    <tr>\n",
              "      <th>4</th>\n",
              "      <td>0</td>\n",
              "      <td>1</td>\n",
              "    </tr>\n",
              "  </tbody>\n",
              "</table>\n",
              "</div>"
            ],
            "text/plain": [
              "   diesel  gas\n",
              "0       0    1\n",
              "1       0    1\n",
              "2       0    1\n",
              "3       0    1\n",
              "4       0    1"
            ]
          },
          "metadata": {
            "tags": []
          },
          "execution_count": 176
        }
      ]
    },
    {
      "cell_type": "code",
      "metadata": {
        "id": "Gk4XdbqGIEDd",
        "colab_type": "code",
        "colab": {
          "base_uri": "https://localhost:8080/",
          "height": 309
        },
        "outputId": "b0e0cf11-b10d-4e85-b1d1-4266dd52e199"
      },
      "source": [
        "#We now have the value 0 to represent \"gas\" and 1 to represent \"diesel\" in the column \"fuel-type\".\n",
        "# We will now insert this column back into our original dataset.\n",
        "# merge data frame \"df\" and \"dummy_variable_1\" \n",
        "df = pd.concat([df, dummy_variable_1], axis=1)\n",
        "\n",
        "# drop original column \"fuel-type\" from \"df\"\n",
        "df.drop(\"fuel-type\", axis = 1, inplace=True)\n",
        "\n",
        "df.head()"
      ],
      "execution_count": 177,
      "outputs": [
        {
          "output_type": "execute_result",
          "data": {
            "text/html": [
              "<div>\n",
              "<style scoped>\n",
              "    .dataframe tbody tr th:only-of-type {\n",
              "        vertical-align: middle;\n",
              "    }\n",
              "\n",
              "    .dataframe tbody tr th {\n",
              "        vertical-align: top;\n",
              "    }\n",
              "\n",
              "    .dataframe thead th {\n",
              "        text-align: right;\n",
              "    }\n",
              "</style>\n",
              "<table border=\"1\" class=\"dataframe\">\n",
              "  <thead>\n",
              "    <tr style=\"text-align: right;\">\n",
              "      <th></th>\n",
              "      <th>symboling</th>\n",
              "      <th>normalized-losses</th>\n",
              "      <th>make</th>\n",
              "      <th>aspiration</th>\n",
              "      <th>num-of-doors</th>\n",
              "      <th>body-style</th>\n",
              "      <th>drive-wheels</th>\n",
              "      <th>engine-location</th>\n",
              "      <th>wheel-base</th>\n",
              "      <th>length</th>\n",
              "      <th>width</th>\n",
              "      <th>height</th>\n",
              "      <th>curb-weight</th>\n",
              "      <th>engine-type</th>\n",
              "      <th>num-of-cylinders</th>\n",
              "      <th>engine-size</th>\n",
              "      <th>fuel-system</th>\n",
              "      <th>bore</th>\n",
              "      <th>stroke</th>\n",
              "      <th>compression-ratio</th>\n",
              "      <th>horsepower</th>\n",
              "      <th>peak-rpm</th>\n",
              "      <th>city-mpg</th>\n",
              "      <th>highway-mpg</th>\n",
              "      <th>price</th>\n",
              "      <th>city-L/100km</th>\n",
              "      <th>horsepower-binned</th>\n",
              "      <th>diesel</th>\n",
              "      <th>gas</th>\n",
              "    </tr>\n",
              "  </thead>\n",
              "  <tbody>\n",
              "    <tr>\n",
              "      <th>0</th>\n",
              "      <td>3</td>\n",
              "      <td>122</td>\n",
              "      <td>alfa-romero</td>\n",
              "      <td>std</td>\n",
              "      <td>two</td>\n",
              "      <td>convertible</td>\n",
              "      <td>rwd</td>\n",
              "      <td>front</td>\n",
              "      <td>88.6</td>\n",
              "      <td>0.811148</td>\n",
              "      <td>0.890278</td>\n",
              "      <td>0.816054</td>\n",
              "      <td>2548</td>\n",
              "      <td>dohc</td>\n",
              "      <td>four</td>\n",
              "      <td>130</td>\n",
              "      <td>mpfi</td>\n",
              "      <td>3.47</td>\n",
              "      <td>2.68</td>\n",
              "      <td>9.0</td>\n",
              "      <td>111</td>\n",
              "      <td>5000.0</td>\n",
              "      <td>21</td>\n",
              "      <td>27</td>\n",
              "      <td>13495.0</td>\n",
              "      <td>11.190476</td>\n",
              "      <td>Low</td>\n",
              "      <td>0</td>\n",
              "      <td>1</td>\n",
              "    </tr>\n",
              "    <tr>\n",
              "      <th>1</th>\n",
              "      <td>3</td>\n",
              "      <td>122</td>\n",
              "      <td>alfa-romero</td>\n",
              "      <td>std</td>\n",
              "      <td>two</td>\n",
              "      <td>convertible</td>\n",
              "      <td>rwd</td>\n",
              "      <td>front</td>\n",
              "      <td>88.6</td>\n",
              "      <td>0.811148</td>\n",
              "      <td>0.890278</td>\n",
              "      <td>0.816054</td>\n",
              "      <td>2548</td>\n",
              "      <td>dohc</td>\n",
              "      <td>four</td>\n",
              "      <td>130</td>\n",
              "      <td>mpfi</td>\n",
              "      <td>3.47</td>\n",
              "      <td>2.68</td>\n",
              "      <td>9.0</td>\n",
              "      <td>111</td>\n",
              "      <td>5000.0</td>\n",
              "      <td>21</td>\n",
              "      <td>27</td>\n",
              "      <td>16500.0</td>\n",
              "      <td>11.190476</td>\n",
              "      <td>Low</td>\n",
              "      <td>0</td>\n",
              "      <td>1</td>\n",
              "    </tr>\n",
              "    <tr>\n",
              "      <th>2</th>\n",
              "      <td>1</td>\n",
              "      <td>122</td>\n",
              "      <td>alfa-romero</td>\n",
              "      <td>std</td>\n",
              "      <td>two</td>\n",
              "      <td>hatchback</td>\n",
              "      <td>rwd</td>\n",
              "      <td>front</td>\n",
              "      <td>94.5</td>\n",
              "      <td>0.822681</td>\n",
              "      <td>0.909722</td>\n",
              "      <td>0.876254</td>\n",
              "      <td>2823</td>\n",
              "      <td>ohcv</td>\n",
              "      <td>six</td>\n",
              "      <td>152</td>\n",
              "      <td>mpfi</td>\n",
              "      <td>2.68</td>\n",
              "      <td>3.47</td>\n",
              "      <td>9.0</td>\n",
              "      <td>154</td>\n",
              "      <td>5000.0</td>\n",
              "      <td>19</td>\n",
              "      <td>26</td>\n",
              "      <td>16500.0</td>\n",
              "      <td>12.368421</td>\n",
              "      <td>Medium</td>\n",
              "      <td>0</td>\n",
              "      <td>1</td>\n",
              "    </tr>\n",
              "    <tr>\n",
              "      <th>3</th>\n",
              "      <td>2</td>\n",
              "      <td>164</td>\n",
              "      <td>audi</td>\n",
              "      <td>std</td>\n",
              "      <td>four</td>\n",
              "      <td>sedan</td>\n",
              "      <td>fwd</td>\n",
              "      <td>front</td>\n",
              "      <td>99.8</td>\n",
              "      <td>0.848630</td>\n",
              "      <td>0.919444</td>\n",
              "      <td>0.908027</td>\n",
              "      <td>2337</td>\n",
              "      <td>ohc</td>\n",
              "      <td>four</td>\n",
              "      <td>109</td>\n",
              "      <td>mpfi</td>\n",
              "      <td>3.19</td>\n",
              "      <td>3.40</td>\n",
              "      <td>10.0</td>\n",
              "      <td>102</td>\n",
              "      <td>5500.0</td>\n",
              "      <td>24</td>\n",
              "      <td>30</td>\n",
              "      <td>13950.0</td>\n",
              "      <td>9.791667</td>\n",
              "      <td>Low</td>\n",
              "      <td>0</td>\n",
              "      <td>1</td>\n",
              "    </tr>\n",
              "    <tr>\n",
              "      <th>4</th>\n",
              "      <td>2</td>\n",
              "      <td>164</td>\n",
              "      <td>audi</td>\n",
              "      <td>std</td>\n",
              "      <td>four</td>\n",
              "      <td>sedan</td>\n",
              "      <td>4wd</td>\n",
              "      <td>front</td>\n",
              "      <td>99.4</td>\n",
              "      <td>0.848630</td>\n",
              "      <td>0.922222</td>\n",
              "      <td>0.908027</td>\n",
              "      <td>2824</td>\n",
              "      <td>ohc</td>\n",
              "      <td>five</td>\n",
              "      <td>136</td>\n",
              "      <td>mpfi</td>\n",
              "      <td>3.19</td>\n",
              "      <td>3.40</td>\n",
              "      <td>8.0</td>\n",
              "      <td>115</td>\n",
              "      <td>5500.0</td>\n",
              "      <td>18</td>\n",
              "      <td>22</td>\n",
              "      <td>17450.0</td>\n",
              "      <td>13.055556</td>\n",
              "      <td>Low</td>\n",
              "      <td>0</td>\n",
              "      <td>1</td>\n",
              "    </tr>\n",
              "  </tbody>\n",
              "</table>\n",
              "</div>"
            ],
            "text/plain": [
              "   symboling  normalized-losses         make  ... horsepower-binned diesel gas\n",
              "0          3                122  alfa-romero  ...               Low      0   1\n",
              "1          3                122  alfa-romero  ...               Low      0   1\n",
              "2          1                122  alfa-romero  ...            Medium      0   1\n",
              "3          2                164         audi  ...               Low      0   1\n",
              "4          2                164         audi  ...               Low      0   1\n",
              "\n",
              "[5 rows x 29 columns]"
            ]
          },
          "metadata": {
            "tags": []
          },
          "execution_count": 177
        }
      ]
    },
    {
      "cell_type": "markdown",
      "metadata": {
        "id": "FeSQm4kWIjaN",
        "colab_type": "text"
      },
      "source": [
        "## 8. Visualization\n"
      ]
    },
    {
      "cell_type": "code",
      "metadata": {
        "id": "coVXiJ7BIi4D",
        "colab_type": "code",
        "colab": {}
      },
      "source": [
        "%%capture\n",
        "! pip install seaborn\n",
        "import matplotlib.pyplot as plt\n",
        "import seaborn as sns\n",
        "%matplotlib inline "
      ],
      "execution_count": 178,
      "outputs": []
    },
    {
      "cell_type": "code",
      "metadata": {
        "id": "ywXtyLXjIrvk",
        "colab_type": "code",
        "colab": {
          "base_uri": "https://localhost:8080/",
          "height": 171
        },
        "outputId": "8d93149e-823f-4208-e41f-7f9330bf2725"
      },
      "source": [
        "df[['bore', 'stroke', 'compression-ratio', 'horsepower']].corr()  "
      ],
      "execution_count": 179,
      "outputs": [
        {
          "output_type": "execute_result",
          "data": {
            "text/html": [
              "<div>\n",
              "<style scoped>\n",
              "    .dataframe tbody tr th:only-of-type {\n",
              "        vertical-align: middle;\n",
              "    }\n",
              "\n",
              "    .dataframe tbody tr th {\n",
              "        vertical-align: top;\n",
              "    }\n",
              "\n",
              "    .dataframe thead th {\n",
              "        text-align: right;\n",
              "    }\n",
              "</style>\n",
              "<table border=\"1\" class=\"dataframe\">\n",
              "  <thead>\n",
              "    <tr style=\"text-align: right;\">\n",
              "      <th></th>\n",
              "      <th>bore</th>\n",
              "      <th>stroke</th>\n",
              "      <th>compression-ratio</th>\n",
              "      <th>horsepower</th>\n",
              "    </tr>\n",
              "  </thead>\n",
              "  <tbody>\n",
              "    <tr>\n",
              "      <th>bore</th>\n",
              "      <td>1.000000</td>\n",
              "      <td>-0.055390</td>\n",
              "      <td>0.001263</td>\n",
              "      <td>0.566903</td>\n",
              "    </tr>\n",
              "    <tr>\n",
              "      <th>stroke</th>\n",
              "      <td>-0.055390</td>\n",
              "      <td>1.000000</td>\n",
              "      <td>0.187871</td>\n",
              "      <td>0.098128</td>\n",
              "    </tr>\n",
              "    <tr>\n",
              "      <th>compression-ratio</th>\n",
              "      <td>0.001263</td>\n",
              "      <td>0.187871</td>\n",
              "      <td>1.000000</td>\n",
              "      <td>-0.214489</td>\n",
              "    </tr>\n",
              "    <tr>\n",
              "      <th>horsepower</th>\n",
              "      <td>0.566903</td>\n",
              "      <td>0.098128</td>\n",
              "      <td>-0.214489</td>\n",
              "      <td>1.000000</td>\n",
              "    </tr>\n",
              "  </tbody>\n",
              "</table>\n",
              "</div>"
            ],
            "text/plain": [
              "                       bore    stroke  compression-ratio  horsepower\n",
              "bore               1.000000 -0.055390           0.001263    0.566903\n",
              "stroke            -0.055390  1.000000           0.187871    0.098128\n",
              "compression-ratio  0.001263  0.187871           1.000000   -0.214489\n",
              "horsepower         0.566903  0.098128          -0.214489    1.000000"
            ]
          },
          "metadata": {
            "tags": []
          },
          "execution_count": 179
        }
      ]
    },
    {
      "cell_type": "markdown",
      "metadata": {
        "id": "AwVESq8uIyv4",
        "colab_type": "text"
      },
      "source": [
        "In order to start understanding the (linear) relationship between an individual variable and the price. We can do this by using \"regplot\", which plots the scatterplot plus the fitted regression line for the data.\n",
        "\n",
        "Let's see several examples of different linear relationships:\n",
        "\n",
        "##### 1. Numerical Correlation\n",
        "\n",
        "* Positive linear relationship\n",
        "\n",
        "Let's find the scatterplot of \"engine-size\" and \"price\""
      ]
    },
    {
      "cell_type": "code",
      "metadata": {
        "id": "fie05qoNI0h-",
        "colab_type": "code",
        "colab": {
          "base_uri": "https://localhost:8080/",
          "height": 297
        },
        "outputId": "3fa1e92a-9b3c-43cd-b8e8-8047fc60977d"
      },
      "source": [
        "# Engine size as potential predictor variable of price\n",
        "sns.regplot(x=\"engine-size\", y=\"price\", data=df)\n",
        "plt.ylim(0,)\n",
        "\n",
        "#As the engine-size goes up, the price goes up: \n",
        "#this indicates a positive direct correlation between these two variables. \n",
        "#Engine size seems like a pretty good predictor of price since the regression line is almost a perfect diagonal line.\n",
        "\n"
      ],
      "execution_count": 180,
      "outputs": [
        {
          "output_type": "execute_result",
          "data": {
            "text/plain": [
              "(0.0, 53121.8851709904)"
            ]
          },
          "metadata": {
            "tags": []
          },
          "execution_count": 180
        },
        {
          "output_type": "display_data",
          "data": {
            "image/png": "[encoded data removed]",
            "text/plain": [
              "<Figure size 432x288 with 1 Axes>"
            ]
          },
          "metadata": {
            "tags": [],
            "needs_background": "light"
          }
        }
      ]
    },
    {
      "cell_type": "code",
      "metadata": {
        "id": "KWfCbPn7JCJ_",
        "colab_type": "code",
        "colab": {
          "base_uri": "https://localhost:8080/",
          "height": 110
        },
        "outputId": "fc3cac5b-53ec-46f3-fa5e-cd4d1f2ef285"
      },
      "source": [
        "#We can examine the correlation between 'engine-size' and 'price' and see it's approximately 0.87\n",
        "df[[\"engine-size\", \"price\"]].corr()"
      ],
      "execution_count": 181,
      "outputs": [
        {
          "output_type": "execute_result",
          "data": {
            "text/html": [
              "<div>\n",
              "<style scoped>\n",
              "    .dataframe tbody tr th:only-of-type {\n",
              "        vertical-align: middle;\n",
              "    }\n",
              "\n",
              "    .dataframe tbody tr th {\n",
              "        vertical-align: top;\n",
              "    }\n",
              "\n",
              "    .dataframe thead th {\n",
              "        text-align: right;\n",
              "    }\n",
              "</style>\n",
              "<table border=\"1\" class=\"dataframe\">\n",
              "  <thead>\n",
              "    <tr style=\"text-align: right;\">\n",
              "      <th></th>\n",
              "      <th>engine-size</th>\n",
              "      <th>price</th>\n",
              "    </tr>\n",
              "  </thead>\n",
              "  <tbody>\n",
              "    <tr>\n",
              "      <th>engine-size</th>\n",
              "      <td>1.000000</td>\n",
              "      <td>0.872335</td>\n",
              "    </tr>\n",
              "    <tr>\n",
              "      <th>price</th>\n",
              "      <td>0.872335</td>\n",
              "      <td>1.000000</td>\n",
              "    </tr>\n",
              "  </tbody>\n",
              "</table>\n",
              "</div>"
            ],
            "text/plain": [
              "             engine-size     price\n",
              "engine-size     1.000000  0.872335\n",
              "price           0.872335  1.000000"
            ]
          },
          "metadata": {
            "tags": []
          },
          "execution_count": 181
        }
      ]
    },
    {
      "cell_type": "markdown",
      "metadata": {
        "id": "ikarSzowJr3S",
        "colab_type": "text"
      },
      "source": [
        "* Negative Linear Relationship\n",
        "\n",
        "Let's see if \"highway-mpg\" as a predictor variable of \"price\"."
      ]
    },
    {
      "cell_type": "code",
      "metadata": {
        "id": "AudRG4hHJDdD",
        "colab_type": "code",
        "colab": {
          "base_uri": "https://localhost:8080/",
          "height": 297
        },
        "outputId": "21dd809a-3190-4a2e-a9d6-22d2d0e7e471"
      },
      "source": [
        "#Highway mpg is a potential predictor variable of price\n",
        "sns.regplot(x=\"highway-mpg\", y=\"price\", data=df)\n",
        "\n",
        "#As the highway-mpg goes up, the price goes down: \n",
        "#this indicates an inverse/negative relationship between these two variables. \n",
        "#Highway mpg could potentially be a predictor of price."
      ],
      "execution_count": 182,
      "outputs": [
        {
          "output_type": "execute_result",
          "data": {
            "text/plain": [
              "<matplotlib.axes._subplots.AxesSubplot at 0x7fb7cc005c18>"
            ]
          },
          "metadata": {
            "tags": []
          },
          "execution_count": 182
        },
        {
          "output_type": "display_data",
          "data": {
            "image/png": "[encoded data removed]",
            "text/plain": [
              "<Figure size 432x288 with 1 Axes>"
            ]
          },
          "metadata": {
            "tags": [],
            "needs_background": "light"
          }
        }
      ]
    },
    {
      "cell_type": "code",
      "metadata": {
        "id": "JH1SfUHbJMbO",
        "colab_type": "code",
        "colab": {
          "base_uri": "https://localhost:8080/",
          "height": 110
        },
        "outputId": "fe6241d4-7c37-4eed-e211-d29159efa5da"
      },
      "source": [
        "#We can examine the correlation between 'highway-mpg' and 'price' and see it's approximately -0.704\n",
        "df[['highway-mpg', 'price']].corr()"
      ],
      "execution_count": 183,
      "outputs": [
        {
          "output_type": "execute_result",
          "data": {
            "text/html": [
              "<div>\n",
              "<style scoped>\n",
              "    .dataframe tbody tr th:only-of-type {\n",
              "        vertical-align: middle;\n",
              "    }\n",
              "\n",
              "    .dataframe tbody tr th {\n",
              "        vertical-align: top;\n",
              "    }\n",
              "\n",
              "    .dataframe thead th {\n",
              "        text-align: right;\n",
              "    }\n",
              "</style>\n",
              "<table border=\"1\" class=\"dataframe\">\n",
              "  <thead>\n",
              "    <tr style=\"text-align: right;\">\n",
              "      <th></th>\n",
              "      <th>highway-mpg</th>\n",
              "      <th>price</th>\n",
              "    </tr>\n",
              "  </thead>\n",
              "  <tbody>\n",
              "    <tr>\n",
              "      <th>highway-mpg</th>\n",
              "      <td>1.000000</td>\n",
              "      <td>-0.704692</td>\n",
              "    </tr>\n",
              "    <tr>\n",
              "      <th>price</th>\n",
              "      <td>-0.704692</td>\n",
              "      <td>1.000000</td>\n",
              "    </tr>\n",
              "  </tbody>\n",
              "</table>\n",
              "</div>"
            ],
            "text/plain": [
              "             highway-mpg     price\n",
              "highway-mpg     1.000000 -0.704692\n",
              "price          -0.704692  1.000000"
            ]
          },
          "metadata": {
            "tags": []
          },
          "execution_count": 183
        }
      ]
    },
    {
      "cell_type": "markdown",
      "metadata": {
        "id": "GAqbu4hwJi6K",
        "colab_type": "text"
      },
      "source": [
        "* Weak Linear Relationship\n",
        "\n",
        "Let's see if \"Peak-rpm\" as a predictor variable of \"price\"."
      ]
    },
    {
      "cell_type": "code",
      "metadata": {
        "id": "uAXX65hxJXTR",
        "colab_type": "code",
        "colab": {
          "base_uri": "https://localhost:8080/",
          "height": 297
        },
        "outputId": "b3e9e988-946d-40f5-c742-c71ffcfecf33"
      },
      "source": [
        "sns.regplot(x=\"peak-rpm\", y=\"price\", data=df)\n",
        "\n",
        "#Peak rpm does not seem like a good predictor of the price at all since the regression line is close to horizontal. \n",
        "#Also, the data points are very scattered and far from the fitted line, showing lots of variability. \n",
        "#Therefore it's it is not a reliable variable"
      ],
      "execution_count": 184,
      "outputs": [
        {
          "output_type": "execute_result",
          "data": {
            "text/plain": [
              "<matplotlib.axes._subplots.AxesSubplot at 0x7fb7cbf67668>"
            ]
          },
          "metadata": {
            "tags": []
          },
          "execution_count": 184
        },
        {
          "output_type": "display_data",
          "data": {
            "image/png": "[encoded data removed]",
            "text/plain": [
              "<Figure size 432x288 with 1 Axes>"
            ]
          },
          "metadata": {
            "tags": [],
            "needs_background": "light"
          }
        }
      ]
    },
    {
      "cell_type": "code",
      "metadata": {
        "id": "BNfJJR2zOcE6",
        "colab_type": "code",
        "colab": {
          "base_uri": "https://localhost:8080/",
          "height": 110
        },
        "outputId": "b03e5591-cefa-4757-a5f5-42074ddc6bd9"
      },
      "source": [
        "#We can examine the correlation between 'peak-rpm' and 'price' and see it's approximately -0.101616\n",
        "df[['peak-rpm','price']].corr()"
      ],
      "execution_count": 185,
      "outputs": [
        {
          "output_type": "execute_result",
          "data": {
            "text/html": [
              "<div>\n",
              "<style scoped>\n",
              "    .dataframe tbody tr th:only-of-type {\n",
              "        vertical-align: middle;\n",
              "    }\n",
              "\n",
              "    .dataframe tbody tr th {\n",
              "        vertical-align: top;\n",
              "    }\n",
              "\n",
              "    .dataframe thead th {\n",
              "        text-align: right;\n",
              "    }\n",
              "</style>\n",
              "<table border=\"1\" class=\"dataframe\">\n",
              "  <thead>\n",
              "    <tr style=\"text-align: right;\">\n",
              "      <th></th>\n",
              "      <th>peak-rpm</th>\n",
              "      <th>price</th>\n",
              "    </tr>\n",
              "  </thead>\n",
              "  <tbody>\n",
              "    <tr>\n",
              "      <th>peak-rpm</th>\n",
              "      <td>1.000000</td>\n",
              "      <td>-0.101616</td>\n",
              "    </tr>\n",
              "    <tr>\n",
              "      <th>price</th>\n",
              "      <td>-0.101616</td>\n",
              "      <td>1.000000</td>\n",
              "    </tr>\n",
              "  </tbody>\n",
              "</table>\n",
              "</div>"
            ],
            "text/plain": [
              "          peak-rpm     price\n",
              "peak-rpm  1.000000 -0.101616\n",
              "price    -0.101616  1.000000"
            ]
          },
          "metadata": {
            "tags": []
          },
          "execution_count": 185
        }
      ]
    },
    {
      "cell_type": "code",
      "metadata": {
        "id": "zgHrpi_ROyyW",
        "colab_type": "code",
        "colab": {
          "base_uri": "https://localhost:8080/",
          "height": 110
        },
        "outputId": "2e09c7df-785b-42f3-d4a6-318aa2112cd2"
      },
      "source": [
        "#The correlation is 0.0823, the non-diagonal elements of the table.\n",
        "#code:\n",
        "df[[\"stroke\",\"price\"]].corr() \n"
      ],
      "execution_count": 186,
      "outputs": [
        {
          "output_type": "execute_result",
          "data": {
            "text/html": [
              "<div>\n",
              "<style scoped>\n",
              "    .dataframe tbody tr th:only-of-type {\n",
              "        vertical-align: middle;\n",
              "    }\n",
              "\n",
              "    .dataframe tbody tr th {\n",
              "        vertical-align: top;\n",
              "    }\n",
              "\n",
              "    .dataframe thead th {\n",
              "        text-align: right;\n",
              "    }\n",
              "</style>\n",
              "<table border=\"1\" class=\"dataframe\">\n",
              "  <thead>\n",
              "    <tr style=\"text-align: right;\">\n",
              "      <th></th>\n",
              "      <th>stroke</th>\n",
              "      <th>price</th>\n",
              "    </tr>\n",
              "  </thead>\n",
              "  <tbody>\n",
              "    <tr>\n",
              "      <th>stroke</th>\n",
              "      <td>1.000000</td>\n",
              "      <td>0.082269</td>\n",
              "    </tr>\n",
              "    <tr>\n",
              "      <th>price</th>\n",
              "      <td>0.082269</td>\n",
              "      <td>1.000000</td>\n",
              "    </tr>\n",
              "  </tbody>\n",
              "</table>\n",
              "</div>"
            ],
            "text/plain": [
              "          stroke     price\n",
              "stroke  1.000000  0.082269\n",
              "price   0.082269  1.000000"
            ]
          },
          "metadata": {
            "tags": []
          },
          "execution_count": 186
        }
      ]
    },
    {
      "cell_type": "code",
      "metadata": {
        "id": "AnQFzkOmO2Qe",
        "colab_type": "code",
        "colab": {
          "base_uri": "https://localhost:8080/",
          "height": 297
        },
        "outputId": "c09e1152-dc1d-4bd0-af8d-4b8e37757c50"
      },
      "source": [
        "#There is a weak correlation between the variable 'stroke' and 'price.' as such regression will not work well.  We #can see this use \"regplot\" to demonstrate this.\n",
        "\n",
        "#Code: \n",
        "sns.regplot(x=\"stroke\", y=\"price\", data=df)\n"
      ],
      "execution_count": 187,
      "outputs": [
        {
          "output_type": "execute_result",
          "data": {
            "text/plain": [
              "<matplotlib.axes._subplots.AxesSubplot at 0x7fb7cbedb898>"
            ]
          },
          "metadata": {
            "tags": []
          },
          "execution_count": 187
        },
        {
          "output_type": "display_data",
          "data": {
            "image/png": "[encoded data removed]",
            "text/plain": [
              "<Figure size 432x288 with 1 Axes>"
            ]
          },
          "metadata": {
            "tags": [],
            "needs_background": "light"
          }
        }
      ]
    },
    {
      "cell_type": "markdown",
      "metadata": {
        "id": "QC5LgfoxO7Uw",
        "colab_type": "text"
      },
      "source": [
        "##### 2. Categorical Correlation"
      ]
    },
    {
      "cell_type": "code",
      "metadata": {
        "id": "ZpFdEwe-O-9Y",
        "colab_type": "code",
        "colab": {
          "base_uri": "https://localhost:8080/",
          "height": 297
        },
        "outputId": "5fdcb342-1b42-491d-ecf0-5c07deef54b7"
      },
      "source": [
        "#relationship between \"body-style\" and \"price\".\n",
        "sns.boxplot(x=\"body-style\", y=\"price\", data=df)\n",
        "\n",
        "#We see that the distributions of price between the different body-style categories have a significant overlap, \n",
        "#and so body-style would not be a good predictor of price. "
      ],
      "execution_count": 188,
      "outputs": [
        {
          "output_type": "execute_result",
          "data": {
            "text/plain": [
              "<matplotlib.axes._subplots.AxesSubplot at 0x7fb7cc26a550>"
            ]
          },
          "metadata": {
            "tags": []
          },
          "execution_count": 188
        },
        {
          "output_type": "display_data",
          "data": {
            "image/png": "[encoded data removed]",
            "text/plain": [
              "<Figure size 432x288 with 1 Axes>"
            ]
          },
          "metadata": {
            "tags": [],
            "needs_background": "light"
          }
        }
      ]
    },
    {
      "cell_type": "code",
      "metadata": {
        "id": "GeCJKoaWPdh4",
        "colab_type": "code",
        "colab": {
          "base_uri": "https://localhost:8080/",
          "height": 297
        },
        "outputId": "13045a7f-1301-4b84-97f4-0cbc3e44bdae"
      },
      "source": [
        "#Let's examine engine \"engine-location\" and \"price\":\n",
        "sns.boxplot(x=\"engine-location\", y=\"price\", data=df)\n",
        "\n",
        "#Here we see that the distribution of price between these two engine-location categories, front and rear, \n",
        "#are distinct enough to take engine-location as a potential good predictor of price."
      ],
      "execution_count": 189,
      "outputs": [
        {
          "output_type": "execute_result",
          "data": {
            "text/plain": [
              "<matplotlib.axes._subplots.AxesSubplot at 0x7fb7cebb8f60>"
            ]
          },
          "metadata": {
            "tags": []
          },
          "execution_count": 189
        },
        {
          "output_type": "display_data",
          "data": {
            "image/png": "[encoded data removed]",
            "text/plain": [
              "<Figure size 432x288 with 1 Axes>"
            ]
          },
          "metadata": {
            "tags": [],
            "needs_background": "light"
          }
        }
      ]
    },
    {
      "cell_type": "code",
      "metadata": {
        "id": "uw8IZOMLPwkc",
        "colab_type": "code",
        "colab": {
          "base_uri": "https://localhost:8080/",
          "height": 297
        },
        "outputId": "017eea1a-7b79-46b5-e0e8-e8b442345066"
      },
      "source": [
        "#Let's examine \"drive-wheels\" and \"price\".\n",
        "# drive-wheels\n",
        "sns.boxplot(x=\"drive-wheels\", y=\"price\", data=df)\n",
        "\n",
        "#Here we see that the distribution of price between the different drive-wheels categories differs; \n",
        "#as such drive-wheels could potentially be a predictor of price."
      ],
      "execution_count": 190,
      "outputs": [
        {
          "output_type": "execute_result",
          "data": {
            "text/plain": [
              "<matplotlib.axes._subplots.AxesSubplot at 0x7fb7cebb0828>"
            ]
          },
          "metadata": {
            "tags": []
          },
          "execution_count": 190
        },
        {
          "output_type": "display_data",
          "data": {
            "image/png": "[encoded data removed]",
            "text/plain": [
              "<Figure size 432x288 with 1 Axes>"
            ]
          },
          "metadata": {
            "tags": [],
            "needs_background": "light"
          }
        }
      ]
    },
    {
      "cell_type": "markdown",
      "metadata": {
        "id": "siPUStyiRu67",
        "colab_type": "text"
      },
      "source": [
        "##### 3. Grouped variable - Correlation\n",
        "\n",
        "The \"groupby\" method groups data by different categories. The data is grouped based on one or several variables and analysis is performed on the individual groups."
      ]
    },
    {
      "cell_type": "code",
      "metadata": {
        "id": "jVPIodSlR2Jv",
        "colab_type": "code",
        "colab": {
          "base_uri": "https://localhost:8080/",
          "height": 447
        },
        "outputId": "6f56efd6-de8a-4621-c28a-b4f07954547f"
      },
      "source": [
        "df['drive-wheels'].unique()\n",
        "\n",
        "df_group_one = df[['drive-wheels','body-style','price']]\n",
        "\n",
        "#We can then calculate the average price for each of the different categories of data.\n",
        "# grouping results\n",
        "df_group_one = df_group_one.groupby(['drive-wheels'],as_index=False).mean()\n",
        "df_group_one\n",
        "\n",
        "#, let's group by both 'drive-wheels' and 'body-style'. \n",
        "#This groups the dataframe by the unique combinations 'drive-wheels' and 'body-style'. \n",
        "#We can store the results in the variable 'grouped_test1'.\n",
        "# grouping results\n",
        "df_gptest = df[['drive-wheels','body-style','price']]\n",
        "grouped_test1 = df_gptest.groupby(['drive-wheels','body-style'],as_index=False).mean()\n",
        "grouped_test1"
      ],
      "execution_count": 191,
      "outputs": [
        {
          "output_type": "execute_result",
          "data": {
            "text/html": [
              "<div>\n",
              "<style scoped>\n",
              "    .dataframe tbody tr th:only-of-type {\n",
              "        vertical-align: middle;\n",
              "    }\n",
              "\n",
              "    .dataframe tbody tr th {\n",
              "        vertical-align: top;\n",
              "    }\n",
              "\n",
              "    .dataframe thead th {\n",
              "        text-align: right;\n",
              "    }\n",
              "</style>\n",
              "<table border=\"1\" class=\"dataframe\">\n",
              "  <thead>\n",
              "    <tr style=\"text-align: right;\">\n",
              "      <th></th>\n",
              "      <th>drive-wheels</th>\n",
              "      <th>body-style</th>\n",
              "      <th>price</th>\n",
              "    </tr>\n",
              "  </thead>\n",
              "  <tbody>\n",
              "    <tr>\n",
              "      <th>0</th>\n",
              "      <td>4wd</td>\n",
              "      <td>hatchback</td>\n",
              "      <td>7603.000000</td>\n",
              "    </tr>\n",
              "    <tr>\n",
              "      <th>1</th>\n",
              "      <td>4wd</td>\n",
              "      <td>sedan</td>\n",
              "      <td>12647.333333</td>\n",
              "    </tr>\n",
              "    <tr>\n",
              "      <th>2</th>\n",
              "      <td>4wd</td>\n",
              "      <td>wagon</td>\n",
              "      <td>9095.750000</td>\n",
              "    </tr>\n",
              "    <tr>\n",
              "      <th>3</th>\n",
              "      <td>fwd</td>\n",
              "      <td>convertible</td>\n",
              "      <td>11595.000000</td>\n",
              "    </tr>\n",
              "    <tr>\n",
              "      <th>4</th>\n",
              "      <td>fwd</td>\n",
              "      <td>hardtop</td>\n",
              "      <td>8249.000000</td>\n",
              "    </tr>\n",
              "    <tr>\n",
              "      <th>5</th>\n",
              "      <td>fwd</td>\n",
              "      <td>hatchback</td>\n",
              "      <td>8396.387755</td>\n",
              "    </tr>\n",
              "    <tr>\n",
              "      <th>6</th>\n",
              "      <td>fwd</td>\n",
              "      <td>sedan</td>\n",
              "      <td>9811.800000</td>\n",
              "    </tr>\n",
              "    <tr>\n",
              "      <th>7</th>\n",
              "      <td>fwd</td>\n",
              "      <td>wagon</td>\n",
              "      <td>9997.333333</td>\n",
              "    </tr>\n",
              "    <tr>\n",
              "      <th>8</th>\n",
              "      <td>rwd</td>\n",
              "      <td>convertible</td>\n",
              "      <td>23949.600000</td>\n",
              "    </tr>\n",
              "    <tr>\n",
              "      <th>9</th>\n",
              "      <td>rwd</td>\n",
              "      <td>hardtop</td>\n",
              "      <td>24202.714286</td>\n",
              "    </tr>\n",
              "    <tr>\n",
              "      <th>10</th>\n",
              "      <td>rwd</td>\n",
              "      <td>hatchback</td>\n",
              "      <td>14337.777778</td>\n",
              "    </tr>\n",
              "    <tr>\n",
              "      <th>11</th>\n",
              "      <td>rwd</td>\n",
              "      <td>sedan</td>\n",
              "      <td>21711.833333</td>\n",
              "    </tr>\n",
              "    <tr>\n",
              "      <th>12</th>\n",
              "      <td>rwd</td>\n",
              "      <td>wagon</td>\n",
              "      <td>16994.222222</td>\n",
              "    </tr>\n",
              "  </tbody>\n",
              "</table>\n",
              "</div>"
            ],
            "text/plain": [
              "   drive-wheels   body-style         price\n",
              "0           4wd    hatchback   7603.000000\n",
              "1           4wd        sedan  12647.333333\n",
              "2           4wd        wagon   9095.750000\n",
              "3           fwd  convertible  11595.000000\n",
              "4           fwd      hardtop   8249.000000\n",
              "5           fwd    hatchback   8396.387755\n",
              "6           fwd        sedan   9811.800000\n",
              "7           fwd        wagon   9997.333333\n",
              "8           rwd  convertible  23949.600000\n",
              "9           rwd      hardtop  24202.714286\n",
              "10          rwd    hatchback  14337.777778\n",
              "11          rwd        sedan  21711.833333\n",
              "12          rwd        wagon  16994.222222"
            ]
          },
          "metadata": {
            "tags": []
          },
          "execution_count": 191
        }
      ]
    },
    {
      "cell_type": "markdown",
      "metadata": {
        "id": "TZfdnX8_SLT3",
        "colab_type": "text"
      },
      "source": [
        "This grouped data is much easier to visualize when it is made into a pivot table. A pivot table is like an Excel spreadsheet, with one variable along the column and another along the row. We can convert the dataframe to a pivot table using the method \"pivot \" to create a pivot table from the groups."
      ]
    },
    {
      "cell_type": "code",
      "metadata": {
        "id": "AIhj5nGrSL_t",
        "colab_type": "code",
        "colab": {
          "base_uri": "https://localhost:8080/",
          "height": 202
        },
        "outputId": "174c7062-949b-4796-cfba-d3860e472fbf"
      },
      "source": [
        "grouped_pivot = grouped_test1.pivot(index='drive-wheels',columns='body-style')\n",
        "grouped_pivot\n",
        "\n",
        "grouped_pivot = grouped_pivot.fillna(0) #fill missing values with 0\n",
        "grouped_pivot\n",
        "\n",
        "# grouping results\n",
        "df_gptest2 = df[['body-style','price']]\n",
        "grouped_test_bodystyle = df_gptest2.groupby(['body-style'],as_index= False).mean()\n",
        "grouped_test_bodystyle\n"
      ],
      "execution_count": 192,
      "outputs": [
        {
          "output_type": "execute_result",
          "data": {
            "text/html": [
              "<div>\n",
              "<style scoped>\n",
              "    .dataframe tbody tr th:only-of-type {\n",
              "        vertical-align: middle;\n",
              "    }\n",
              "\n",
              "    .dataframe tbody tr th {\n",
              "        vertical-align: top;\n",
              "    }\n",
              "\n",
              "    .dataframe thead th {\n",
              "        text-align: right;\n",
              "    }\n",
              "</style>\n",
              "<table border=\"1\" class=\"dataframe\">\n",
              "  <thead>\n",
              "    <tr style=\"text-align: right;\">\n",
              "      <th></th>\n",
              "      <th>body-style</th>\n",
              "      <th>price</th>\n",
              "    </tr>\n",
              "  </thead>\n",
              "  <tbody>\n",
              "    <tr>\n",
              "      <th>0</th>\n",
              "      <td>convertible</td>\n",
              "      <td>21890.500000</td>\n",
              "    </tr>\n",
              "    <tr>\n",
              "      <th>1</th>\n",
              "      <td>hardtop</td>\n",
              "      <td>22208.500000</td>\n",
              "    </tr>\n",
              "    <tr>\n",
              "      <th>2</th>\n",
              "      <td>hatchback</td>\n",
              "      <td>9957.441176</td>\n",
              "    </tr>\n",
              "    <tr>\n",
              "      <th>3</th>\n",
              "      <td>sedan</td>\n",
              "      <td>14459.755319</td>\n",
              "    </tr>\n",
              "    <tr>\n",
              "      <th>4</th>\n",
              "      <td>wagon</td>\n",
              "      <td>12371.960000</td>\n",
              "    </tr>\n",
              "  </tbody>\n",
              "</table>\n",
              "</div>"
            ],
            "text/plain": [
              "    body-style         price\n",
              "0  convertible  21890.500000\n",
              "1      hardtop  22208.500000\n",
              "2    hatchback   9957.441176\n",
              "3        sedan  14459.755319\n",
              "4        wagon  12371.960000"
            ]
          },
          "metadata": {
            "tags": []
          },
          "execution_count": 192
        }
      ]
    },
    {
      "cell_type": "markdown",
      "metadata": {
        "id": "lMbXkPGsSUkb",
        "colab_type": "text"
      },
      "source": [
        "#####Let's use a heat map to visualize the relationship between Body Style vs Price."
      ]
    },
    {
      "cell_type": "code",
      "metadata": {
        "id": "yHV5Dz8tSXsR",
        "colab_type": "code",
        "colab": {
          "base_uri": "https://localhost:8080/",
          "height": 269
        },
        "outputId": "8d07bdec-16f7-4ba6-de0a-9261a9d23167"
      },
      "source": [
        "#use the grouped results\n",
        "#The heatmap plots the target variable (price) proportional to colour with respect to the variables 'drive-wheel' and 'body-style'\n",
        "#in the vertical and horizontal axis respectively. This allows us to visualize how the price is related to 'drive-wheel' and 'body-style'.\n",
        "plt.pcolor(grouped_pivot, cmap='RdBu')\n",
        "plt.colorbar()\n",
        "plt.show()"
      ],
      "execution_count": 193,
      "outputs": [
        {
          "output_type": "display_data",
          "data": {
            "image/png": "[encoded data removed]",
            "text/plain": [
              "<Figure size 432x288 with 2 Axes>"
            ]
          },
          "metadata": {
            "tags": [],
            "needs_background": "light"
          }
        }
      ]
    },
    {
      "cell_type": "code",
      "metadata": {
        "id": "mGwZabJpSqY_",
        "colab_type": "code",
        "colab": {
          "base_uri": "https://localhost:8080/",
          "height": 311
        },
        "outputId": "e4089635-2285-4b21-a5fd-0d9f30066572"
      },
      "source": [
        "fig, ax = plt.subplots()\n",
        "im = ax.pcolor(grouped_pivot, cmap='RdBu')\n",
        "\n",
        "#label names\n",
        "row_labels = grouped_pivot.columns.levels[1]\n",
        "col_labels = grouped_pivot.index\n",
        "\n",
        "#move ticks and labels to the center\n",
        "ax.set_xticks(np.arange(grouped_pivot.shape[1]) + 0.5, minor=False)\n",
        "ax.set_yticks(np.arange(grouped_pivot.shape[0]) + 0.5, minor=False)\n",
        "\n",
        "#insert labels\n",
        "ax.set_xticklabels(row_labels, minor=False)\n",
        "ax.set_yticklabels(col_labels, minor=False)\n",
        "\n",
        "#rotate label if too long\n",
        "plt.xticks(rotation=90)\n",
        "\n",
        "fig.colorbar(im)\n",
        "plt.show()"
      ],
      "execution_count": 194,
      "outputs": [
        {
          "output_type": "display_data",
          "data": {
            "image/png": "[encoded data removed]",
            "text/plain": [
              "<Figure size 432x288 with 2 Axes>"
            ]
          },
          "metadata": {
            "tags": [],
            "needs_background": "light"
          }
        }
      ]
    },
    {
      "cell_type": "markdown",
      "metadata": {
        "id": "xG9i7xDYUY-W",
        "colab_type": "text"
      },
      "source": [
        "## 9. Correlation and Causation\n",
        "Correlation: a measure of the extent of interdependence between variables.\n",
        "\n",
        "Causation: the relationship between cause and effect between two variables.\n",
        "\n",
        "It is important to know the difference between these two and that correlation does not imply causation. Determining correlation is much simpler the determining causation as causation may require independent experimentation.\n",
        "\n",
        "Pearson Correlation\n",
        "\n",
        "The Pearson Correlation measures the linear dependence between two variables X and Y.\n",
        "\n",
        "The resulting coefficient is a value between -1 and 1 inclusive, where:\n",
        "\n",
        "1: Total positive linear correlation.\n",
        "0: No linear correlation, the two variables most likely do not affect each other.\n",
        "-1: Total negative linear correlation.\n",
        "Pearson Correlation is the default method of the function \"corr\". Like before we can calculate the Pearson Correlation of the of the 'int64' or 'float64' variables.\n"
      ]
    },
    {
      "cell_type": "code",
      "metadata": {
        "id": "aPbozXyYUgRE",
        "colab_type": "code",
        "colab": {
          "base_uri": "https://localhost:8080/",
          "height": 703
        },
        "outputId": "28a55bb2-ad96-4949-b19d-391890875b81"
      },
      "source": [
        "df.corr()"
      ],
      "execution_count": 195,
      "outputs": [
        {
          "output_type": "execute_result",
          "data": {
            "text/html": [
              "<div>\n",
              "<style scoped>\n",
              "    .dataframe tbody tr th:only-of-type {\n",
              "        vertical-align: middle;\n",
              "    }\n",
              "\n",
              "    .dataframe tbody tr th {\n",
              "        vertical-align: top;\n",
              "    }\n",
              "\n",
              "    .dataframe thead th {\n",
              "        text-align: right;\n",
              "    }\n",
              "</style>\n",
              "<table border=\"1\" class=\"dataframe\">\n",
              "  <thead>\n",
              "    <tr style=\"text-align: right;\">\n",
              "      <th></th>\n",
              "      <th>symboling</th>\n",
              "      <th>normalized-losses</th>\n",
              "      <th>wheel-base</th>\n",
              "      <th>length</th>\n",
              "      <th>width</th>\n",
              "      <th>height</th>\n",
              "      <th>curb-weight</th>\n",
              "      <th>engine-size</th>\n",
              "      <th>bore</th>\n",
              "      <th>stroke</th>\n",
              "      <th>compression-ratio</th>\n",
              "      <th>horsepower</th>\n",
              "      <th>peak-rpm</th>\n",
              "      <th>city-mpg</th>\n",
              "      <th>highway-mpg</th>\n",
              "      <th>price</th>\n",
              "      <th>city-L/100km</th>\n",
              "      <th>diesel</th>\n",
              "      <th>gas</th>\n",
              "    </tr>\n",
              "  </thead>\n",
              "  <tbody>\n",
              "    <tr>\n",
              "      <th>symboling</th>\n",
              "      <td>1.000000</td>\n",
              "      <td>0.466264</td>\n",
              "      <td>-0.535987</td>\n",
              "      <td>-0.365404</td>\n",
              "      <td>-0.242423</td>\n",
              "      <td>-0.550160</td>\n",
              "      <td>-0.233118</td>\n",
              "      <td>-0.110581</td>\n",
              "      <td>-0.140019</td>\n",
              "      <td>-0.008153</td>\n",
              "      <td>-0.182196</td>\n",
              "      <td>0.075810</td>\n",
              "      <td>0.279740</td>\n",
              "      <td>-0.035527</td>\n",
              "      <td>0.036233</td>\n",
              "      <td>-0.082391</td>\n",
              "      <td>0.066171</td>\n",
              "      <td>-0.196735</td>\n",
              "      <td>0.196735</td>\n",
              "    </tr>\n",
              "    <tr>\n",
              "      <th>normalized-losses</th>\n",
              "      <td>0.466264</td>\n",
              "      <td>1.000000</td>\n",
              "      <td>-0.056661</td>\n",
              "      <td>0.019424</td>\n",
              "      <td>0.086802</td>\n",
              "      <td>-0.373737</td>\n",
              "      <td>0.099404</td>\n",
              "      <td>0.112360</td>\n",
              "      <td>-0.029862</td>\n",
              "      <td>0.055045</td>\n",
              "      <td>-0.114713</td>\n",
              "      <td>0.217300</td>\n",
              "      <td>0.239543</td>\n",
              "      <td>-0.225016</td>\n",
              "      <td>-0.181877</td>\n",
              "      <td>0.133999</td>\n",
              "      <td>0.238567</td>\n",
              "      <td>-0.101546</td>\n",
              "      <td>0.101546</td>\n",
              "    </tr>\n",
              "    <tr>\n",
              "      <th>wheel-base</th>\n",
              "      <td>-0.535987</td>\n",
              "      <td>-0.056661</td>\n",
              "      <td>1.000000</td>\n",
              "      <td>0.876024</td>\n",
              "      <td>0.814507</td>\n",
              "      <td>0.590742</td>\n",
              "      <td>0.782097</td>\n",
              "      <td>0.572027</td>\n",
              "      <td>0.493244</td>\n",
              "      <td>0.158018</td>\n",
              "      <td>0.250313</td>\n",
              "      <td>0.371178</td>\n",
              "      <td>-0.360305</td>\n",
              "      <td>-0.470606</td>\n",
              "      <td>-0.543304</td>\n",
              "      <td>0.584642</td>\n",
              "      <td>0.476153</td>\n",
              "      <td>0.307237</td>\n",
              "      <td>-0.307237</td>\n",
              "    </tr>\n",
              "    <tr>\n",
              "      <th>length</th>\n",
              "      <td>-0.365404</td>\n",
              "      <td>0.019424</td>\n",
              "      <td>0.876024</td>\n",
              "      <td>1.000000</td>\n",
              "      <td>0.857170</td>\n",
              "      <td>0.492063</td>\n",
              "      <td>0.880665</td>\n",
              "      <td>0.685025</td>\n",
              "      <td>0.608971</td>\n",
              "      <td>0.123952</td>\n",
              "      <td>0.159733</td>\n",
              "      <td>0.579795</td>\n",
              "      <td>-0.285970</td>\n",
              "      <td>-0.665192</td>\n",
              "      <td>-0.698142</td>\n",
              "      <td>0.690628</td>\n",
              "      <td>0.657373</td>\n",
              "      <td>0.211187</td>\n",
              "      <td>-0.211187</td>\n",
              "    </tr>\n",
              "    <tr>\n",
              "      <th>width</th>\n",
              "      <td>-0.242423</td>\n",
              "      <td>0.086802</td>\n",
              "      <td>0.814507</td>\n",
              "      <td>0.857170</td>\n",
              "      <td>1.000000</td>\n",
              "      <td>0.306002</td>\n",
              "      <td>0.866201</td>\n",
              "      <td>0.729436</td>\n",
              "      <td>0.544885</td>\n",
              "      <td>0.188822</td>\n",
              "      <td>0.189867</td>\n",
              "      <td>0.615056</td>\n",
              "      <td>-0.245800</td>\n",
              "      <td>-0.633531</td>\n",
              "      <td>-0.680635</td>\n",
              "      <td>0.751265</td>\n",
              "      <td>0.673363</td>\n",
              "      <td>0.244356</td>\n",
              "      <td>-0.244356</td>\n",
              "    </tr>\n",
              "    <tr>\n",
              "      <th>height</th>\n",
              "      <td>-0.550160</td>\n",
              "      <td>-0.373737</td>\n",
              "      <td>0.590742</td>\n",
              "      <td>0.492063</td>\n",
              "      <td>0.306002</td>\n",
              "      <td>1.000000</td>\n",
              "      <td>0.307581</td>\n",
              "      <td>0.074694</td>\n",
              "      <td>0.180449</td>\n",
              "      <td>-0.060663</td>\n",
              "      <td>0.259737</td>\n",
              "      <td>-0.087001</td>\n",
              "      <td>-0.309974</td>\n",
              "      <td>-0.049800</td>\n",
              "      <td>-0.104812</td>\n",
              "      <td>0.135486</td>\n",
              "      <td>0.003811</td>\n",
              "      <td>0.281578</td>\n",
              "      <td>-0.281578</td>\n",
              "    </tr>\n",
              "    <tr>\n",
              "      <th>curb-weight</th>\n",
              "      <td>-0.233118</td>\n",
              "      <td>0.099404</td>\n",
              "      <td>0.782097</td>\n",
              "      <td>0.880665</td>\n",
              "      <td>0.866201</td>\n",
              "      <td>0.307581</td>\n",
              "      <td>1.000000</td>\n",
              "      <td>0.849072</td>\n",
              "      <td>0.644060</td>\n",
              "      <td>0.167438</td>\n",
              "      <td>0.156433</td>\n",
              "      <td>0.757981</td>\n",
              "      <td>-0.279361</td>\n",
              "      <td>-0.749543</td>\n",
              "      <td>-0.794889</td>\n",
              "      <td>0.834415</td>\n",
              "      <td>0.785353</td>\n",
              "      <td>0.221046</td>\n",
              "      <td>-0.221046</td>\n",
              "    </tr>\n",
              "    <tr>\n",
              "      <th>engine-size</th>\n",
              "      <td>-0.110581</td>\n",
              "      <td>0.112360</td>\n",
              "      <td>0.572027</td>\n",
              "      <td>0.685025</td>\n",
              "      <td>0.729436</td>\n",
              "      <td>0.074694</td>\n",
              "      <td>0.849072</td>\n",
              "      <td>1.000000</td>\n",
              "      <td>0.572609</td>\n",
              "      <td>0.205928</td>\n",
              "      <td>0.028889</td>\n",
              "      <td>0.822668</td>\n",
              "      <td>-0.256733</td>\n",
              "      <td>-0.650546</td>\n",
              "      <td>-0.679571</td>\n",
              "      <td>0.872335</td>\n",
              "      <td>0.745059</td>\n",
              "      <td>0.070779</td>\n",
              "      <td>-0.070779</td>\n",
              "    </tr>\n",
              "    <tr>\n",
              "      <th>bore</th>\n",
              "      <td>-0.140019</td>\n",
              "      <td>-0.029862</td>\n",
              "      <td>0.493244</td>\n",
              "      <td>0.608971</td>\n",
              "      <td>0.544885</td>\n",
              "      <td>0.180449</td>\n",
              "      <td>0.644060</td>\n",
              "      <td>0.572609</td>\n",
              "      <td>1.000000</td>\n",
              "      <td>-0.055390</td>\n",
              "      <td>0.001263</td>\n",
              "      <td>0.566903</td>\n",
              "      <td>-0.267392</td>\n",
              "      <td>-0.582027</td>\n",
              "      <td>-0.591309</td>\n",
              "      <td>0.543155</td>\n",
              "      <td>0.554610</td>\n",
              "      <td>0.054458</td>\n",
              "      <td>-0.054458</td>\n",
              "    </tr>\n",
              "    <tr>\n",
              "      <th>stroke</th>\n",
              "      <td>-0.008153</td>\n",
              "      <td>0.055045</td>\n",
              "      <td>0.158018</td>\n",
              "      <td>0.123952</td>\n",
              "      <td>0.188822</td>\n",
              "      <td>-0.060663</td>\n",
              "      <td>0.167438</td>\n",
              "      <td>0.205928</td>\n",
              "      <td>-0.055390</td>\n",
              "      <td>1.000000</td>\n",
              "      <td>0.187871</td>\n",
              "      <td>0.098128</td>\n",
              "      <td>-0.063561</td>\n",
              "      <td>-0.033956</td>\n",
              "      <td>-0.034636</td>\n",
              "      <td>0.082269</td>\n",
              "      <td>0.036133</td>\n",
              "      <td>0.241064</td>\n",
              "      <td>-0.241064</td>\n",
              "    </tr>\n",
              "    <tr>\n",
              "      <th>compression-ratio</th>\n",
              "      <td>-0.182196</td>\n",
              "      <td>-0.114713</td>\n",
              "      <td>0.250313</td>\n",
              "      <td>0.159733</td>\n",
              "      <td>0.189867</td>\n",
              "      <td>0.259737</td>\n",
              "      <td>0.156433</td>\n",
              "      <td>0.028889</td>\n",
              "      <td>0.001263</td>\n",
              "      <td>0.187871</td>\n",
              "      <td>1.000000</td>\n",
              "      <td>-0.214489</td>\n",
              "      <td>-0.435780</td>\n",
              "      <td>0.331425</td>\n",
              "      <td>0.268465</td>\n",
              "      <td>0.071107</td>\n",
              "      <td>-0.299372</td>\n",
              "      <td>0.985231</td>\n",
              "      <td>-0.985231</td>\n",
              "    </tr>\n",
              "    <tr>\n",
              "      <th>horsepower</th>\n",
              "      <td>0.075810</td>\n",
              "      <td>0.217300</td>\n",
              "      <td>0.371178</td>\n",
              "      <td>0.579795</td>\n",
              "      <td>0.615056</td>\n",
              "      <td>-0.087001</td>\n",
              "      <td>0.757981</td>\n",
              "      <td>0.822668</td>\n",
              "      <td>0.566903</td>\n",
              "      <td>0.098128</td>\n",
              "      <td>-0.214489</td>\n",
              "      <td>1.000000</td>\n",
              "      <td>0.107884</td>\n",
              "      <td>-0.822192</td>\n",
              "      <td>-0.804579</td>\n",
              "      <td>0.809607</td>\n",
              "      <td>0.889482</td>\n",
              "      <td>-0.169030</td>\n",
              "      <td>0.169030</td>\n",
              "    </tr>\n",
              "    <tr>\n",
              "      <th>peak-rpm</th>\n",
              "      <td>0.279740</td>\n",
              "      <td>0.239543</td>\n",
              "      <td>-0.360305</td>\n",
              "      <td>-0.285970</td>\n",
              "      <td>-0.245800</td>\n",
              "      <td>-0.309974</td>\n",
              "      <td>-0.279361</td>\n",
              "      <td>-0.256733</td>\n",
              "      <td>-0.267392</td>\n",
              "      <td>-0.063561</td>\n",
              "      <td>-0.435780</td>\n",
              "      <td>0.107884</td>\n",
              "      <td>1.000000</td>\n",
              "      <td>-0.115413</td>\n",
              "      <td>-0.058598</td>\n",
              "      <td>-0.101616</td>\n",
              "      <td>0.115830</td>\n",
              "      <td>-0.475812</td>\n",
              "      <td>0.475812</td>\n",
              "    </tr>\n",
              "    <tr>\n",
              "      <th>city-mpg</th>\n",
              "      <td>-0.035527</td>\n",
              "      <td>-0.225016</td>\n",
              "      <td>-0.470606</td>\n",
              "      <td>-0.665192</td>\n",
              "      <td>-0.633531</td>\n",
              "      <td>-0.049800</td>\n",
              "      <td>-0.749543</td>\n",
              "      <td>-0.650546</td>\n",
              "      <td>-0.582027</td>\n",
              "      <td>-0.033956</td>\n",
              "      <td>0.331425</td>\n",
              "      <td>-0.822192</td>\n",
              "      <td>-0.115413</td>\n",
              "      <td>1.000000</td>\n",
              "      <td>0.972044</td>\n",
              "      <td>-0.686571</td>\n",
              "      <td>-0.949713</td>\n",
              "      <td>0.265676</td>\n",
              "      <td>-0.265676</td>\n",
              "    </tr>\n",
              "    <tr>\n",
              "      <th>highway-mpg</th>\n",
              "      <td>0.036233</td>\n",
              "      <td>-0.181877</td>\n",
              "      <td>-0.543304</td>\n",
              "      <td>-0.698142</td>\n",
              "      <td>-0.680635</td>\n",
              "      <td>-0.104812</td>\n",
              "      <td>-0.794889</td>\n",
              "      <td>-0.679571</td>\n",
              "      <td>-0.591309</td>\n",
              "      <td>-0.034636</td>\n",
              "      <td>0.268465</td>\n",
              "      <td>-0.804579</td>\n",
              "      <td>-0.058598</td>\n",
              "      <td>0.972044</td>\n",
              "      <td>1.000000</td>\n",
              "      <td>-0.704692</td>\n",
              "      <td>-0.930028</td>\n",
              "      <td>0.198690</td>\n",
              "      <td>-0.198690</td>\n",
              "    </tr>\n",
              "    <tr>\n",
              "      <th>price</th>\n",
              "      <td>-0.082391</td>\n",
              "      <td>0.133999</td>\n",
              "      <td>0.584642</td>\n",
              "      <td>0.690628</td>\n",
              "      <td>0.751265</td>\n",
              "      <td>0.135486</td>\n",
              "      <td>0.834415</td>\n",
              "      <td>0.872335</td>\n",
              "      <td>0.543155</td>\n",
              "      <td>0.082269</td>\n",
              "      <td>0.071107</td>\n",
              "      <td>0.809607</td>\n",
              "      <td>-0.101616</td>\n",
              "      <td>-0.686571</td>\n",
              "      <td>-0.704692</td>\n",
              "      <td>1.000000</td>\n",
              "      <td>0.789898</td>\n",
              "      <td>0.110326</td>\n",
              "      <td>-0.110326</td>\n",
              "    </tr>\n",
              "    <tr>\n",
              "      <th>city-L/100km</th>\n",
              "      <td>0.066171</td>\n",
              "      <td>0.238567</td>\n",
              "      <td>0.476153</td>\n",
              "      <td>0.657373</td>\n",
              "      <td>0.673363</td>\n",
              "      <td>0.003811</td>\n",
              "      <td>0.785353</td>\n",
              "      <td>0.745059</td>\n",
              "      <td>0.554610</td>\n",
              "      <td>0.036133</td>\n",
              "      <td>-0.299372</td>\n",
              "      <td>0.889482</td>\n",
              "      <td>0.115830</td>\n",
              "      <td>-0.949713</td>\n",
              "      <td>-0.930028</td>\n",
              "      <td>0.789898</td>\n",
              "      <td>1.000000</td>\n",
              "      <td>-0.241282</td>\n",
              "      <td>0.241282</td>\n",
              "    </tr>\n",
              "    <tr>\n",
              "      <th>diesel</th>\n",
              "      <td>-0.196735</td>\n",
              "      <td>-0.101546</td>\n",
              "      <td>0.307237</td>\n",
              "      <td>0.211187</td>\n",
              "      <td>0.244356</td>\n",
              "      <td>0.281578</td>\n",
              "      <td>0.221046</td>\n",
              "      <td>0.070779</td>\n",
              "      <td>0.054458</td>\n",
              "      <td>0.241064</td>\n",
              "      <td>0.985231</td>\n",
              "      <td>-0.169030</td>\n",
              "      <td>-0.475812</td>\n",
              "      <td>0.265676</td>\n",
              "      <td>0.198690</td>\n",
              "      <td>0.110326</td>\n",
              "      <td>-0.241282</td>\n",
              "      <td>1.000000</td>\n",
              "      <td>-1.000000</td>\n",
              "    </tr>\n",
              "    <tr>\n",
              "      <th>gas</th>\n",
              "      <td>0.196735</td>\n",
              "      <td>0.101546</td>\n",
              "      <td>-0.307237</td>\n",
              "      <td>-0.211187</td>\n",
              "      <td>-0.244356</td>\n",
              "      <td>-0.281578</td>\n",
              "      <td>-0.221046</td>\n",
              "      <td>-0.070779</td>\n",
              "      <td>-0.054458</td>\n",
              "      <td>-0.241064</td>\n",
              "      <td>-0.985231</td>\n",
              "      <td>0.169030</td>\n",
              "      <td>0.475812</td>\n",
              "      <td>-0.265676</td>\n",
              "      <td>-0.198690</td>\n",
              "      <td>-0.110326</td>\n",
              "      <td>0.241282</td>\n",
              "      <td>-1.000000</td>\n",
              "      <td>1.000000</td>\n",
              "    </tr>\n",
              "  </tbody>\n",
              "</table>\n",
              "</div>"
            ],
            "text/plain": [
              "                   symboling  normalized-losses  ...    diesel       gas\n",
              "symboling           1.000000           0.466264  ... -0.196735  0.196735\n",
              "normalized-losses   0.466264           1.000000  ... -0.101546  0.101546\n",
              "wheel-base         -0.535987          -0.056661  ...  0.307237 -0.307237\n",
              "length             -0.365404           0.019424  ...  0.211187 -0.211187\n",
              "width              -0.242423           0.086802  ...  0.244356 -0.244356\n",
              "height             -0.550160          -0.373737  ...  0.281578 -0.281578\n",
              "curb-weight        -0.233118           0.099404  ...  0.221046 -0.221046\n",
              "engine-size        -0.110581           0.112360  ...  0.070779 -0.070779\n",
              "bore               -0.140019          -0.029862  ...  0.054458 -0.054458\n",
              "stroke             -0.008153           0.055045  ...  0.241064 -0.241064\n",
              "compression-ratio  -0.182196          -0.114713  ...  0.985231 -0.985231\n",
              "horsepower          0.075810           0.217300  ... -0.169030  0.169030\n",
              "peak-rpm            0.279740           0.239543  ... -0.475812  0.475812\n",
              "city-mpg           -0.035527          -0.225016  ...  0.265676 -0.265676\n",
              "highway-mpg         0.036233          -0.181877  ...  0.198690 -0.198690\n",
              "price              -0.082391           0.133999  ...  0.110326 -0.110326\n",
              "city-L/100km        0.066171           0.238567  ... -0.241282  0.241282\n",
              "diesel             -0.196735          -0.101546  ...  1.000000 -1.000000\n",
              "gas                 0.196735           0.101546  ... -1.000000  1.000000\n",
              "\n",
              "[19 rows x 19 columns]"
            ]
          },
          "metadata": {
            "tags": []
          },
          "execution_count": 195
        }
      ]
    },
    {
      "cell_type": "markdown",
      "metadata": {
        "id": "2gPjZkTlXAoI",
        "colab_type": "text"
      },
      "source": [
        "P-value:\n",
        "\n",
        "What is this P-value? The P-value is the probability value that the correlation between these two variables is statistically significant. Normally, we choose a significance level of 0.05, which means that we are 95% confident that the correlation between the variables is significant.\n",
        "\n",
        "By convention, when the\n",
        "\n",
        "* p-value is  <  0.001: we say there is strong evidence that the correlation is significant.\n",
        "* the p-value is  <  0.05: there is moderate evidence that the correlation is significant.\n",
        "* the p-value is  <  0.1: there is weak evidence that the correlation is significant.\n",
        "* the p-value is  >  0.1: there is no evidence that the correlation is significant.\n",
        "We can obtain this information using \"stats\" module in the \"scipy\" library."
      ]
    },
    {
      "cell_type": "code",
      "metadata": {
        "id": "nTpwX-WxXLw1",
        "colab_type": "code",
        "colab": {
          "base_uri": "https://localhost:8080/",
          "height": 35
        },
        "outputId": "938271c7-e495-43f5-9b73-fc153a98c526"
      },
      "source": [
        "from scipy import stats\n",
        "pearson_coef, p_value = stats.pearsonr(df['wheel-base'], df['price'])\n",
        "print(\"The Pearson Correlation Coefficient is\", pearson_coef, \" with a P-value of P =\", p_value)  "
      ],
      "execution_count": 196,
      "outputs": [
        {
          "output_type": "stream",
          "text": [
            "The Pearson Correlation Coefficient is 0.584641822265508  with a P-value of P = 8.076488270733218e-20\n"
          ],
          "name": "stdout"
        }
      ]
    },
    {
      "cell_type": "markdown",
      "metadata": {
        "id": "nNiv8eelXSFX",
        "colab_type": "text"
      },
      "source": [
        "Conclusion:\n",
        "Since the p-value is  <  0.001, the correlation between wheel-base and price is statistically significant, although the linear relationship isn't extremely strong (~0.585)"
      ]
    },
    {
      "cell_type": "code",
      "metadata": {
        "id": "Bti0BhAtXVXY",
        "colab_type": "code",
        "colab": {
          "base_uri": "https://localhost:8080/",
          "height": 35
        },
        "outputId": "2be624e8-9550-46d2-8caf-5c3b9d4ffdf2"
      },
      "source": [
        "pearson_coef, p_value = stats.pearsonr(df['horsepower'], df['price'])\n",
        "print(\"The Pearson Correlation Coefficient is\", pearson_coef, \" with a P-value of P = \", p_value)  "
      ],
      "execution_count": 197,
      "outputs": [
        {
          "output_type": "stream",
          "text": [
            "The Pearson Correlation Coefficient is 0.8096068016571054  with a P-value of P =  6.273536270650504e-48\n"
          ],
          "name": "stdout"
        }
      ]
    },
    {
      "cell_type": "markdown",
      "metadata": {
        "id": "9R_V-zLnXX22",
        "colab_type": "text"
      },
      "source": [
        "Conclusion:\n",
        "Since the p-value is  <  0.001, the correlation between horsepower and price is statistically significant, and the linear relationship is quite strong (~0.809, close to 1)"
      ]
    },
    {
      "cell_type": "code",
      "metadata": {
        "id": "tNl9wzooXaAX",
        "colab_type": "code",
        "colab": {
          "base_uri": "https://localhost:8080/",
          "height": 35
        },
        "outputId": "e0f0db1e-e2c1-494a-8282-a47d95b761c9"
      },
      "source": [
        "pearson_coef, p_value = stats.pearsonr(df['length'], df['price'])\n",
        "print(\"The Pearson Correlation Coefficient is\", pearson_coef, \" with a P-value of P = \", p_value)  "
      ],
      "execution_count": 198,
      "outputs": [
        {
          "output_type": "stream",
          "text": [
            "The Pearson Correlation Coefficient is 0.6906283804483639  with a P-value of P =  8.016477466159328e-30\n"
          ],
          "name": "stdout"
        }
      ]
    },
    {
      "cell_type": "markdown",
      "metadata": {
        "id": "lwLUVWcxXcJ7",
        "colab_type": "text"
      },
      "source": [
        "Conclusion:\n",
        "Since the p-value is  <  0.001, the correlation between length and price is statistically significant, and the linear relationship is moderately strong (~0.691)."
      ]
    },
    {
      "cell_type": "code",
      "metadata": {
        "id": "OsWcDTM6Xd2e",
        "colab_type": "code",
        "colab": {
          "base_uri": "https://localhost:8080/",
          "height": 35
        },
        "outputId": "7edb487a-b635-4995-ae92-c5d5cca46748"
      },
      "source": [
        "pearson_coef, p_value = stats.pearsonr(df['width'], df['price'])\n",
        "print(\"The Pearson Correlation Coefficient is\", pearson_coef, \" with a P-value of P =\", p_value ) "
      ],
      "execution_count": 199,
      "outputs": [
        {
          "output_type": "stream",
          "text": [
            "The Pearson Correlation Coefficient is 0.7512653440522673  with a P-value of P = 9.200335510481646e-38\n"
          ],
          "name": "stdout"
        }
      ]
    },
    {
      "cell_type": "markdown",
      "metadata": {
        "id": "6mET0dmWXf81",
        "colab_type": "text"
      },
      "source": [
        "Conclusion:\n",
        "Since the p-value is < 0.001, the correlation between width and price is statistically significant, and the linear relationship is quite strong (~0.751)."
      ]
    },
    {
      "cell_type": "code",
      "metadata": {
        "id": "9U7bERvOXiAv",
        "colab_type": "code",
        "colab": {
          "base_uri": "https://localhost:8080/",
          "height": 35
        },
        "outputId": "19820ac0-5b0b-43ea-92c1-f08ddae89d3d"
      },
      "source": [
        "pearson_coef, p_value = stats.pearsonr(df['curb-weight'], df['price'])\n",
        "print( \"The Pearson Correlation Coefficient is\", pearson_coef, \" with a P-value of P = \", p_value)  "
      ],
      "execution_count": 200,
      "outputs": [
        {
          "output_type": "stream",
          "text": [
            "The Pearson Correlation Coefficient is 0.8344145257702843  with a P-value of P =  2.189577238894065e-53\n"
          ],
          "name": "stdout"
        }
      ]
    },
    {
      "cell_type": "markdown",
      "metadata": {
        "id": "X-Y5vjtsXkWw",
        "colab_type": "text"
      },
      "source": [
        "Conclusion:\n",
        "Since the p-value is  <  0.001, the correlation between curb-weight and price is statistically significant, and the linear relationship is quite strong (~0.834)."
      ]
    },
    {
      "cell_type": "code",
      "metadata": {
        "id": "DzWmY467XmJz",
        "colab_type": "code",
        "colab": {
          "base_uri": "https://localhost:8080/",
          "height": 35
        },
        "outputId": "8a9c421f-211f-47ad-e881-d7d082b79e7b"
      },
      "source": [
        "pearson_coef, p_value = stats.pearsonr(df['engine-size'], df['price'])\n",
        "print(\"The Pearson Correlation Coefficient is\", pearson_coef, \" with a P-value of P =\", p_value) "
      ],
      "execution_count": 201,
      "outputs": [
        {
          "output_type": "stream",
          "text": [
            "The Pearson Correlation Coefficient is 0.8723351674455185  with a P-value of P = 9.265491622198389e-64\n"
          ],
          "name": "stdout"
        }
      ]
    },
    {
      "cell_type": "markdown",
      "metadata": {
        "id": "dDvrtHzIXoNb",
        "colab_type": "text"
      },
      "source": [
        "Conclusion:\n",
        "Since the p-value is  <  0.001, the correlation between engine-size and price is statistically significant, and the linear relationship is very strong (~0.872)."
      ]
    },
    {
      "cell_type": "code",
      "metadata": {
        "id": "9ARahFBFXqBK",
        "colab_type": "code",
        "colab": {
          "base_uri": "https://localhost:8080/",
          "height": 35
        },
        "outputId": "e23b1d48-32c1-4e41-cc00-55ce5f6261ab"
      },
      "source": [
        "pearson_coef, p_value = stats.pearsonr(df['bore'], df['price'])\n",
        "print(\"The Pearson Correlation Coefficient is\", pearson_coef, \" with a P-value of P =  \", p_value ) "
      ],
      "execution_count": 202,
      "outputs": [
        {
          "output_type": "stream",
          "text": [
            "The Pearson Correlation Coefficient is 0.5431553832626602  with a P-value of P =   8.049189483935489e-17\n"
          ],
          "name": "stdout"
        }
      ]
    },
    {
      "cell_type": "markdown",
      "metadata": {
        "id": "yin4txQzXsh8",
        "colab_type": "text"
      },
      "source": [
        "Conclusion:\n",
        "Since the p-value is  <  0.001, the correlation between bore and price is statistically significant, but the linear relationship is only moderate (~0.521)."
      ]
    },
    {
      "cell_type": "code",
      "metadata": {
        "id": "8VSu0J7pXvHu",
        "colab_type": "code",
        "colab": {
          "base_uri": "https://localhost:8080/",
          "height": 35
        },
        "outputId": "25bc7d89-53ab-44ad-a7ab-6c5166c1904e"
      },
      "source": [
        "pearson_coef, p_value = stats.pearsonr(df['city-mpg'], df['price'])\n",
        "print(\"The Pearson Correlation Coefficient is\", pearson_coef, \" with a P-value of P = \", p_value)  "
      ],
      "execution_count": 203,
      "outputs": [
        {
          "output_type": "stream",
          "text": [
            "The Pearson Correlation Coefficient is -0.6865710067844678  with a P-value of P =  2.321132065567641e-29\n"
          ],
          "name": "stdout"
        }
      ]
    },
    {
      "cell_type": "markdown",
      "metadata": {
        "id": "Pho-Jr2bXxWS",
        "colab_type": "text"
      },
      "source": [
        "Conclusion:\n",
        "Since the p-value is  <  0.001, the correlation between city-mpg and price is statistically significant, and the coefficient of ~ -0.687 shows that the relationship is negative and moderately strong."
      ]
    },
    {
      "cell_type": "code",
      "metadata": {
        "id": "mCrDdr8SXzr8",
        "colab_type": "code",
        "colab": {
          "base_uri": "https://localhost:8080/",
          "height": 35
        },
        "outputId": "6302528e-e7c1-4791-f291-c027f18dd592"
      },
      "source": [
        "pearson_coef, p_value = stats.pearsonr(df['highway-mpg'], df['price'])\n",
        "print( \"The Pearson Correlation Coefficient is\", pearson_coef, \" with a P-value of P = \", p_value ) "
      ],
      "execution_count": 204,
      "outputs": [
        {
          "output_type": "stream",
          "text": [
            "The Pearson Correlation Coefficient is -0.704692265058953  with a P-value of P =  1.7495471144476358e-31\n"
          ],
          "name": "stdout"
        }
      ]
    },
    {
      "cell_type": "markdown",
      "metadata": {
        "id": "A52XQq3bZrM8",
        "colab_type": "text"
      },
      "source": [
        "Conclusion:\n",
        "Since the p-value is < 0.001, the correlation between highway-mpg and price is statistically significant, and the coefficient of ~ -0.705 shows that the relationship is negative and moderately strong."
      ]
    },
    {
      "cell_type": "markdown",
      "metadata": {
        "id": "CU2zT-NxZvl6",
        "colab_type": "text"
      },
      "source": [
        "## 10. ANOVA \n",
        "\n",
        "ANOVA: Analysis of Variance\n",
        "The Analysis of Variance (ANOVA) is a statistical method used to test whether there are significant differences between the means of two or more groups. ANOVA returns two parameters:\n",
        "\n",
        "F-test score: ANOVA assumes the means of all groups are the same, calculates how much the actual means deviate from the assumption, and reports it as the F-test score. A larger score means there is a larger difference between the means.\n",
        "\n",
        "P-value: P-value tells how statistically significant is our calculated score value.\n",
        "\n",
        "If our price variable is strongly correlated with the variable we are analyzing, expect ANOVA to return a sizeable F-test score and a small p-value.\n",
        "\n"
      ]
    },
    {
      "cell_type": "markdown",
      "metadata": {
        "id": "hh5xwRdgaXob",
        "colab_type": "text"
      },
      "source": [
        "* Since ANOVA analyzes the difference between different groups of the same variable, the groupby function will come in handy. Because the ANOVA algorithm averages the data automatically, we do not need to take the average before hand.\n",
        "\n",
        "Let's see if different types 'drive-wheels' impact 'price', we group the data."
      ]
    },
    {
      "cell_type": "code",
      "metadata": {
        "id": "hqwiFWU-aURZ",
        "colab_type": "code",
        "colab": {
          "base_uri": "https://localhost:8080/",
          "height": 233
        },
        "outputId": "630ced38-3a23-4448-beb0-6710a7487bca"
      },
      "source": [
        "grouped_test2=df_gptest[['drive-wheels', 'price']].groupby(['drive-wheels'])\n",
        "grouped_test2.head(2)"
      ],
      "execution_count": 205,
      "outputs": [
        {
          "output_type": "execute_result",
          "data": {
            "text/html": [
              "<div>\n",
              "<style scoped>\n",
              "    .dataframe tbody tr th:only-of-type {\n",
              "        vertical-align: middle;\n",
              "    }\n",
              "\n",
              "    .dataframe tbody tr th {\n",
              "        vertical-align: top;\n",
              "    }\n",
              "\n",
              "    .dataframe thead th {\n",
              "        text-align: right;\n",
              "    }\n",
              "</style>\n",
              "<table border=\"1\" class=\"dataframe\">\n",
              "  <thead>\n",
              "    <tr style=\"text-align: right;\">\n",
              "      <th></th>\n",
              "      <th>drive-wheels</th>\n",
              "      <th>price</th>\n",
              "    </tr>\n",
              "  </thead>\n",
              "  <tbody>\n",
              "    <tr>\n",
              "      <th>0</th>\n",
              "      <td>rwd</td>\n",
              "      <td>13495.0</td>\n",
              "    </tr>\n",
              "    <tr>\n",
              "      <th>1</th>\n",
              "      <td>rwd</td>\n",
              "      <td>16500.0</td>\n",
              "    </tr>\n",
              "    <tr>\n",
              "      <th>3</th>\n",
              "      <td>fwd</td>\n",
              "      <td>13950.0</td>\n",
              "    </tr>\n",
              "    <tr>\n",
              "      <th>4</th>\n",
              "      <td>4wd</td>\n",
              "      <td>17450.0</td>\n",
              "    </tr>\n",
              "    <tr>\n",
              "      <th>5</th>\n",
              "      <td>fwd</td>\n",
              "      <td>15250.0</td>\n",
              "    </tr>\n",
              "    <tr>\n",
              "      <th>136</th>\n",
              "      <td>4wd</td>\n",
              "      <td>7603.0</td>\n",
              "    </tr>\n",
              "  </tbody>\n",
              "</table>\n",
              "</div>"
            ],
            "text/plain": [
              "    drive-wheels    price\n",
              "0            rwd  13495.0\n",
              "1            rwd  16500.0\n",
              "3            fwd  13950.0\n",
              "4            4wd  17450.0\n",
              "5            fwd  15250.0\n",
              "136          4wd   7603.0"
            ]
          },
          "metadata": {
            "tags": []
          },
          "execution_count": 205
        }
      ]
    },
    {
      "cell_type": "code",
      "metadata": {
        "id": "ynJIv_ejacLZ",
        "colab_type": "code",
        "colab": {
          "base_uri": "https://localhost:8080/",
          "height": 415
        },
        "outputId": "16089a59-f4ea-4be0-9d15-6479ce386e30"
      },
      "source": [
        "df_gptest"
      ],
      "execution_count": 206,
      "outputs": [
        {
          "output_type": "execute_result",
          "data": {
            "text/html": [
              "<div>\n",
              "<style scoped>\n",
              "    .dataframe tbody tr th:only-of-type {\n",
              "        vertical-align: middle;\n",
              "    }\n",
              "\n",
              "    .dataframe tbody tr th {\n",
              "        vertical-align: top;\n",
              "    }\n",
              "\n",
              "    .dataframe thead th {\n",
              "        text-align: right;\n",
              "    }\n",
              "</style>\n",
              "<table border=\"1\" class=\"dataframe\">\n",
              "  <thead>\n",
              "    <tr style=\"text-align: right;\">\n",
              "      <th></th>\n",
              "      <th>drive-wheels</th>\n",
              "      <th>body-style</th>\n",
              "      <th>price</th>\n",
              "    </tr>\n",
              "  </thead>\n",
              "  <tbody>\n",
              "    <tr>\n",
              "      <th>0</th>\n",
              "      <td>rwd</td>\n",
              "      <td>convertible</td>\n",
              "      <td>13495.0</td>\n",
              "    </tr>\n",
              "    <tr>\n",
              "      <th>1</th>\n",
              "      <td>rwd</td>\n",
              "      <td>convertible</td>\n",
              "      <td>16500.0</td>\n",
              "    </tr>\n",
              "    <tr>\n",
              "      <th>2</th>\n",
              "      <td>rwd</td>\n",
              "      <td>hatchback</td>\n",
              "      <td>16500.0</td>\n",
              "    </tr>\n",
              "    <tr>\n",
              "      <th>3</th>\n",
              "      <td>fwd</td>\n",
              "      <td>sedan</td>\n",
              "      <td>13950.0</td>\n",
              "    </tr>\n",
              "    <tr>\n",
              "      <th>4</th>\n",
              "      <td>4wd</td>\n",
              "      <td>sedan</td>\n",
              "      <td>17450.0</td>\n",
              "    </tr>\n",
              "    <tr>\n",
              "      <th>...</th>\n",
              "      <td>...</td>\n",
              "      <td>...</td>\n",
              "      <td>...</td>\n",
              "    </tr>\n",
              "    <tr>\n",
              "      <th>196</th>\n",
              "      <td>rwd</td>\n",
              "      <td>sedan</td>\n",
              "      <td>16845.0</td>\n",
              "    </tr>\n",
              "    <tr>\n",
              "      <th>197</th>\n",
              "      <td>rwd</td>\n",
              "      <td>sedan</td>\n",
              "      <td>19045.0</td>\n",
              "    </tr>\n",
              "    <tr>\n",
              "      <th>198</th>\n",
              "      <td>rwd</td>\n",
              "      <td>sedan</td>\n",
              "      <td>21485.0</td>\n",
              "    </tr>\n",
              "    <tr>\n",
              "      <th>199</th>\n",
              "      <td>rwd</td>\n",
              "      <td>sedan</td>\n",
              "      <td>22470.0</td>\n",
              "    </tr>\n",
              "    <tr>\n",
              "      <th>200</th>\n",
              "      <td>rwd</td>\n",
              "      <td>sedan</td>\n",
              "      <td>22625.0</td>\n",
              "    </tr>\n",
              "  </tbody>\n",
              "</table>\n",
              "<p>201 rows × 3 columns</p>\n",
              "</div>"
            ],
            "text/plain": [
              "    drive-wheels   body-style    price\n",
              "0            rwd  convertible  13495.0\n",
              "1            rwd  convertible  16500.0\n",
              "2            rwd    hatchback  16500.0\n",
              "3            fwd        sedan  13950.0\n",
              "4            4wd        sedan  17450.0\n",
              "..           ...          ...      ...\n",
              "196          rwd        sedan  16845.0\n",
              "197          rwd        sedan  19045.0\n",
              "198          rwd        sedan  21485.0\n",
              "199          rwd        sedan  22470.0\n",
              "200          rwd        sedan  22625.0\n",
              "\n",
              "[201 rows x 3 columns]"
            ]
          },
          "metadata": {
            "tags": []
          },
          "execution_count": 206
        }
      ]
    },
    {
      "cell_type": "code",
      "metadata": {
        "id": "jIYUoJrIae8L",
        "colab_type": "code",
        "colab": {
          "base_uri": "https://localhost:8080/",
          "height": 173
        },
        "outputId": "3c122127-0db5-42bc-f6f8-c4d4b94c69c9"
      },
      "source": [
        "#We can obtain the values of the method group using the method \"get_group\".\n",
        "grouped_test2.get_group('4wd')['price']"
      ],
      "execution_count": 207,
      "outputs": [
        {
          "output_type": "execute_result",
          "data": {
            "text/plain": [
              "4      17450.0\n",
              "136     7603.0\n",
              "140     9233.0\n",
              "141    11259.0\n",
              "144     8013.0\n",
              "145    11694.0\n",
              "150     7898.0\n",
              "151     8778.0\n",
              "Name: price, dtype: float64"
            ]
          },
          "metadata": {
            "tags": []
          },
          "execution_count": 207
        }
      ]
    },
    {
      "cell_type": "code",
      "metadata": {
        "id": "1uo1JpkHakho",
        "colab_type": "code",
        "colab": {
          "base_uri": "https://localhost:8080/",
          "height": 35
        },
        "outputId": "3819fcfe-9168-4acd-c848-fe0373069847"
      },
      "source": [
        "#we can use the function 'f_oneway' in the module 'stats' to obtain the F-test score and P-value.\n",
        "# ANOVA\n",
        "f_val, p_val = stats.f_oneway(grouped_test2.get_group('fwd')['price'], grouped_test2.get_group('rwd')['price'], grouped_test2.get_group('4wd')['price'])  \n",
        " \n",
        "print( \"ANOVA results: F=\", f_val, \", P =\", p_val) "
      ],
      "execution_count": 208,
      "outputs": [
        {
          "output_type": "stream",
          "text": [
            "ANOVA results: F= 67.95406500780399 , P = 3.3945443577151245e-23\n"
          ],
          "name": "stdout"
        }
      ]
    },
    {
      "cell_type": "markdown",
      "metadata": {
        "id": "78Yo2PRkaoqG",
        "colab_type": "text"
      },
      "source": [
        "\n",
        "This is a great result, with a large F test score showing a strong correlation and a P value of almost 0 implying almost certain statistical significance. But does this mean all three tested groups are all this highly correlated?"
      ]
    },
    {
      "cell_type": "code",
      "metadata": {
        "id": "yS6yYv0UaquJ",
        "colab_type": "code",
        "colab": {
          "base_uri": "https://localhost:8080/",
          "height": 35
        },
        "outputId": "8638f4e9-9a73-4f1f-c84f-840cbcdc85ad"
      },
      "source": [
        "#Separately: fwd and rwd\n",
        "f_val, p_val = stats.f_oneway(grouped_test2.get_group('fwd')['price'], grouped_test2.get_group('rwd')['price'])  \n",
        " \n",
        "print( \"ANOVA results: F=\", f_val, \", P =\", p_val )"
      ],
      "execution_count": 209,
      "outputs": [
        {
          "output_type": "stream",
          "text": [
            "ANOVA results: F= 130.5533160959111 , P = 2.2355306355677845e-23\n"
          ],
          "name": "stdout"
        }
      ]
    },
    {
      "cell_type": "code",
      "metadata": {
        "id": "Tqp-hSwEbBW6",
        "colab_type": "code",
        "colab": {
          "base_uri": "https://localhost:8080/",
          "height": 35
        },
        "outputId": "def611f3-3a96-4457-a10d-b925a2eadfe5"
      },
      "source": [
        "#4wd and rwd\n",
        "f_val, p_val = stats.f_oneway(grouped_test2.get_group('4wd')['price'], grouped_test2.get_group('rwd')['price'])  \n",
        "   \n",
        "print( \"ANOVA results: F=\", f_val, \", P =\", p_val)"
      ],
      "execution_count": 210,
      "outputs": [
        {
          "output_type": "stream",
          "text": [
            "ANOVA results: F= 8.580681368924756 , P = 0.004411492211225333\n"
          ],
          "name": "stdout"
        }
      ]
    },
    {
      "cell_type": "code",
      "metadata": {
        "id": "V3NPiuddiGV5",
        "colab_type": "code",
        "colab": {
          "base_uri": "https://localhost:8080/",
          "height": 35
        },
        "outputId": "96517b65-2c2b-42f9-c717-a7a13bd27649"
      },
      "source": [
        "#4wd and fwd\n",
        "f_val, p_val = stats.f_oneway(grouped_test2.get_group('4wd')['price'], grouped_test2.get_group('fwd')['price'])  \n",
        " \n",
        "print(\"ANOVA results: F=\", f_val, \", P =\", p_val)   "
      ],
      "execution_count": 211,
      "outputs": [
        {
          "output_type": "stream",
          "text": [
            "ANOVA results: F= 0.665465750252303 , P = 0.41620116697845666\n"
          ],
          "name": "stdout"
        }
      ]
    },
    {
      "cell_type": "markdown",
      "metadata": {
        "id": "BXvdxtHkiPzn",
        "colab_type": "text"
      },
      "source": [
        "Important Variables\n",
        "We now have a better idea of what our data looks like and which variables are important to take into account when predicting the car price. We have narrowed it down to the following variables:\n",
        "\n",
        "Continuous numerical variables:\n",
        "\n",
        "1. Length\n",
        "2. Width\n",
        "3. Curb-weight\n",
        "4. Engine-size\n",
        "5. Horsepower\n",
        "6. City-mpg\n",
        "7. Highway-mpg\n",
        "8. Wheel-base\n",
        "9. Bore\n",
        "\n",
        "Categorical variables:\n",
        "\n",
        "1. Drive-wheels"
      ]
    },
    {
      "cell_type": "markdown",
      "metadata": {
        "id": "1wLW4sXyiR8j",
        "colab_type": "text"
      },
      "source": [
        "## 11. Model Development"
      ]
    },
    {
      "cell_type": "markdown",
      "metadata": {
        "id": "mvfzRme4jHOt",
        "colab_type": "text"
      },
      "source": [
        "Data Analytics, we often use Model Development to help us predict future observations from the data we have.\n",
        "\n",
        "A Model will help us understand the exact relationship between different variables and how these variables are used to predict the result.\n"
      ]
    },
    {
      "cell_type": "markdown",
      "metadata": {
        "id": "7c2GZJg1jO0q",
        "colab_type": "text"
      },
      "source": [
        "#### 1. Linear Regression and Multiple Linear Regression\n",
        "Linear Regression\n",
        "One example of a Data Model that we will be using is\n",
        "\n",
        "Simple Linear Regression.\n",
        "Simple Linear Regression is a method to help us understand the relationship between two variables:\n",
        "\n",
        "The predictor/independent variable (X)\n",
        "The response/dependent variable (that we want to predict)(Y)\n",
        "The result of Linear Regression is a linear function that predicts the response (dependent) variable as a function of the predictor (independent) variable.\n",
        "\n",
        "𝑌:𝑅𝑒𝑠𝑝𝑜𝑛𝑠𝑒 𝑉𝑎𝑟𝑖𝑎𝑏𝑙𝑒𝑋:𝑃𝑟𝑒𝑑𝑖𝑐𝑡𝑜𝑟 𝑉𝑎𝑟𝑖𝑎𝑏𝑙𝑒𝑠\n",
        "Linear function:\n",
        "𝑌ℎ𝑎𝑡=𝑎+𝑏𝑋\n",
        " \n",
        "a refers to the intercept of the regression line0, in other words: the value of Y when X is 0\n",
        "b refers to the slope of the regression line, in other words: the value with which Y changes when X increases by 1 unit\n",
        "Lets load the modules for linear regression"
      ]
    },
    {
      "cell_type": "code",
      "metadata": {
        "id": "mdd3EUiujLEi",
        "colab_type": "code",
        "colab": {
          "base_uri": "https://localhost:8080/",
          "height": 35
        },
        "outputId": "105592f0-5835-405f-a4c8-d61f00f0beae"
      },
      "source": [
        "from sklearn.linear_model import LinearRegression\n",
        "\n",
        "lm = LinearRegression()\n",
        "lm"
      ],
      "execution_count": 212,
      "outputs": [
        {
          "output_type": "execute_result",
          "data": {
            "text/plain": [
              "LinearRegression(copy_X=True, fit_intercept=True, n_jobs=None, normalize=False)"
            ]
          },
          "metadata": {
            "tags": []
          },
          "execution_count": 212
        }
      ]
    },
    {
      "cell_type": "markdown",
      "metadata": {
        "id": "K4wQAPr2jfUI",
        "colab_type": "text"
      },
      "source": [
        "For this example, we want to look at how highway-mpg can help us predict car price. Using simple linear regression, we will create a linear function with \"highway-mpg\" as the predictor variable and the \"price\" as the response variabl"
      ]
    },
    {
      "cell_type": "code",
      "metadata": {
        "id": "ytNBfelSjdQI",
        "colab_type": "code",
        "colab": {
          "base_uri": "https://localhost:8080/",
          "height": 52
        },
        "outputId": "793114db-d1d8-4e94-e5a9-bb9797007ca2"
      },
      "source": [
        "X = df[['highway-mpg']]\n",
        "Y = df['price']\n",
        "\n",
        "#Fit the linear model using highway-mpg.\n",
        "lm.fit(X,Y)\n",
        "\n",
        "#We can output a prediction\n",
        "Yhat=lm.predict(X)\n",
        "Yhat[0:5]  "
      ],
      "execution_count": 213,
      "outputs": [
        {
          "output_type": "execute_result",
          "data": {
            "text/plain": [
              "array([16236.50464347, 16236.50464347, 17058.23802179, 13771.3045085 ,\n",
              "       20345.17153508])"
            ]
          },
          "metadata": {
            "tags": []
          },
          "execution_count": 213
        }
      ]
    },
    {
      "cell_type": "code",
      "metadata": {
        "id": "lDB88xzFjqJF",
        "colab_type": "code",
        "colab": {
          "base_uri": "https://localhost:8080/",
          "height": 35
        },
        "outputId": "bac0fcbc-4faf-4d30-a1f6-4191c524455a"
      },
      "source": [
        "#What is the value of the intercept (a)?\n",
        "lm.intercept_"
      ],
      "execution_count": 214,
      "outputs": [
        {
          "output_type": "execute_result",
          "data": {
            "text/plain": [
              "38423.3058581574"
            ]
          },
          "metadata": {
            "tags": []
          },
          "execution_count": 214
        }
      ]
    },
    {
      "cell_type": "code",
      "metadata": {
        "id": "hoGnA7NMjtoo",
        "colab_type": "code",
        "colab": {
          "base_uri": "https://localhost:8080/",
          "height": 35
        },
        "outputId": "1035944b-1521-4016-f599-a45d2caf7b26"
      },
      "source": [
        "#What is the value of the Slope (b)?\n",
        "lm.coef_"
      ],
      "execution_count": 215,
      "outputs": [
        {
          "output_type": "execute_result",
          "data": {
            "text/plain": [
              "array([-821.73337832])"
            ]
          },
          "metadata": {
            "tags": []
          },
          "execution_count": 215
        }
      ]
    },
    {
      "cell_type": "markdown",
      "metadata": {
        "id": "4oAn_U-Sj3ey",
        "colab_type": "text"
      },
      "source": [
        "What is the final estimated linear model we get?\n",
        "As we saw above, we should get a final linear model with the structure:\n",
        "\n",
        "𝑌ℎ𝑎𝑡=𝑎+𝑏𝑋\n",
        " \n",
        "Plugging in the actual values we get:\n",
        "\n",
        "price = 38423.31 - 821.73 x highway-mpg"
      ]
    },
    {
      "cell_type": "markdown",
      "metadata": {
        "id": "g74gnoPgkZpp",
        "colab_type": "text"
      },
      "source": [
        "#### 2. Multiple Linear Regression\n",
        "What if we want to predict car price using more than one variable?\n",
        "\n",
        "If we want to use more variables in our model to predict car price, we can use Multiple Linear Regression. Multiple Linear Regression is very similar to Simple Linear Regression, but this method is used to explain the relationship between one continuous response (dependent) variable and two or more predictor (independent) variables. Most of the real-world regression models involve multiple predictors. We will illustrate the structure by using four predictor variables, but these results can generalize to any integer:\n",
        "\n",
        "𝑌:𝑅𝑒𝑠𝑝𝑜𝑛𝑠𝑒 𝑉𝑎𝑟𝑖𝑎𝑏𝑙𝑒𝑋1:𝑃𝑟𝑒𝑑𝑖𝑐𝑡𝑜𝑟 𝑉𝑎𝑟𝑖𝑎𝑏𝑙𝑒 1𝑋2:𝑃𝑟𝑒𝑑𝑖𝑐𝑡𝑜𝑟 𝑉𝑎𝑟𝑖𝑎𝑏𝑙𝑒 2𝑋3:𝑃𝑟𝑒𝑑𝑖𝑐𝑡𝑜𝑟 𝑉𝑎𝑟𝑖𝑎𝑏𝑙𝑒 3𝑋4:𝑃𝑟𝑒𝑑𝑖𝑐𝑡𝑜𝑟 𝑉𝑎𝑟𝑖𝑎𝑏𝑙𝑒 4\n",
        "𝑎:𝑖𝑛𝑡𝑒𝑟𝑐𝑒𝑝𝑡𝑏1:𝑐𝑜𝑒𝑓𝑓𝑖𝑐𝑖𝑒𝑛𝑡𝑠 𝑜𝑓 𝑉𝑎𝑟𝑖𝑎𝑏𝑙𝑒 1𝑏2:𝑐𝑜𝑒𝑓𝑓𝑖𝑐𝑖𝑒𝑛𝑡𝑠 𝑜𝑓 𝑉𝑎𝑟𝑖𝑎𝑏𝑙𝑒 2𝑏3:𝑐𝑜𝑒𝑓𝑓𝑖𝑐𝑖𝑒𝑛𝑡𝑠 𝑜𝑓 𝑉𝑎𝑟𝑖𝑎𝑏𝑙𝑒 3𝑏4:𝑐𝑜𝑒𝑓𝑓𝑖𝑐𝑖𝑒𝑛𝑡𝑠 𝑜𝑓 𝑉𝑎𝑟𝑖𝑎𝑏𝑙𝑒 4\n",
        "The equation is given by\n",
        "\n",
        "𝑌ℎ𝑎𝑡=𝑎+𝑏1𝑋1+𝑏2𝑋2+𝑏3𝑋3+𝑏4𝑋4\n",
        " \n",
        "From the previous section we know that other good predictors of price could be:\n",
        "\n",
        "Horsepower\n",
        "Curb-weight\n",
        "Engine-size\n",
        "Highway-mpg\n",
        "Let's develop a model using these variables as the predictor variables."
      ]
    },
    {
      "cell_type": "code",
      "metadata": {
        "id": "C_LFrklkkgId",
        "colab_type": "code",
        "colab": {
          "base_uri": "https://localhost:8080/",
          "height": 35
        },
        "outputId": "a9337211-c21b-4ee5-8063-c14685a3fead"
      },
      "source": [
        "Z = df[['horsepower', 'curb-weight', 'engine-size', 'highway-mpg']]\n",
        "\n",
        "lm.fit(Z, df['price'])"
      ],
      "execution_count": 216,
      "outputs": [
        {
          "output_type": "execute_result",
          "data": {
            "text/plain": [
              "LinearRegression(copy_X=True, fit_intercept=True, n_jobs=None, normalize=False)"
            ]
          },
          "metadata": {
            "tags": []
          },
          "execution_count": 216
        }
      ]
    },
    {
      "cell_type": "code",
      "metadata": {
        "id": "dj9EREh5km0R",
        "colab_type": "code",
        "colab": {
          "base_uri": "https://localhost:8080/",
          "height": 35
        },
        "outputId": "df027ccf-332f-4e9f-e8f1-325ae62e2c17"
      },
      "source": [
        "lm.intercept_"
      ],
      "execution_count": 217,
      "outputs": [
        {
          "output_type": "execute_result",
          "data": {
            "text/plain": [
              "-15811.863767729232"
            ]
          },
          "metadata": {
            "tags": []
          },
          "execution_count": 217
        }
      ]
    },
    {
      "cell_type": "code",
      "metadata": {
        "id": "FnW7HWNKkohI",
        "colab_type": "code",
        "colab": {
          "base_uri": "https://localhost:8080/",
          "height": 35
        },
        "outputId": "ac64dfaa-3343-40fe-ea81-ffeaa0d3a757"
      },
      "source": [
        "lm.coef_"
      ],
      "execution_count": 218,
      "outputs": [
        {
          "output_type": "execute_result",
          "data": {
            "text/plain": [
              "array([53.53022809,  4.70805253, 81.51280006, 36.1593925 ])"
            ]
          },
          "metadata": {
            "tags": []
          },
          "execution_count": 218
        }
      ]
    },
    {
      "cell_type": "markdown",
      "metadata": {
        "id": "A9XgR02Rn8-L",
        "colab_type": "text"
      },
      "source": [
        "## 12. Model Evaluation\n",
        "\n",
        "Now that we've developed some models, how do we evaluate our models and how do we choose the best one? One way to do this is by using visualization."
      ]
    },
    {
      "cell_type": "code",
      "metadata": {
        "id": "P4reZ6EhoFFE",
        "colab_type": "code",
        "colab": {}
      },
      "source": [
        " #import the visualization package: seaborn\n",
        "import seaborn as sns\n",
        "%matplotlib inline "
      ],
      "execution_count": 219,
      "outputs": []
    },
    {
      "cell_type": "markdown",
      "metadata": {
        "id": "byiKXNvKoIjt",
        "colab_type": "text"
      },
      "source": [
        "#### 1. Regression Plot\n",
        "When it comes to simple linear regression, an excellent way to visualize the fit of our model is by using regression plots.\n",
        "\n",
        "This plot will show a combination of a scattered data points (a scatter plot), as well as the fitted linear regression line going through the data. This will give us a reasonable estimate of the relationship between the two variables, the strength of the correlation, as well as the direction (positive or negative correlation).\n",
        "\n",
        "Let's visualize Horsepower as potential predictor variable of price:"
      ]
    },
    {
      "cell_type": "code",
      "metadata": {
        "id": "Df7bKWaFoJ8k",
        "colab_type": "code",
        "colab": {
          "base_uri": "https://localhost:8080/",
          "height": 623
        },
        "outputId": "3bdee987-0f5d-48c0-89e3-d15a135054d9"
      },
      "source": [
        "width = 12\n",
        "height = 10\n",
        "plt.figure(figsize=(width, height))\n",
        "sns.regplot(x=\"highway-mpg\", y=\"price\", data=df)\n",
        "plt.ylim(0,)"
      ],
      "execution_count": 220,
      "outputs": [
        {
          "output_type": "execute_result",
          "data": {
            "text/plain": [
              "(0.0, 48180.441262162174)"
            ]
          },
          "metadata": {
            "tags": []
          },
          "execution_count": 220
        },
        {
          "output_type": "display_data",
          "data": {
            "image/png": "[encoded data removed]",
            "text/plain": [
              "<Figure size 864x720 with 1 Axes>"
            ]
          },
          "metadata": {
            "tags": [],
            "needs_background": "light"
          }
        }
      ]
    },
    {
      "cell_type": "markdown",
      "metadata": {
        "id": "StZo5wx-oOTd",
        "colab_type": "text"
      },
      "source": [
        "We can see from this plot that price is negatively correlated to highway-mpg, since the regression slope is negative. One thing to keep in mind when looking at a regression plot is to pay attention to how scattered the data points are around the regression line. This will give you a good indication of the variance of the data, and whether a linear model would be the best fit or not. If the data is too far off from the line, this linear model might not be the best model for this data. Let's compare this plot to the regression plot of \"peak-rpm\"."
      ]
    },
    {
      "cell_type": "code",
      "metadata": {
        "id": "M1y2fn9ooPFg",
        "colab_type": "code",
        "colab": {
          "base_uri": "https://localhost:8080/",
          "height": 623
        },
        "outputId": "4aa00f36-04f8-4393-c999-fdcdb6684f24"
      },
      "source": [
        "plt.figure(figsize=(width, height))\n",
        "sns.regplot(x=\"peak-rpm\", y=\"price\", data=df)\n",
        "plt.ylim(0,)"
      ],
      "execution_count": 221,
      "outputs": [
        {
          "output_type": "execute_result",
          "data": {
            "text/plain": [
              "(0.0, 47414.1)"
            ]
          },
          "metadata": {
            "tags": []
          },
          "execution_count": 221
        },
        {
          "output_type": "display_data",
          "data": {
            "image/png": "[encoded data removed]",
            "text/plain": [
              "<Figure size 864x720 with 1 Axes>"
            ]
          },
          "metadata": {
            "tags": [],
            "needs_background": "light"
          }
        }
      ]
    },
    {
      "cell_type": "markdown",
      "metadata": {
        "id": "HzrtlvA2oSgN",
        "colab_type": "text"
      },
      "source": [
        "\n",
        "Comparing the regression plot of \"peak-rpm\" and \"highway-mpg\" we see that the points for \"highway-mpg\" are much closer to the generated line and on the average decrease. The points for \"peak-rpm\" have more spread around the predicted line, and it is much harder to determine if the points are decreasing or increasing as the \"highway-mpg\" increases."
      ]
    },
    {
      "cell_type": "markdown",
      "metadata": {
        "id": "Sbo0gyYaoXeu",
        "colab_type": "text"
      },
      "source": [
        "#### 2. Residual Plot\n",
        "A good way to visualize the variance of the data is to use a residual plot.\n",
        "\n",
        "What is a residual?\n",
        "\n",
        "The difference between the observed value (y) and the predicted value (Yhat) is called the residual (e). When we look at a regression plot, the residual is the distance from the data point to the fitted regression line.\n",
        "\n",
        "So what is a residual plot?\n",
        "\n",
        "A residual plot is a graph that shows the residuals on the vertical y-axis and the independent variable on the horizontal x-axis.\n",
        "\n",
        "What do we pay attention to when looking at a residual plot?\n",
        "\n",
        "We look at the spread of the residuals:\n",
        "\n",
        "- If the points in a residual plot are randomly spread out around the x-axis, then a linear model is appropriate for the data. Why is that? Randomly spread out residuals means that the variance is constant, and thus the linear model is a good fit for this data."
      ]
    },
    {
      "cell_type": "code",
      "metadata": {
        "id": "-Gtx8uiNob-v",
        "colab_type": "code",
        "colab": {
          "base_uri": "https://localhost:8080/",
          "height": 606
        },
        "outputId": "04089ca4-393c-4b9a-b410-6ec538f2d5fd"
      },
      "source": [
        "width = 12\n",
        "height = 10\n",
        "plt.figure(figsize=(width, height))\n",
        "sns.residplot(df['highway-mpg'], df['price'])\n",
        "plt.show()"
      ],
      "execution_count": 222,
      "outputs": [
        {
          "output_type": "display_data",
          "data": {
            "image/png": "[encoded data removed]",
            "text/plain": [
              "<Figure size 864x720 with 1 Axes>"
            ]
          },
          "metadata": {
            "tags": [],
            "needs_background": "light"
          }
        }
      ]
    },
    {
      "cell_type": "markdown",
      "metadata": {
        "id": "R8cRetXaogFA",
        "colab_type": "text"
      },
      "source": [
        "We can see from this residual plot that the residuals are not randomly spread around the x-axis, which leads us to believe that maybe a non-linear model is more appropriate for this data."
      ]
    },
    {
      "cell_type": "markdown",
      "metadata": {
        "id": "nHNKJsPpolY0",
        "colab_type": "text"
      },
      "source": [
        "#### 3. Multiple Linear Regression\n",
        "How do we visualize a model for Multiple Linear Regression? This gets a bit more complicated because you can't visualize it with regression or residual plot.\n",
        "\n",
        "One way to look at the fit of the model is by looking at the distribution plot: We can look at the distribution of the fitted values that result from the model and compare it to the distribution of the actual values.\n",
        "\n",
        "First lets make a prediction"
      ]
    },
    {
      "cell_type": "code",
      "metadata": {
        "id": "wasO0K91onP2",
        "colab_type": "code",
        "colab": {
          "base_uri": "https://localhost:8080/",
          "height": 621
        },
        "outputId": "b0fcd674-d36c-48e4-ee4a-2aa8c5b9627e"
      },
      "source": [
        "Y_hat = lm.predict(Z)\n",
        "\n",
        "plt.figure(figsize=(width, height))\n",
        "\n",
        "\n",
        "ax1 = sns.distplot(df['price'], hist=False, color=\"r\", label=\"Actual Value\")\n",
        "sns.distplot(Yhat, hist=False, color=\"b\", label=\"Fitted Values\" , ax=ax1)\n",
        "\n",
        "\n",
        "plt.title('Actual vs Fitted Values for Price')\n",
        "plt.xlabel('Price (in dollars)')\n",
        "plt.ylabel('Proportion of Cars')\n",
        "\n",
        "plt.show()\n",
        "plt.close()"
      ],
      "execution_count": 223,
      "outputs": [
        {
          "output_type": "display_data",
          "data": {
            "image/png": "[encoded data removed]",
            "text/plain": [
              "<Figure size 864x720 with 1 Axes>"
            ]
          },
          "metadata": {
            "tags": [],
            "needs_background": "light"
          }
        }
      ]
    },
    {
      "cell_type": "markdown",
      "metadata": {
        "id": "RCCY6uaEovmG",
        "colab_type": "text"
      },
      "source": [
        "## 13. Polynomial Regression and Pipelines\n",
        "\n",
        "Polynomial regression is a particular case of the general linear regression model or multiple linear regression models.\n",
        "\n",
        "We get non-linear relationships by squaring or setting higher-order terms of the predictor variables.\n",
        "\n",
        "There are different orders of polynomial regression:\n",
        "\n",
        "Quadratic - 2nd order\n",
        "𝑌ℎ𝑎𝑡=𝑎+𝑏1𝑋2+𝑏2𝑋2\n",
        " \n",
        "Cubic - 3rd order\n",
        "𝑌ℎ𝑎𝑡=𝑎+𝑏1𝑋2+𝑏2𝑋2+𝑏3𝑋3\n",
        "Higher order:\n",
        "𝑌=𝑎+𝑏1𝑋2+𝑏2𝑋2+𝑏3𝑋3....\n",
        "We saw earlier that a linear model did not provide the best fit while using highway-mpg as the predictor variable. Let's see if we can try fitting a polynomial model to the data instead.\n",
        "\n",
        "We will use the following function to plot the data:"
      ]
    },
    {
      "cell_type": "code",
      "metadata": {
        "id": "4h7ywT1Eo17g",
        "colab_type": "code",
        "colab": {}
      },
      "source": [
        "def PlotPolly(model, independent_variable, dependent_variabble, Name):\n",
        "    x_new = np.linspace(15, 55, 100)\n",
        "    y_new = model(x_new)\n",
        "\n",
        "    plt.plot(independent_variable, dependent_variabble, '.', x_new, y_new, '-')\n",
        "    plt.title('Polynomial Fit with Matplotlib for Price ~ Length')\n",
        "    ax = plt.gca()\n",
        "    ax.set_facecolor((0.898, 0.898, 0.898))\n",
        "    fig = plt.gcf()\n",
        "    plt.xlabel(Name)\n",
        "    plt.ylabel('Price of Cars')\n",
        "\n",
        "    plt.show()\n",
        "    plt.close()"
      ],
      "execution_count": 224,
      "outputs": []
    },
    {
      "cell_type": "code",
      "metadata": {
        "id": "FAToReAMo2uO",
        "colab_type": "code",
        "colab": {}
      },
      "source": [
        "#get variables\n",
        "x = df['highway-mpg']\n",
        "y = df['price']"
      ],
      "execution_count": 225,
      "outputs": []
    },
    {
      "cell_type": "code",
      "metadata": {
        "id": "ZfdXa42to5y5",
        "colab_type": "code",
        "colab": {
          "base_uri": "https://localhost:8080/",
          "height": 52
        },
        "outputId": "76539bd7-5c38-434a-9cba-42b62ed8c291"
      },
      "source": [
        "#Let's fit the polynomial using the function polyfit, then use the function poly1d to display the polynomial function.\n",
        "# Here we use a polynomial of the 3rd order (cubic) \n",
        "f = np.polyfit(x, y, 3)\n",
        "p = np.poly1d(f)\n",
        "print(p)"
      ],
      "execution_count": 226,
      "outputs": [
        {
          "output_type": "stream",
          "text": [
            "        3         2\n",
            "-1.557 x + 204.8 x - 8965 x + 1.379e+05\n"
          ],
          "name": "stdout"
        }
      ]
    },
    {
      "cell_type": "code",
      "metadata": {
        "id": "7FPKjs-QpDdA",
        "colab_type": "code",
        "colab": {
          "base_uri": "https://localhost:8080/",
          "height": 295
        },
        "outputId": "d2372e84-38b0-41cf-e8a2-ceb6c10c6f72"
      },
      "source": [
        "PlotPolly(p, x, y, 'highway-mpg')"
      ],
      "execution_count": 227,
      "outputs": [
        {
          "output_type": "display_data",
          "data": {
            "image/png": "[encoded data removed]",
            "text/plain": [
              "<Figure size 432x288 with 1 Axes>"
            ]
          },
          "metadata": {
            "tags": [],
            "needs_background": "light"
          }
        }
      ]
    },
    {
      "cell_type": "code",
      "metadata": {
        "id": "RlOcFL0npFES",
        "colab_type": "code",
        "colab": {
          "base_uri": "https://localhost:8080/",
          "height": 35
        },
        "outputId": "78f49846-ae1a-4ea0-b5f0-dc22a19ec2fb"
      },
      "source": [
        "np.polyfit(x, y, 3)"
      ],
      "execution_count": 228,
      "outputs": [
        {
          "output_type": "execute_result",
          "data": {
            "text/plain": [
              "array([-1.55663829e+00,  2.04754306e+02, -8.96543312e+03,  1.37923594e+05])"
            ]
          },
          "metadata": {
            "tags": []
          },
          "execution_count": 228
        }
      ]
    },
    {
      "cell_type": "markdown",
      "metadata": {
        "id": "aNn4WBG9pI9V",
        "colab_type": "text"
      },
      "source": [
        "#### 1. The analytical expression for Multivariate Polynomial function gets complicated. For example, the expression for a second-order (degree=2)polynomial with two variables is given by:\n",
        "\n",
        "𝑌ℎ𝑎𝑡=𝑎+𝑏1𝑋1+𝑏2𝑋2+𝑏3𝑋1𝑋2+𝑏4𝑋21+𝑏5𝑋22\n",
        " \n",
        "We can perform a polynomial transform on multiple features. First, we import the module:"
      ]
    },
    {
      "cell_type": "code",
      "metadata": {
        "id": "ZioRR0vYpM3N",
        "colab_type": "code",
        "colab": {}
      },
      "source": [
        "from sklearn.preprocessing import PolynomialFeatures"
      ],
      "execution_count": 229,
      "outputs": []
    },
    {
      "cell_type": "code",
      "metadata": {
        "id": "rn7fjO7RpRaY",
        "colab_type": "code",
        "colab": {
          "base_uri": "https://localhost:8080/",
          "height": 52
        },
        "outputId": "07708f89-7d08-4c44-da77-b27ca8621df9"
      },
      "source": [
        "pr=PolynomialFeatures(degree=2)\n",
        "pr"
      ],
      "execution_count": 230,
      "outputs": [
        {
          "output_type": "execute_result",
          "data": {
            "text/plain": [
              "PolynomialFeatures(degree=2, include_bias=True, interaction_only=False,\n",
              "                   order='C')"
            ]
          },
          "metadata": {
            "tags": []
          },
          "execution_count": 230
        }
      ]
    },
    {
      "cell_type": "code",
      "metadata": {
        "id": "f7UKsCpOpTEv",
        "colab_type": "code",
        "colab": {}
      },
      "source": [
        "Z_pr=pr.fit_transform(Z)"
      ],
      "execution_count": 231,
      "outputs": []
    },
    {
      "cell_type": "code",
      "metadata": {
        "id": "n2yGHIa3pWCf",
        "colab_type": "code",
        "colab": {
          "base_uri": "https://localhost:8080/",
          "height": 35
        },
        "outputId": "ff75749d-214f-4926-cf69-842842b3d437"
      },
      "source": [
        "#The original data is of 201 samples and 4 features\n",
        "Z.shape"
      ],
      "execution_count": 232,
      "outputs": [
        {
          "output_type": "execute_result",
          "data": {
            "text/plain": [
              "(201, 4)"
            ]
          },
          "metadata": {
            "tags": []
          },
          "execution_count": 232
        }
      ]
    },
    {
      "cell_type": "code",
      "metadata": {
        "id": "qTyMAKl3pZao",
        "colab_type": "code",
        "colab": {
          "base_uri": "https://localhost:8080/",
          "height": 35
        },
        "outputId": "3ee962b5-82d5-4480-e61a-c9a04415b79b"
      },
      "source": [
        "#after the transformation, there 201 samples and 15 features\n",
        "Z_pr.shape"
      ],
      "execution_count": 233,
      "outputs": [
        {
          "output_type": "execute_result",
          "data": {
            "text/plain": [
              "(201, 15)"
            ]
          },
          "metadata": {
            "tags": []
          },
          "execution_count": 233
        }
      ]
    },
    {
      "cell_type": "markdown",
      "metadata": {
        "id": "I6rM7fCxpd_e",
        "colab_type": "text"
      },
      "source": [
        "#### 2. Pipeline\n",
        "Data Pipelines simplify the steps of processing the data. We use the module Pipeline to create a pipeline. We also use StandardScaler as a step in our pipeline."
      ]
    },
    {
      "cell_type": "code",
      "metadata": {
        "id": "vZkFkVERphFr",
        "colab_type": "code",
        "colab": {}
      },
      "source": [
        "from sklearn.pipeline import Pipeline\n",
        "from sklearn.preprocessing import StandardScaler"
      ],
      "execution_count": 234,
      "outputs": []
    },
    {
      "cell_type": "code",
      "metadata": {
        "id": "WkMmlJ9gpkI7",
        "colab_type": "code",
        "colab": {}
      },
      "source": [
        "#We create the pipeline, by creating a list of tuples including the name of the model or estimator and its corresponding constructor.\n",
        "Input=[('scale',StandardScaler()), ('polynomial', PolynomialFeatures(include_bias=False)), ('model',LinearRegression())]"
      ],
      "execution_count": 235,
      "outputs": []
    },
    {
      "cell_type": "code",
      "metadata": {
        "id": "yz3JfsPGpm1y",
        "colab_type": "code",
        "colab": {
          "base_uri": "https://localhost:8080/",
          "height": 191
        },
        "outputId": "550e7018-e016-421b-af76-86dc36c40b64"
      },
      "source": [
        "pipe=Pipeline(Input)\n",
        "pipe"
      ],
      "execution_count": 236,
      "outputs": [
        {
          "output_type": "execute_result",
          "data": {
            "text/plain": [
              "Pipeline(memory=None,\n",
              "         steps=[('scale',\n",
              "                 StandardScaler(copy=True, with_mean=True, with_std=True)),\n",
              "                ('polynomial',\n",
              "                 PolynomialFeatures(degree=2, include_bias=False,\n",
              "                                    interaction_only=False, order='C')),\n",
              "                ('model',\n",
              "                 LinearRegression(copy_X=True, fit_intercept=True, n_jobs=None,\n",
              "                                  normalize=False))],\n",
              "         verbose=False)"
            ]
          },
          "metadata": {
            "tags": []
          },
          "execution_count": 236
        }
      ]
    },
    {
      "cell_type": "code",
      "metadata": {
        "id": "QsfzTQ_dppsI",
        "colab_type": "code",
        "colab": {
          "base_uri": "https://localhost:8080/",
          "height": 191
        },
        "outputId": "a990d055-0cac-4621-e122-66fc6863029d"
      },
      "source": [
        "#We can normalize the data, perform a transform and fit the model simultaneously.\n",
        "pipe.fit(Z,y)"
      ],
      "execution_count": 237,
      "outputs": [
        {
          "output_type": "execute_result",
          "data": {
            "text/plain": [
              "Pipeline(memory=None,\n",
              "         steps=[('scale',\n",
              "                 StandardScaler(copy=True, with_mean=True, with_std=True)),\n",
              "                ('polynomial',\n",
              "                 PolynomialFeatures(degree=2, include_bias=False,\n",
              "                                    interaction_only=False, order='C')),\n",
              "                ('model',\n",
              "                 LinearRegression(copy_X=True, fit_intercept=True, n_jobs=None,\n",
              "                                  normalize=False))],\n",
              "         verbose=False)"
            ]
          },
          "metadata": {
            "tags": []
          },
          "execution_count": 237
        }
      ]
    },
    {
      "cell_type": "code",
      "metadata": {
        "id": "wyp5hVIRpuhw",
        "colab_type": "code",
        "colab": {
          "base_uri": "https://localhost:8080/",
          "height": 35
        },
        "outputId": "60166a0c-7e0f-4009-d499-e702e61bc6c8"
      },
      "source": [
        "#Similarly, we can normalize the data, perform a transform and produce a prediction simultaneously\n",
        "ypipe=pipe.predict(Z)\n",
        "ypipe[0:4]"
      ],
      "execution_count": 238,
      "outputs": [
        {
          "output_type": "execute_result",
          "data": {
            "text/plain": [
              "array([13102.93329646, 13102.93329646, 18226.43450275, 10391.09183955])"
            ]
          },
          "metadata": {
            "tags": []
          },
          "execution_count": 238
        }
      ]
    },
    {
      "cell_type": "markdown",
      "metadata": {
        "id": "SPe2SFQlp_Ek",
        "colab_type": "text"
      },
      "source": [
        "## 14. Measures for In-Sample Evaluation\n",
        "When evaluating our models, not only do we want to visualize the results, but we also want a quantitative measure to determine how accurate the model is.\n",
        "\n",
        "Two very important measures that are often used in Statistics to determine the accuracy of a model are:\n",
        "\n",
        "R^2 / R-squared\n",
        "Mean Squared Error (MSE)\n",
        "R-squared\n",
        "\n",
        "R squared, also known as the coefficient of determination, is a measure to indicate how close the data is to the fitted regression line.\n",
        "\n",
        "The value of the R-squared is the percentage of variation of the response variable (y) that is explained by a linear model.\n",
        "\n",
        "Mean Squared Error (MSE)\n",
        "\n",
        "The Mean Squared Error measures the average of the squares of errors, that is, the difference between actual value (y) and the estimated value (ŷ)."
      ]
    },
    {
      "cell_type": "markdown",
      "metadata": {
        "id": "dtpgM6VmqLpW",
        "colab_type": "text"
      },
      "source": [
        "#### 1. Model 1: Simple Linear Regression"
      ]
    },
    {
      "cell_type": "code",
      "metadata": {
        "id": "AJ_rlK5sqP4b",
        "colab_type": "code",
        "colab": {
          "base_uri": "https://localhost:8080/",
          "height": 35
        },
        "outputId": "dca1511f-22f5-40da-98eb-a1eae0412738"
      },
      "source": [
        "#highway_mpg_fit\n",
        "lm.fit(X, Y)\n",
        "# Find the R^2\n",
        "print('The R-square is: ', lm.score(X, Y))\n",
        "\n",
        "#We can say that ~ 49.659% of the variation of the price is explained by this simple linear model \"horsepower_fit\"."
      ],
      "execution_count": 239,
      "outputs": [
        {
          "output_type": "stream",
          "text": [
            "The R-square is:  0.4965911884339176\n"
          ],
          "name": "stdout"
        }
      ]
    },
    {
      "cell_type": "code",
      "metadata": {
        "id": "1uX3IjQDqgLf",
        "colab_type": "code",
        "colab": {
          "base_uri": "https://localhost:8080/",
          "height": 35
        },
        "outputId": "b4f7fcad-98f3-4afd-eee4-ab7573bbd500"
      },
      "source": [
        "#We can predict the output i.e., \"yhat\" using the predict method, where X is the input variable:\n",
        "Yhat=lm.predict(X)\n",
        "print('The output of the first four predicted value is: ', Yhat[0:4])"
      ],
      "execution_count": 240,
      "outputs": [
        {
          "output_type": "stream",
          "text": [
            "The output of the first four predicted value is:  [16236.50464347 16236.50464347 17058.23802179 13771.3045085 ]\n"
          ],
          "name": "stdout"
        }
      ]
    },
    {
      "cell_type": "code",
      "metadata": {
        "id": "IBMPgSJPqj7m",
        "colab_type": "code",
        "colab": {
          "base_uri": "https://localhost:8080/",
          "height": 35
        },
        "outputId": "504cabdc-6e85-4452-b2f9-aaae83fd5b0f"
      },
      "source": [
        "from sklearn.metrics import mean_squared_error\n",
        "\n",
        "#we compare the predicted results with the actual results\n",
        "mse = mean_squared_error(df['price'], Yhat)\n",
        "print('The mean square error of price and predicted value is: ', mse)"
      ],
      "execution_count": 241,
      "outputs": [
        {
          "output_type": "stream",
          "text": [
            "The mean square error of price and predicted value is:  31635042.944639888\n"
          ],
          "name": "stdout"
        }
      ]
    },
    {
      "cell_type": "markdown",
      "metadata": {
        "id": "widqq0uequVt",
        "colab_type": "text"
      },
      "source": [
        "#### 2. Model 2: Multiple Linear Regression"
      ]
    },
    {
      "cell_type": "code",
      "metadata": {
        "id": "q9WLCk6xqyow",
        "colab_type": "code",
        "colab": {
          "base_uri": "https://localhost:8080/",
          "height": 35
        },
        "outputId": "d147df2e-ed49-4a01-9816-04976859bcb3"
      },
      "source": [
        "# fit the model \n",
        "lm.fit(Z, df['price'])\n",
        "# Find the R^2\n",
        "print('The R-square is: ', lm.score(Z, df['price']))\n",
        "\n",
        "#We can say that ~ 80.896 % of the variation of price is explained by this multiple linear regression \"multi_fit\"."
      ],
      "execution_count": 242,
      "outputs": [
        {
          "output_type": "stream",
          "text": [
            "The R-square is:  0.8093732522175299\n"
          ],
          "name": "stdout"
        }
      ]
    },
    {
      "cell_type": "code",
      "metadata": {
        "id": "jW9LB-FXq2rl",
        "colab_type": "code",
        "colab": {
          "base_uri": "https://localhost:8080/",
          "height": 35
        },
        "outputId": "10e632e2-7674-4dc8-c24d-1392c9b37f9c"
      },
      "source": [
        "Y_predict_multifit = lm.predict(Z)\n",
        "print('The mean square error of price and predicted value using multifit is: ', \\\n",
        "      mean_squared_error(df['price'], Y_predict_multifit))"
      ],
      "execution_count": 243,
      "outputs": [
        {
          "output_type": "stream",
          "text": [
            "The mean square error of price and predicted value using multifit is:  11979300.34981888\n"
          ],
          "name": "stdout"
        }
      ]
    },
    {
      "cell_type": "markdown",
      "metadata": {
        "id": "XIh8SErQq76u",
        "colab_type": "text"
      },
      "source": [
        "#### 3. Model 3: Polynomial Fit"
      ]
    },
    {
      "cell_type": "code",
      "metadata": {
        "id": "bbnJbXXgrBmk",
        "colab_type": "code",
        "colab": {
          "base_uri": "https://localhost:8080/",
          "height": 35
        },
        "outputId": "bca6d8c4-fda3-48d7-c621-cf722c96f793"
      },
      "source": [
        "from sklearn.metrics import r2_score\n",
        "r_squared = r2_score(y, p(x))\n",
        "print('The R-square value is: ', r_squared)"
      ],
      "execution_count": 244,
      "outputs": [
        {
          "output_type": "stream",
          "text": [
            "The R-square value is:  0.674194666390652\n"
          ],
          "name": "stdout"
        }
      ]
    },
    {
      "cell_type": "code",
      "metadata": {
        "id": "AvNFUdSWrD6_",
        "colab_type": "code",
        "colab": {
          "base_uri": "https://localhost:8080/",
          "height": 35
        },
        "outputId": "e8e5b2df-3a6c-49e6-907f-0c9f0cfa42e6"
      },
      "source": [
        "mean_squared_error(df['price'], p(x))"
      ],
      "execution_count": 245,
      "outputs": [
        {
          "output_type": "execute_result",
          "data": {
            "text/plain": [
              "20474146.426361218"
            ]
          },
          "metadata": {
            "tags": []
          },
          "execution_count": 245
        }
      ]
    },
    {
      "cell_type": "markdown",
      "metadata": {
        "id": "jbltTtysrQSJ",
        "colab_type": "text"
      },
      "source": [
        "Decision Making: Determining a Good Model Fit\n",
        "Now that we have visualized the different models, and generated the R-squared and MSE values for the fits, how do we determine a good model fit?\n",
        "\n",
        "* What is a good R-squared value?\n",
        "\n",
        "When comparing models, the model with the higher R-squared value is a better fit for the data.\n",
        "\n",
        "* What is a good MSE?\n",
        "When comparing models, the model with the smallest MSE value is a better fit for the data.\n",
        "\n",
        "Let's take a look at the values for the different models.\n",
        "1. Simple Linear Regression: Using Highway-mpg as a Predictor Variable of Price.\n",
        "\n",
        "  * R-squared: 0.49659118843391759\n",
        "  * MSE: 3.16 x10^7\n",
        "\n",
        "2. Multiple Linear Regression: Using Horsepower, Curb-weight, Engine-size, and Highway-mpg as Predictor Variables of Price.\n",
        "\n",
        "  * R-squared: 0.80896354913783497\n",
        "  * MSE: 1.2 x10^7\n",
        "\n",
        "3. Polynomial Fit: Using Highway-mpg as a Predictor Variable of Price.\n",
        "\n",
        "  * R-squared: 0.6741946663906514\n",
        "  * MSE: 2.05 x 10^7\n",
        "\n",
        "* Simple Linear Regression model (SLR) vs Multiple Linear Regression model (MLR)\n",
        "Usually, the more variables you have, the better your model is at predicting, but this is not always true. Sometimes you may not have enough data, you may run into numerical problems, or many of the variables may not be useful and or even act as noise. As a result, you should always check the MSE and R^2.\n",
        "\n",
        "  So to be able to compare the results of the MLR vs SLR models, we look at a combination of both the R-squared and MSE to make the best conclusion about the fit of the model.\n",
        "\n",
        "  MSEThe MSE of SLR is 3.16x10^7 while MLR has an MSE of 1.2 x10^7. The MSE of MLR is much smaller.\n",
        "  R-squared: In this case, we can also see that there is a big difference between the R-squared of the SLR and the R-squared of the MLR. The R-squared for the SLR (~0.497) is very small compared to the R-squared for the MLR (~0.809).\n",
        "  This R-squared in combination with the MSE show that MLR seems like the better model fit in this case, compared to SLR.\n",
        "\n",
        "* Simple Linear Model (SLR) vs Polynomial Fit\n",
        "MSE: We can see that Polynomial Fit brought down the MSE, since this MSE is smaller than the one from the SLR.\n",
        "R-squared: The R-squared for the Polyfit is larger than the R-squared for the SLR, so the Polynomial Fit also brought up the R-squared quite a bit.\n",
        "Since the Polynomial Fit resulted in a lower MSE and a higher R-squared, we can conclude that this was a better fit model than the simple linear regression for predicting Price with Highway-mpg as a predictor variable.\n",
        "\n",
        "* Multiple Linear Regression (MLR) vs Polynomial Fit\n",
        "MSE: The MSE for the MLR is smaller than the MSE for the Polynomial Fit.\n",
        "R-squared: The R-squared for the MLR is also much larger than for the Polynomial Fit.\n",
        "Conclusion:\n",
        "Comparing these three models, we conclude that the MLR model is the best model to be able to predict price from our dataset. This result makes sense, since we have 27 variables in total, and we know that more than one of those variables are potential predictors of the final car price."
      ]
    },
    {
      "cell_type": "markdown",
      "metadata": {
        "id": "LBb5_g-bsxet",
        "colab_type": "text"
      },
      "source": [
        "## 15. Train and Test Data Split"
      ]
    },
    {
      "cell_type": "code",
      "metadata": {
        "id": "Nw0QVDp5tUj3",
        "colab_type": "code",
        "colab": {}
      },
      "source": [
        "y_data = df['price']\n",
        "\n",
        "x_data=df.drop('price',axis=1)"
      ],
      "execution_count": 246,
      "outputs": []
    },
    {
      "cell_type": "code",
      "metadata": {
        "id": "qcI2bqtjtaxo",
        "colab_type": "code",
        "colab": {
          "base_uri": "https://localhost:8080/",
          "height": 52
        },
        "outputId": "ff5ebeec-dbd0-401f-c97f-013daee4e1b8"
      },
      "source": [
        "#Now we randomly split our data into training and testing data using the function train_test_split.\n",
        "#The test_size parameter sets the proportion of data that is split into the testing set. \n",
        "#In the above, the testing set is set to 10% of the total dataset.\n",
        "\n",
        "from sklearn.model_selection import train_test_split\n",
        "\n",
        "\n",
        "x_train, x_test, y_train, y_test = train_test_split(x_data, y_data, test_size=0.15, random_state=1)\n",
        "\n",
        "\n",
        "print(\"number of test samples :\", x_test.shape[0])\n",
        "print(\"number of training samples:\",x_train.shape[0])\n"
      ],
      "execution_count": 247,
      "outputs": [
        {
          "output_type": "stream",
          "text": [
            "number of test samples : 31\n",
            "number of training samples: 170\n"
          ],
          "name": "stdout"
        }
      ]
    },
    {
      "cell_type": "markdown",
      "metadata": {
        "id": "AtrjU2vTtpQj",
        "colab_type": "text"
      },
      "source": [
        "#### 1. Linear Regression"
      ]
    },
    {
      "cell_type": "code",
      "metadata": {
        "id": "iBUOu92Btrq3",
        "colab_type": "code",
        "colab": {
          "base_uri": "https://localhost:8080/",
          "height": 35
        },
        "outputId": "55149f83-3ab6-4c55-cc09-bdc49f0cff43"
      },
      "source": [
        "lre=LinearRegression()\n",
        "lre.fit(x_train[['horsepower']], y_train)\n",
        "lre.score(x_test[['horsepower']], y_test)"
      ],
      "execution_count": 248,
      "outputs": [
        {
          "output_type": "execute_result",
          "data": {
            "text/plain": [
              "0.7076967079117262"
            ]
          },
          "metadata": {
            "tags": []
          },
          "execution_count": 248
        }
      ]
    },
    {
      "cell_type": "code",
      "metadata": {
        "id": "PN9nBHkptwws",
        "colab_type": "code",
        "colab": {
          "base_uri": "https://localhost:8080/",
          "height": 35
        },
        "outputId": "0f70918b-835d-4d47-ff06-465452801f06"
      },
      "source": [
        "lre.score(x_train[['horsepower']], y_train)"
      ],
      "execution_count": 249,
      "outputs": [
        {
          "output_type": "execute_result",
          "data": {
            "text/plain": [
              "0.6450110239384647"
            ]
          },
          "metadata": {
            "tags": []
          },
          "execution_count": 249
        }
      ]
    },
    {
      "cell_type": "markdown",
      "metadata": {
        "id": "CHCYJulstzIA",
        "colab_type": "text"
      },
      "source": [
        "#### 2. Cross-validation score"
      ]
    },
    {
      "cell_type": "code",
      "metadata": {
        "id": "9E2xgucAt3IP",
        "colab_type": "code",
        "colab": {
          "base_uri": "https://localhost:8080/",
          "height": 35
        },
        "outputId": "20d7ddaa-8a5c-414a-faed-83c4d537c4d6"
      },
      "source": [
        "from sklearn.model_selection import cross_val_score\n",
        "Rcross = cross_val_score(lre, x_data[['horsepower']], y_data, cv=4)\n",
        "Rcross"
      ],
      "execution_count": 250,
      "outputs": [
        {
          "output_type": "execute_result",
          "data": {
            "text/plain": [
              "array([0.77465419, 0.51718424, 0.74814454, 0.04825398])"
            ]
          },
          "metadata": {
            "tags": []
          },
          "execution_count": 250
        }
      ]
    },
    {
      "cell_type": "code",
      "metadata": {
        "id": "ZhClvTs_t6fY",
        "colab_type": "code",
        "colab": {
          "base_uri": "https://localhost:8080/",
          "height": 35
        },
        "outputId": "25f067d2-e2ec-4448-f680-55e88856ac41"
      },
      "source": [
        "#We can calculate the average and standard deviation of our estimate:\n",
        "print(\"The mean of the folds are\", Rcross.mean(), \"and the standard deviation is\" , Rcross.std())\n"
      ],
      "execution_count": 251,
      "outputs": [
        {
          "output_type": "stream",
          "text": [
            "The mean of the folds are 0.5220592359225414 and the standard deviation is 0.29130480666118436\n"
          ],
          "name": "stdout"
        }
      ]
    },
    {
      "cell_type": "code",
      "metadata": {
        "id": "kxf2scNAt8M_",
        "colab_type": "code",
        "colab": {
          "base_uri": "https://localhost:8080/",
          "height": 35
        },
        "outputId": "dd35fa3c-2e98-446c-df03-2c9da6c0a64c"
      },
      "source": [
        "#We can use negative squared error as a score by setting the parameter 'scoring' metric to 'neg_mean_squared_error'.\n",
        "print(\"The mean of the folds are\", Rcross.mean(), \"and the standard deviation is\" , Rcross.std())\n"
      ],
      "execution_count": 252,
      "outputs": [
        {
          "output_type": "stream",
          "text": [
            "The mean of the folds are 0.5220592359225414 and the standard deviation is 0.29130480666118436\n"
          ],
          "name": "stdout"
        }
      ]
    },
    {
      "cell_type": "markdown",
      "metadata": {
        "id": "LJOBIeCnuGqW",
        "colab_type": "text"
      },
      "source": [
        "You can also use the function 'cross_val_predict' to predict the output. The function splits up the data into the specified number of folds, using one fold to get a prediction while the rest of the folds are used as test data. First import the function:"
      ]
    },
    {
      "cell_type": "code",
      "metadata": {
        "id": "SaeWjPoruHD5",
        "colab_type": "code",
        "colab": {}
      },
      "source": [
        "from sklearn.model_selection import cross_val_predict"
      ],
      "execution_count": 253,
      "outputs": []
    },
    {
      "cell_type": "code",
      "metadata": {
        "id": "N0qzcQw3uLG8",
        "colab_type": "code",
        "colab": {
          "base_uri": "https://localhost:8080/",
          "height": 52
        },
        "outputId": "9b471c6c-dedb-455c-b3e9-d99bd1751dff"
      },
      "source": [
        "yhat = cross_val_predict(lre,x_data[['horsepower']], y_data,cv=4)\n",
        "yhat[0:5]"
      ],
      "execution_count": 254,
      "outputs": [
        {
          "output_type": "execute_result",
          "data": {
            "text/plain": [
              "array([14142.23793549, 14142.23793549, 20815.3029844 , 12745.549902  ,\n",
              "       14762.9881726 ])"
            ]
          },
          "metadata": {
            "tags": []
          },
          "execution_count": 254
        }
      ]
    },
    {
      "cell_type": "markdown",
      "metadata": {
        "id": "pciwSG7guO2l",
        "colab_type": "text"
      },
      "source": [
        "#### 3. Overfitting and Underfitting\n",
        "\n",
        "It turns out that the test data sometimes referred to as the out of sample data is a much better measure of how well your model performs in the real world. One reason for this is overfitting; let's go over some examples. It turns out these differences are more apparent in Multiple Linear Regression and Polynomial Regression so we will explore overfitting in that context."
      ]
    },
    {
      "cell_type": "code",
      "metadata": {
        "id": "BS7hwYLXujK3",
        "colab_type": "code",
        "colab": {
          "base_uri": "https://localhost:8080/",
          "height": 52
        },
        "outputId": "1ccb2982-b468-4d20-d464-c339338843b6"
      },
      "source": [
        "#create Multiple linear regression objects and \n",
        "#train the model using 'horsepower', 'curb-weight', 'engine-size' and 'highway-mpg' as features.\n",
        "\n",
        "lr = LinearRegression()\n",
        "lr.fit(x_train[['horsepower', 'curb-weight', 'engine-size', 'highway-mpg']], y_train)\n",
        "\n",
        "#prediction using train data\n",
        "yhat_train = lr.predict(x_train[['horsepower', 'curb-weight', 'engine-size', 'highway-mpg']])\n",
        "yhat_train[0:5]\n",
        "\n",
        "#prediction using test data\n",
        "yhat_test = lr.predict(x_test[['horsepower', 'curb-weight', 'engine-size', 'highway-mpg']])\n",
        "yhat_test[0:5]"
      ],
      "execution_count": 255,
      "outputs": [
        {
          "output_type": "execute_result",
          "data": {
            "text/plain": [
              "array([11349.48964574,  5914.6130239 , 11243.35261505,  6661.95904136,\n",
              "       15555.94734434])"
            ]
          },
          "metadata": {
            "tags": []
          },
          "execution_count": 255
        }
      ]
    },
    {
      "cell_type": "markdown",
      "metadata": {
        "id": "mNFCN-kevJ9N",
        "colab_type": "text"
      },
      "source": [
        "* Figure 1: Plot of predicted values using the training data compared to the training data.\n",
        "\n",
        "So far the model seems to be doing well in learning from the training dataset. But what happens when the model encounters new data from the testing dataset? When the model generates new values from the test data, we see the distribution of the predicted values is much different from the actual target values."
      ]
    },
    {
      "cell_type": "code",
      "metadata": {
        "id": "lfvhxPxmzQru",
        "colab_type": "code",
        "colab": {}
      },
      "source": [
        "def DistributionPlot(RedFunction, BlueFunction, RedName, BlueName, Title):\n",
        "    width = 12\n",
        "    height = 10\n",
        "    plt.figure(figsize=(width, height))\n",
        "\n",
        "    ax1 = sns.distplot(RedFunction, hist=False, color=\"r\", label=RedName)\n",
        "    ax2 = sns.distplot(BlueFunction, hist=False, color=\"b\", label=BlueName, ax=ax1)\n",
        "\n",
        "    plt.title(Title)\n",
        "    plt.xlabel('Price (in dollars)')\n",
        "    plt.ylabel('Proportion of Cars')\n",
        "\n",
        "    plt.show()\n",
        "    plt.close()\n",
        "\n",
        "    "
      ],
      "execution_count": 256,
      "outputs": []
    },
    {
      "cell_type": "code",
      "metadata": {
        "id": "gbeWXNgFzol7",
        "colab_type": "code",
        "colab": {}
      },
      "source": [
        "def PollyPlot(xtrain, xtest, y_train, y_test, lr,poly_transform):\n",
        "    width = 12\n",
        "    height = 10\n",
        "    plt.figure(figsize=(width, height))\n",
        "    \n",
        "    \n",
        "    #training data \n",
        "    #testing data \n",
        "    # lr:  linear regression object \n",
        "    #poly_transform:  polynomial transformation object \n",
        " \n",
        "    xmax=max([xtrain.values.max(), xtest.values.max()])\n",
        "\n",
        "    xmin=min([xtrain.values.min(), xtest.values.min()])\n",
        "\n",
        "    x=np.arange(xmin, xmax, 0.1)\n",
        "\n",
        "\n",
        "    plt.plot(xtrain, y_train, 'ro', label='Training Data')\n",
        "    plt.plot(xtest, y_test, 'go', label='Test Data')\n",
        "    plt.plot(x, lr.predict(poly_transform.fit_transform(x.reshape(-1, 1))), label='Predicted Function')\n",
        "    plt.ylim([-10000, 60000])\n",
        "    plt.ylabel('Price')\n",
        "    plt.legend()"
      ],
      "execution_count": 257,
      "outputs": []
    },
    {
      "cell_type": "code",
      "metadata": {
        "id": "aH5esupUu4P5",
        "colab_type": "code",
        "colab": {
          "base_uri": "https://localhost:8080/",
          "height": 621
        },
        "outputId": "0902e145-6592-46ce-a3b1-c091761133eb"
      },
      "source": [
        "#Let's examine the distribution of the predicted values of the training data.\n",
        "Title = 'Distribution  Plot of  Predicted Value Using Training Data vs Training Data Distribution'\n",
        "DistributionPlot(y_train, yhat_train, \"Actual Values (Train)\", \"Predicted Values (Train)\", Title)"
      ],
      "execution_count": 258,
      "outputs": [
        {
          "output_type": "display_data",
          "data": {
            "image/png": "[encoded data removed]",
            "text/plain": [
              "<Figure size 864x720 with 1 Axes>"
            ]
          },
          "metadata": {
            "tags": [],
            "needs_background": "light"
          }
        }
      ]
    },
    {
      "cell_type": "markdown",
      "metadata": {
        "id": "TIKdyb4RvPLl",
        "colab_type": "text"
      },
      "source": [
        "* Figur 2: Plot of predicted value using the test data compared to the test data.\n",
        "\n",
        "Comparing Figure 1 and Figure 2; it is evident the distribution of the test data in Figure 1 is much better at fitting the data. This difference in Figure 2 is apparent where the ranges are from 5000 to 15 000. This is where the distribution shape is exceptionally different. Let's see if polynomial regression also exhibits a drop in the prediction accuracy when analysing the test dataset."
      ]
    },
    {
      "cell_type": "code",
      "metadata": {
        "id": "G4YounlEvSL1",
        "colab_type": "code",
        "colab": {
          "base_uri": "https://localhost:8080/",
          "height": 621
        },
        "outputId": "297e18c7-8810-4def-9d2a-5891baf8ff62"
      },
      "source": [
        "Title='Distribution  Plot of  Predicted Value Using Test Data vs Data Distribution of Test Data'\n",
        "DistributionPlot(y_test,yhat_test,\"Actual Values (Test)\",\"Predicted Values (Test)\",Title)"
      ],
      "execution_count": 259,
      "outputs": [
        {
          "output_type": "display_data",
          "data": {
            "image/png": "[encoded data removed]",
            "text/plain": [
              "<Figure size 864x720 with 1 Axes>"
            ]
          },
          "metadata": {
            "tags": [],
            "needs_background": "light"
          }
        }
      ]
    },
    {
      "cell_type": "markdown",
      "metadata": {
        "id": "Ds4bF7W9vglX",
        "colab_type": "text"
      },
      "source": [
        "Comparing Figure 1 and Figure 2; it is evident the distribution of the test data in Figure 1 is much better at fitting the data. This difference in Figure 2 is apparent where the ranges are from 5000 to 15 000. This is where the distribution shape is exceptionally different. Let's see if polynomial regression also exhibits a drop in the prediction accuracy when analysing the test dataset."
      ]
    },
    {
      "cell_type": "markdown",
      "metadata": {
        "id": "4e46X8mUvkRa",
        "colab_type": "text"
      },
      "source": [
        "#### 1. Overfitting\n",
        "Overfitting occurs when the model fits the noise, not the underlying process. Therefore when testing your model using the test-set, your model does not perform as well as it is modelling noise, not the underlying process that generated the relationship. Let's create a degree 5 polynomial model."
      ]
    },
    {
      "cell_type": "code",
      "metadata": {
        "id": "UFqhH2-hvm4y",
        "colab_type": "code",
        "colab": {}
      },
      "source": [
        "x_train, x_test, y_train, y_test = train_test_split(x_data, y_data, test_size=0.45, random_state=0)"
      ],
      "execution_count": 260,
      "outputs": []
    },
    {
      "cell_type": "code",
      "metadata": {
        "id": "e0NWnqnAvqK_",
        "colab_type": "code",
        "colab": {
          "base_uri": "https://localhost:8080/",
          "height": 52
        },
        "outputId": "2bab637a-3b7e-4697-c97d-ab386212f1d5"
      },
      "source": [
        "#We will perform a degree 5 polynomial transformation on the feature 'horse power'.\n",
        "pr = PolynomialFeatures(degree=5)\n",
        "x_train_pr = pr.fit_transform(x_train[['horsepower']])\n",
        "x_test_pr = pr.fit_transform(x_test[['horsepower']])\n",
        "pr"
      ],
      "execution_count": 261,
      "outputs": [
        {
          "output_type": "execute_result",
          "data": {
            "text/plain": [
              "PolynomialFeatures(degree=5, include_bias=True, interaction_only=False,\n",
              "                   order='C')"
            ]
          },
          "metadata": {
            "tags": []
          },
          "execution_count": 261
        }
      ]
    },
    {
      "cell_type": "code",
      "metadata": {
        "id": "-DwvVqP9vxAu",
        "colab_type": "code",
        "colab": {
          "base_uri": "https://localhost:8080/",
          "height": 35
        },
        "outputId": "730eeed5-d2b3-4202-99b4-2b1f35e7ca72"
      },
      "source": [
        "# let's create a linear regression model \"poly\" and train it.\n",
        "poly = LinearRegression()\n",
        "poly.fit(x_train_pr, y_train)"
      ],
      "execution_count": 262,
      "outputs": [
        {
          "output_type": "execute_result",
          "data": {
            "text/plain": [
              "LinearRegression(copy_X=True, fit_intercept=True, n_jobs=None, normalize=False)"
            ]
          },
          "metadata": {
            "tags": []
          },
          "execution_count": 262
        }
      ]
    },
    {
      "cell_type": "code",
      "metadata": {
        "id": "m78VuBcQvyrA",
        "colab_type": "code",
        "colab": {
          "base_uri": "https://localhost:8080/",
          "height": 52
        },
        "outputId": "431ebb10-a465-4351-f3ff-139fe9d4ab0c"
      },
      "source": [
        "#We can see the output of our model using the method \"predict.\" then assign the values to \"yhat\".\n",
        "yhat = poly.predict(x_test_pr)\n",
        "yhat[0:5]"
      ],
      "execution_count": 263,
      "outputs": [
        {
          "output_type": "execute_result",
          "data": {
            "text/plain": [
              "array([ 6727.58219945,  7306.70943225, 12213.70783901, 18895.03307984,\n",
              "       19996.8349332 ])"
            ]
          },
          "metadata": {
            "tags": []
          },
          "execution_count": 263
        }
      ]
    },
    {
      "cell_type": "code",
      "metadata": {
        "id": "SjYl6Y2yv-jq",
        "colab_type": "code",
        "colab": {
          "base_uri": "https://localhost:8080/",
          "height": 52
        },
        "outputId": "8b88f141-960d-4b5f-ce21-40b4cf724677"
      },
      "source": [
        "#Let's take the first five predicted values and compare it to the actual targets.\n",
        "print(\"Predicted values:\", yhat[0:4])\n",
        "print(\"True values:\", y_test[0:4].values)"
      ],
      "execution_count": 264,
      "outputs": [
        {
          "output_type": "stream",
          "text": [
            "Predicted values: [ 6727.58219945  7306.70943225 12213.70783901 18895.03307984]\n",
            "True values: [ 6295. 10698. 13860. 13499.]\n"
          ],
          "name": "stdout"
        }
      ]
    },
    {
      "cell_type": "code",
      "metadata": {
        "id": "8gQM2auAwDOc",
        "colab_type": "code",
        "colab": {
          "base_uri": "https://localhost:8080/",
          "height": 595
        },
        "outputId": "b9e36c7d-e30c-40bc-967d-54c7ace0defc"
      },
      "source": [
        "#We will use the function \"PollyPlot\" that we defined at the beginning of the lab to display the training data, \n",
        "#testing data, and the predicted function.\n",
        "\n",
        "# Figur 4 A polynomial regression model, red dots represent training data, green dots represent test data,\n",
        "# and the blue line represents the model prediction.\n",
        "PollyPlot(x_train[['horsepower']], x_test[['horsepower']], y_train, y_test, poly,pr)\n",
        "\n",
        "#We see that the estimated function appears to track the data but around 200 horsepower, the function begins to diverge from the data points."
      ],
      "execution_count": 265,
      "outputs": [
        {
          "output_type": "display_data",
          "data": {
            "image/png": "[encoded data removed]",
            "text/plain": [
              "<Figure size 864x720 with 1 Axes>"
            ]
          },
          "metadata": {
            "tags": [],
            "needs_background": "light"
          }
        }
      ]
    },
    {
      "cell_type": "code",
      "metadata": {
        "id": "spkNvV9ewS2M",
        "colab_type": "code",
        "colab": {
          "base_uri": "https://localhost:8080/",
          "height": 35
        },
        "outputId": "86c67ef4-ce03-44b1-bda9-ab883d0c87bb"
      },
      "source": [
        "#R^2 of the training data:\n",
        "poly.score(x_train_pr, y_train)"
      ],
      "execution_count": 266,
      "outputs": [
        {
          "output_type": "execute_result",
          "data": {
            "text/plain": [
              "0.5568527853920224"
            ]
          },
          "metadata": {
            "tags": []
          },
          "execution_count": 266
        }
      ]
    },
    {
      "cell_type": "code",
      "metadata": {
        "id": "hSkNM_mDwV9K",
        "colab_type": "code",
        "colab": {
          "base_uri": "https://localhost:8080/",
          "height": 35
        },
        "outputId": "75d68641-b591-49e2-eb72-9519f13455cb"
      },
      "source": [
        "#R^2 of the test data\n",
        "poly.score(x_test_pr, y_test)\n",
        "\n",
        "#We see the R^2 for the training data is 0.5567 while the R^2 on the test data was -29.87.\n",
        "# The lower the R^2, the worse the model, a Negative R^2 is a sign of overfitting."
      ],
      "execution_count": 267,
      "outputs": [
        {
          "output_type": "execute_result",
          "data": {
            "text/plain": [
              "-29.815556299616325"
            ]
          },
          "metadata": {
            "tags": []
          },
          "execution_count": 267
        }
      ]
    },
    {
      "cell_type": "code",
      "metadata": {
        "id": "FuMeR7Qkwlb7",
        "colab_type": "code",
        "colab": {
          "base_uri": "https://localhost:8080/",
          "height": 313
        },
        "outputId": "5abc431f-0c25-4284-9a0e-4efe5b344df9"
      },
      "source": [
        "#Let's see how the R^2 changes on the test data for different order polynomials and plot the results:\n",
        "Rsqu_test = []\n",
        "\n",
        "order = [1, 2, 3, 4]\n",
        "for n in order:\n",
        "    pr = PolynomialFeatures(degree=n)\n",
        "    \n",
        "    x_train_pr = pr.fit_transform(x_train[['horsepower']])\n",
        "    \n",
        "    x_test_pr = pr.fit_transform(x_test[['horsepower']])    \n",
        "    \n",
        "    lr.fit(x_train_pr, y_train)\n",
        "    \n",
        "    Rsqu_test.append(lr.score(x_test_pr, y_test))\n",
        "\n",
        "plt.plot(order, Rsqu_test)\n",
        "plt.xlabel('order')\n",
        "plt.ylabel('R^2')\n",
        "plt.title('R^2 Using Test Data')\n",
        "plt.text(3, 0.75, 'Maximum R^2 ')   \n",
        "\n",
        "#We see the R^2 gradually increases until an order three polynomial is used. Then the R^2 dramatically decreases at four."
      ],
      "execution_count": 268,
      "outputs": [
        {
          "output_type": "execute_result",
          "data": {
            "text/plain": [
              "Text(3, 0.75, 'Maximum R^2 ')"
            ]
          },
          "metadata": {
            "tags": []
          },
          "execution_count": 268
        },
        {
          "output_type": "display_data",
          "data": {
            "image/png": "[encoded data removed]",
            "text/plain": [
              "<Figure size 432x288 with 1 Axes>"
            ]
          },
          "metadata": {
            "tags": [],
            "needs_background": "light"
          }
        }
      ]
    },
    {
      "cell_type": "code",
      "metadata": {
        "id": "O-FcjGMlz3Od",
        "colab_type": "code",
        "colab": {}
      },
      "source": [
        "from IPython.display import display\n",
        "from IPython.html import widgets \n",
        "from IPython.display import display\n",
        "from ipywidgets import interact, interactive, fixed, interact_manual"
      ],
      "execution_count": 269,
      "outputs": []
    },
    {
      "cell_type": "code",
      "metadata": {
        "id": "izhy9YN5wow0",
        "colab_type": "code",
        "colab": {
          "base_uri": "https://localhost:8080/",
          "height": 677,
          "referenced_widgets": [
            "8a0c9955fcb74e42ae3c24b351ccadf2",
            "7126f6770a6e483ab89ed928a9ade659",
            "c0f195b7a800424e873e3ec915cc4a22",
            "cca74cc9e7fa4061a145f487ec8f5174",
            "6117f4a2038e43b883bb588ece9325fe",
            "aa16512d25f44096a84b6c1eabe06b46",
            "e214c556f9154f5b859d5da8b6583317",
            "6fd8cfd6633040818fed37883d70de2c",
            "e4bc37a08f7d46b990fd37fd588f1ae2",
            "44db2e39e45e4d5f84666fc8488b2afa"
          ]
        },
        "outputId": "3347c145-5500-4e5f-c765-d4fceb47b756"
      },
      "source": [
        "def f(order, test_data):\n",
        "    x_train, x_test, y_train, y_test = train_test_split(x_data, y_data, test_size=test_data, random_state=0)\n",
        "    pr = PolynomialFeatures(degree=order)\n",
        "    x_train_pr = pr.fit_transform(x_train[['horsepower']])\n",
        "    x_test_pr = pr.fit_transform(x_test[['horsepower']])\n",
        "    poly = LinearRegression()\n",
        "    poly.fit(x_train_pr,y_train)\n",
        "    PollyPlot(x_train[['horsepower']], x_test[['horsepower']], y_train,y_test, poly, pr)\n",
        "\n",
        "#The following interface allows you to experiment with different polynomial orders and different amounts of data.\n",
        "interact(f, order=(0, 6, 1), test_data=(0.05, 0.95, 0.05))"
      ],
      "execution_count": 270,
      "outputs": [
        {
          "output_type": "display_data",
          "data": {
            "application/vnd.jupyter.widget-view+json": {
              "model_id": "8a0c9955fcb74e42ae3c24b351ccadf2",
              "version_minor": 0,
              "version_major": 2
            },
            "text/plain": [
              "interactive(children=(IntSlider(value=3, description='order', max=6), FloatSlider(value=0.45, description='tes…"
            ]
          },
          "metadata": {
            "tags": []
          }
        },
        {
          "output_type": "execute_result",
          "data": {
            "text/plain": [
              "<function __main__.f>"
            ]
          },
          "metadata": {
            "tags": []
          },
          "execution_count": 270
        }
      ]
    },
    {
      "cell_type": "markdown",
      "metadata": {
        "id": "Kc58taCUw4QR",
        "colab_type": "text"
      },
      "source": [
        "#### 2. Ridge Regression\n"
      ]
    },
    {
      "cell_type": "code",
      "metadata": {
        "id": "DVxL7nKaxHDI",
        "colab_type": "code",
        "colab": {
          "base_uri": "https://localhost:8080/",
          "height": 107
        },
        "outputId": "25805d06-c6cc-4efa-c5cf-8aa7e957b293"
      },
      "source": [
        "#Let's perform a degree two polynomial transformation on our data.\n",
        "pr=PolynomialFeatures(degree=2)\n",
        "x_train_pr=pr.fit_transform(x_train[['horsepower', 'curb-weight', 'engine-size', 'highway-mpg','normalized-losses','symboling']])\n",
        "x_test_pr=pr.fit_transform(x_test[['horsepower', 'curb-weight', 'engine-size', 'highway-mpg','normalized-losses','symboling']])\n",
        "\n",
        "#Let's import Ridge from the module linear models.\n",
        "from sklearn.linear_model import Ridge\n",
        "\n",
        "#Let's create a Ridge regression object, setting the regularization parameter to 0.1\n",
        "RigeModel=Ridge(alpha=0.1)\n",
        "\n",
        "#Like regular regression, you can fit the model using the method fit.\n",
        "RigeModel.fit(x_train_pr, y_train)\n",
        "\n",
        "#Similarly, you can obtain a prediction:\n",
        "yhat = RigeModel.predict(x_test_pr)\n",
        "\n",
        "#Let's compare the first five predicted samples to our test set\n",
        "print('predicted:', yhat[0:4])\n",
        "print('test set :', y_test[0:4].values)"
      ],
      "execution_count": 271,
      "outputs": [
        {
          "output_type": "stream",
          "text": [
            "predicted: [ 6569.10080596  9595.9695303  20834.19869602 19347.43557722]\n",
            "test set : [ 6295. 10698. 13860. 13499.]\n"
          ],
          "name": "stdout"
        },
        {
          "output_type": "stream",
          "text": [
            "/usr/local/lib/python3.6/dist-packages/sklearn/linear_model/_ridge.py:148: LinAlgWarning: Ill-conditioned matrix (rcond=1.02972e-16): result may not be accurate.\n",
            "  overwrite_a=True).T\n"
          ],
          "name": "stderr"
        }
      ]
    },
    {
      "cell_type": "code",
      "metadata": {
        "id": "kfMVcS1Jxg6Z",
        "colab_type": "code",
        "colab": {}
      },
      "source": [
        "#We select the value of Alfa that minimizes the test error, for example, we can use a for loop.\n",
        "Rsqu_test = []\n",
        "Rsqu_train = []\n",
        "dummy1 = []\n",
        "ALFA = 10 * np.array(range(0,1000))\n",
        "for alfa in ALFA:\n",
        "    RigeModel = Ridge(alpha=alfa) \n",
        "    RigeModel.fit(x_train_pr, y_train)\n",
        "    Rsqu_test.append(RigeModel.score(x_test_pr, y_test))\n",
        "    Rsqu_train.append(RigeModel.score(x_train_pr, y_train))"
      ],
      "execution_count": 272,
      "outputs": []
    },
    {
      "cell_type": "code",
      "metadata": {
        "id": "1PZYqVU6xlas",
        "colab_type": "code",
        "colab": {
          "base_uri": "https://localhost:8080/",
          "height": 623
        },
        "outputId": "b5352042-d513-48d5-f545-31ba8163aae1"
      },
      "source": [
        "\n",
        "#We can plot out the value of R^2 for different Alphaswidth = 12\n",
        "height = 10\n",
        "plt.figure(figsize=(width, height))\n",
        "\n",
        "plt.plot(ALFA,Rsqu_test, label='validation data  ')\n",
        "plt.plot(ALFA,Rsqu_train, 'r', label='training Data ')\n",
        "plt.xlabel('alpha')\n",
        "plt.ylabel('R^2')\n",
        "plt.legend()"
      ],
      "execution_count": 273,
      "outputs": [
        {
          "output_type": "execute_result",
          "data": {
            "text/plain": [
              "<matplotlib.legend.Legend at 0x7fb7d1e34b70>"
            ]
          },
          "metadata": {
            "tags": []
          },
          "execution_count": 273
        },
        {
          "output_type": "display_data",
          "data": {
            "image/png": "[encoded data removed]",
            "text/plain": [
              "<Figure size 864x720 with 1 Axes>"
            ]
          },
          "metadata": {
            "tags": [],
            "needs_background": "light"
          }
        }
      ]
    },
    {
      "cell_type": "markdown",
      "metadata": {
        "id": "dLDB1qlsxt56",
        "colab_type": "text"
      },
      "source": [
        "#### 3. Grid Search\n",
        "\n",
        "The term Alfa is a hyperparameter, sklearn has the class GridSearchCV to make the process of finding the best hyperparameter simpler."
      ]
    },
    {
      "cell_type": "code",
      "metadata": {
        "id": "NbGxfrdFxzI0",
        "colab_type": "code",
        "colab": {
          "base_uri": "https://localhost:8080/",
          "height": 35
        },
        "outputId": "d12c82ed-6eba-4a78-9c13-2af82dca6219"
      },
      "source": [
        "from sklearn.model_selection import GridSearchCV\n",
        "parameters1= [{'alpha': [0.001,0.1,1, 10, 100, 1000, 10000, 100000, 100000]}]\n",
        "parameters1"
      ],
      "execution_count": 274,
      "outputs": [
        {
          "output_type": "execute_result",
          "data": {
            "text/plain": [
              "[{'alpha': [0.001, 0.1, 1, 10, 100, 1000, 10000, 100000, 100000]}]"
            ]
          },
          "metadata": {
            "tags": []
          },
          "execution_count": 274
        }
      ]
    },
    {
      "cell_type": "code",
      "metadata": {
        "id": "ouSjvQZtx1PR",
        "colab_type": "code",
        "colab": {
          "base_uri": "https://localhost:8080/",
          "height": 52
        },
        "outputId": "38b42ca6-08b5-46f4-9046-5ff8400b2bc0"
      },
      "source": [
        "#Create a ridge regions object:\n",
        "RR=Ridge()\n",
        "RR"
      ],
      "execution_count": 275,
      "outputs": [
        {
          "output_type": "execute_result",
          "data": {
            "text/plain": [
              "Ridge(alpha=1.0, copy_X=True, fit_intercept=True, max_iter=None,\n",
              "      normalize=False, random_state=None, solver='auto', tol=0.001)"
            ]
          },
          "metadata": {
            "tags": []
          },
          "execution_count": 275
        }
      ]
    },
    {
      "cell_type": "code",
      "metadata": {
        "id": "bkgFzNa7x441",
        "colab_type": "code",
        "colab": {}
      },
      "source": [
        "#Create a ridge grid search object\n",
        "Grid1 = GridSearchCV(RR, parameters1,cv=4)"
      ],
      "execution_count": 276,
      "outputs": []
    },
    {
      "cell_type": "code",
      "metadata": {
        "id": "nzF3Ex28x9T4",
        "colab_type": "code",
        "colab": {
          "base_uri": "https://localhost:8080/",
          "height": 173
        },
        "outputId": "11ace987-8f69-4080-b43f-4c6f903c7199"
      },
      "source": [
        "#Fit the model\n",
        "Grid1.fit(x_data[['horsepower', 'curb-weight', 'engine-size', 'highway-mpg']], y_data)"
      ],
      "execution_count": 277,
      "outputs": [
        {
          "output_type": "execute_result",
          "data": {
            "text/plain": [
              "GridSearchCV(cv=4, error_score=nan,\n",
              "             estimator=Ridge(alpha=1.0, copy_X=True, fit_intercept=True,\n",
              "                             max_iter=None, normalize=False, random_state=None,\n",
              "                             solver='auto', tol=0.001),\n",
              "             iid='deprecated', n_jobs=None,\n",
              "             param_grid=[{'alpha': [0.001, 0.1, 1, 10, 100, 1000, 10000, 100000,\n",
              "                                    100000]}],\n",
              "             pre_dispatch='2*n_jobs', refit=True, return_train_score=False,\n",
              "             scoring=None, verbose=0)"
            ]
          },
          "metadata": {
            "tags": []
          },
          "execution_count": 277
        }
      ]
    },
    {
      "cell_type": "code",
      "metadata": {
        "id": "cQATGr49yB34",
        "colab_type": "code",
        "colab": {
          "base_uri": "https://localhost:8080/",
          "height": 52
        },
        "outputId": "d5e66623-ee88-4079-dcf0-41b3b0bd884f"
      },
      "source": [
        "#The object finds the best parameter values on the validation data. \n",
        "#We can obtain the estimator with the best parameters and assign it to the variable BestRR as follows:\n",
        "BestRR=Grid1.best_estimator_\n",
        "BestRR"
      ],
      "execution_count": 278,
      "outputs": [
        {
          "output_type": "execute_result",
          "data": {
            "text/plain": [
              "Ridge(alpha=10000, copy_X=True, fit_intercept=True, max_iter=None,\n",
              "      normalize=False, random_state=None, solver='auto', tol=0.001)"
            ]
          },
          "metadata": {
            "tags": []
          },
          "execution_count": 278
        }
      ]
    },
    {
      "cell_type": "code",
      "metadata": {
        "id": "Msvop2i2yQvr",
        "colab_type": "code",
        "colab": {
          "base_uri": "https://localhost:8080/",
          "height": 35
        },
        "outputId": "07ed1f4a-9293-4ace-f78b-bbf5c756e39f"
      },
      "source": [
        "#test our model on test data\n",
        "BestRR.score(x_test[['horsepower', 'curb-weight', 'engine-size', 'highway-mpg']], y_test)"
      ],
      "execution_count": 279,
      "outputs": [
        {
          "output_type": "execute_result",
          "data": {
            "text/plain": [
              "0.8411781387793232"
            ]
          },
          "metadata": {
            "tags": []
          },
          "execution_count": 279
        }
      ]
    }
  ]
}